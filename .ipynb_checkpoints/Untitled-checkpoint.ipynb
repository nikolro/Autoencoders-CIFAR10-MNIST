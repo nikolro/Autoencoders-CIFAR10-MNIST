{
 "cells": [
  {
   "cell_type": "code",
   "execution_count": null,
   "id": "c2b91c84-5869-4414-8536-2f4e4e7c10be",
   "metadata": {},
   "outputs": [],
   "source": [
    "# General Libraries\n",
    "import torch\n",
    "import torch.nn as nn\n",
    "import torch.optim as optim\n",
    "import torchvision.transforms as transforms\n",
    "import torchvision.datasets as datasets\n",
    "from torch.utils.data import DataLoader\n",
    "import numpy as np\n",
    "import random\n",
    "import matplotlib.pyplot as plt\n",
    "\n",
    "# Import t-SNE for visualization\n",
    "from sklearn.manifold import TSNE\n",
    "\n",
    "# Import utility function for t-SNE plotting\n",
    "from utils import plot_tsne\n",
    "\n",
    "# Import the models from your scripts\n",
    "import MNIST_121\n",
    "import MNIST_122\n",
    "import CIFAR10_121\n",
    "import CIFAR10_122\n"
   ]
  },
  {
   "cell_type": "code",
   "execution_count": null,
   "id": "8ecbe10b-d44d-4d3b-8cf8-5b2dcf579455",
   "metadata": {},
   "outputs": [],
   "source": []
  }
 ],
 "metadata": {
  "kernelspec": {
   "display_name": "Python 3 (ipykernel)",
   "language": "python",
   "name": "python3"
  },
  "language_info": {
   "codemirror_mode": {
    "name": "ipython",
    "version": 3
   },
   "file_extension": ".py",
   "mimetype": "text/x-python",
   "name": "python",
   "nbconvert_exporter": "python",
   "pygments_lexer": "ipython3",
   "version": "3.9.0"
  }
 },
 "nbformat": 4,
 "nbformat_minor": 5
}
