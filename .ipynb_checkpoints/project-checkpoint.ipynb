{
 "cells": [
  {
   "cell_type": "code",
   "execution_count": null,
   "id": "ddab139d-f343-40c9-9509-6cbc89093a91",
   "metadata": {},
   "outputs": [],
   "source": [
    "# Initialize and Import Required Modules"
   ]
  },
  {
   "cell_type": "code",
   "execution_count": 3,
   "id": "c2b91c84-5869-4414-8536-2f4e4e7c10be",
   "metadata": {},
   "outputs": [],
   "source": [
    "# General Libraries\n",
    "import torch\n",
    "import argparse\n",
    "import numpy as np\n",
    "import random\n",
    "import matplotlib.pyplot as plt\n",
    "from torch.utils.data import DataLoader\n"
   ]
  },
  {
   "cell_type": "code",
   "execution_count": 1,
   "id": "a2373d50-b953-432d-b72f-5afaee44e7f4",
   "metadata": {},
   "outputs": [],
   "source": [
    "\n",
    "\n",
    "# Test mnist 121\n",
    "\n"
   ]
  },
  {
   "cell_type": "code",
   "execution_count": null,
   "id": "c3e15c0f-d312-4acf-8ee3-2a4becf88365",
   "metadata": {},
   "outputs": [],
   "source": [
    "# Import the MNIST Autoencoder file\n",
    "import MNIST_121  \n",
    "\n",
    "# Set device\n",
    "device = \"cuda\" if torch.cuda.is_available() else \"cpu\"\n",
    "\n",
    "# Define arguments\n",
    "args = argparse.Namespace(\n",
    "    data_path=\"./data\",\n",
    "    batch_size=8,\n",
    "    latent_dim=128,\n",
    "    device=device\n",
    ")"
   ]
  },
  {
   "cell_type": "code",
   "execution_count": null,
   "id": "dff0b5b8-8e7b-42a1-8c82-a77737c4eefc",
   "metadata": {},
   "outputs": [],
   "source": [
    "#Load the Dataset and Check It"
   ]
  },
  {
   "cell_type": "code",
   "execution_count": 4,
   "id": "710c0e86-7eef-4f8e-a0a0-7ba4afb6fa07",
   "metadata": {},
   "outputs": [
    {
     "name": "stderr",
     "output_type": "stream",
     "text": [
      "100.0%\n",
      "100.0%\n",
      "100.0%\n",
      "100.0%\n"
     ]
    },
    {
     "data": {
      "image/png": "[encoded data removed]",
      "text/plain": [
       "<Figure size 1200x400 with 8 Axes>"
      ]
     },
     "metadata": {},
     "output_type": "display_data"
    }
   ],
   "source": [
    "# Load dataset\n",
    "train_loader, val_loader, test_loader = MNIST_121.load_data(args)\n",
    "\n",
    "# Retrieve a batch of images\n",
    "images, _ = next(iter(train_loader))\n",
    "\n",
    "# Visualize some images\n",
    "fig, axes = plt.subplots(1, 8, figsize=(12, 4))\n",
    "for i in range(8):\n",
    "    img = images[i].squeeze()\n",
    "    img = img.numpy()\n",
    "    axes[i].imshow(img, cmap=\"gray\")\n",
    "    axes[i].axis(\"off\")\n",
    "plt.show()"
   ]
  },
  {
   "cell_type": "code",
   "execution_count": null,
   "id": "386b56fb-3c14-466d-abc7-d508ea5d2a77",
   "metadata": {},
   "outputs": [],
   "source": [
    "#Verify the Autoencoder Model Architecture"
   ]
  },
  {
   "cell_type": "code",
   "execution_count": null,
   "id": "822be85a-7dc4-435a-acc2-95d9285294bd",
   "metadata": {},
   "outputs": [],
   "source": [
    "# Initialize model\n",
    "model = MNIST_121.Autoencoder(args.latent_dim).to(args.device)\n",
    "\n",
    "# Print model summary\n",
    "print(model)"
   ]
  },
  {
   "cell_type": "code",
   "execution_count": null,
   "id": "e231c79c-d687-4344-83b3-432beb2a9403",
   "metadata": {},
   "outputs": [],
   "source": [
    "#Run a Single Forward Pass"
   ]
  },
  {
   "cell_type": "code",
   "execution_count": null,
   "id": "89eb996c-53ef-4718-bd7b-53b9fabf4581",
   "metadata": {},
   "outputs": [],
   "source": [
    "# Test forward pass\n",
    "images, _ = next(iter(train_loader))\n",
    "images = images.to(args.device)\n",
    "reconstructed = model(images)\n",
    "\n",
    "print(f\"Input shape: {images.shape}\")\n",
    "print(f\"Output shape: {reconstructed.shape}\")"
   ]
  },
  {
   "cell_type": "code",
   "execution_count": null,
   "id": "5c95db66-1ac3-4629-b66c-7801b2ff14ef",
   "metadata": {},
   "outputs": [],
   "source": [
    "#Train for One Epoch to Check Loss Computation"
   ]
  },
  {
   "cell_type": "code",
   "execution_count": null,
   "id": "fad8b4e0-3c6c-41f4-9e5e-1ba5de87662d",
   "metadata": {},
   "outputs": [],
   "source": [
    "MNIST_121.train_autoencoder(model, train_loader, val_loader, args, epochs=1)"
   ]
  },
  {
   "cell_type": "code",
   "execution_count": null,
   "id": "1ff363fb-0c53-4ba9-862c-5f510491a175",
   "metadata": {},
   "outputs": [],
   "source": [
    "#Verify Reconstruction"
   ]
  },
  {
   "cell_type": "code",
   "execution_count": null,
   "id": "c5c18891-4b01-40fe-89fd-496a9b93c68a",
   "metadata": {},
   "outputs": [],
   "source": [
    "# Get a test batch\n",
    "images, _ = next(iter(test_loader))\n",
    "images = images.to(args.device)\n",
    "\n",
    "# Generate reconstructed images\n",
    "reconstructed = model(images).detach().cpu()\n",
    "\n",
    "# Plot original vs reconstructed images\n",
    "fig, axes = plt.subplots(2, 8, figsize=(12, 4))\n",
    "for i in range(8):\n",
    "    axes[0, i].imshow(images[i].squeeze().cpu().numpy(), cmap=\"gray\")\n",
    "    axes[0, i].axis(\"off\")\n",
    "    axes[1, i].imshow(reconstructed[i].squeeze().numpy(), cmap=\"gray\")\n",
    "    axes[1, i].axis(\"off\")\n",
    "\n",
    "axes[0, 0].set_title(\"Original\", fontsize=12)\n",
    "axes[1, 0].set_title(\"Reconstructed\", fontsize=12)\n",
    "plt.show()"
   ]
  },
  {
   "cell_type": "code",
   "execution_count": null,
   "id": "3d5e60b0-5cbb-4689-b88b-ad41f43049e6",
   "metadata": {},
   "outputs": [],
   "source": [
    "\n",
    "\n",
    "# Test mnist 122\n",
    "\n"
   ]
  },
  {
   "cell_type": "code",
   "execution_count": null,
   "id": "4925290c-7b17-4b7a-b8d5-cf155fb9199d",
   "metadata": {},
   "outputs": [],
   "source": [
    "# Import the MNIST_122 module\n",
    "import MNIST_122  \n",
    "\n",
    "# Set device\n",
    "device = \"cuda\" if torch.cuda.is_available() else \"cpu\"\n",
    "\n",
    "# Define arguments\n",
    "args = argparse.Namespace(\n",
    "    data_path=\"./data\",\n",
    "    batch_size=8,\n",
    "    latent_dim=128,\n",
    "    device=device\n",
    ")"
   ]
  },
  {
   "cell_type": "code",
   "execution_count": null,
   "id": "5ff669b9-c38d-473d-8bc1-4a0798225d8f",
   "metadata": {},
   "outputs": [],
   "source": [
    "#Load the Dataset and Check It"
   ]
  },
  {
   "cell_type": "code",
   "execution_count": null,
   "id": "d2b6c66e-f925-4ebc-ae79-0390d70968bb",
   "metadata": {},
   "outputs": [],
   "source": [
    "# Load dataset\n",
    "train_loader, val_loader, test_loader = MNIST_122.load_data(args)\n",
    "\n",
    "# Retrieve a batch of images\n",
    "images, labels = next(iter(train_loader))\n",
    "\n",
    "# Visualize images\n",
    "fig, axes = plt.subplots(1, 8, figsize=(12, 4))\n",
    "for i in range(8):\n",
    "    img = images[i].squeeze()\n",
    "    img = img.numpy()\n",
    "    axes[i].imshow(img, cmap=\"gray\")\n",
    "    axes[i].axis(\"off\")\n",
    "    axes[i].set_title(labels[i].item())\n",
    "plt.show()"
   ]
  },
  {
   "cell_type": "code",
   "execution_count": null,
   "id": "5fef28c5-7f4e-4dc0-86ff-d5cd4debfd4e",
   "metadata": {},
   "outputs": [],
   "source": [
    "#Verify Encoder + Classifier Model"
   ]
  },
  {
   "cell_type": "code",
   "execution_count": null,
   "id": "08f378ac-0981-4525-9337-c6bcf12b1521",
   "metadata": {},
   "outputs": [],
   "source": [
    "# Initialize model\n",
    "model = MNIST_122.Classifier(args.latent_dim).to(args.device)\n",
    "\n",
    "# Print model summary\n",
    "print(model)"
   ]
  },
  {
   "cell_type": "code",
   "execution_count": null,
   "id": "47de05b6-955b-4ecb-b8dc-97478b8349d5",
   "metadata": {},
   "outputs": [],
   "source": [
    "# Run a Forward Pass"
   ]
  },
  {
   "cell_type": "code",
   "execution_count": null,
   "id": "7d798bea-729d-4cbf-be31-08fbd8ef911d",
   "metadata": {},
   "outputs": [],
   "source": [
    "# Test forward pass\n",
    "images, _ = next(iter(train_loader))\n",
    "images = images.to(args.device)\n",
    "outputs = model(images)\n",
    "\n",
    "print(f\"Input shape: {images.shape}\")\n",
    "print(f\"Output shape: {outputs.shape}\")  # Should be [batch_size, 10] for classification"
   ]
  },
  {
   "cell_type": "code",
   "execution_count": null,
   "id": "92596e32-e7a1-46f4-aff9-3deaeeb417a6",
   "metadata": {},
   "outputs": [],
   "source": [
    "# Train for One Epoch"
   ]
  },
  {
   "cell_type": "code",
   "execution_count": null,
   "id": "b6328325-d291-4ac2-8690-03003d51ae67",
   "metadata": {},
   "outputs": [],
   "source": [
    "MNIST_122.train_classifier(model, train_loader, val_loader, args, epochs=1)"
   ]
  },
  {
   "cell_type": "code",
   "execution_count": null,
   "id": "99304eba-6808-4691-97c1-2ea4e0df6a66",
   "metadata": {},
   "outputs": [],
   "source": [
    "# Evaluate Model Performance"
   ]
  },
  {
   "cell_type": "code",
   "execution_count": null,
   "id": "41e2f7bc-c098-48e8-8fbf-f4295fc5c932",
   "metadata": {},
   "outputs": [],
   "source": [
    "def evaluate(model, test_loader):\n",
    "    model.eval()\n",
    "    correct = 0\n",
    "    total = 0\n",
    "    with torch.no_grad():\n",
    "        for images, labels in test_loader:\n",
    "            images, labels = images.to(args.device), labels.to(args.device)\n",
    "            outputs = model(images)\n",
    "            _, predicted = torch.max(outputs, 1)\n",
    "            total += labels.size(0)\n",
    "            correct += (predicted == labels).sum().item()\n",
    "    \n",
    "    accuracy = 100 * correct / total\n",
    "    print(f\"Test Accuracy: {accuracy:.2f}%\")\n",
    "\n",
    "evaluate(model, test_loader)"
   ]
  },
  {
   "cell_type": "code",
   "execution_count": null,
   "id": "cf5e4bb6-64d7-4f18-ba41-3a61c6e839bb",
   "metadata": {},
   "outputs": [],
   "source": [
    "\n",
    "\n",
    "# Test cifar10 121\n",
    "\n"
   ]
  },
  {
   "cell_type": "code",
   "execution_count": null,
   "id": "e441be6c-1533-4649-98bc-623ff9ddbfff",
   "metadata": {},
   "outputs": [],
   "source": [
    "# Import the CIFAR10_121 module\n",
    "import CIFAR10_121  \n",
    "\n",
    "# Set device\n",
    "device = \"cuda\" if torch.cuda.is_available() else \"cpu\"\n",
    "\n",
    "# Define arguments\n",
    "args = argparse.Namespace(\n",
    "    data_path=\"./data\",\n",
    "    batch_size=8,\n",
    "    latent_dim=128,\n",
    "    device=device\n",
    ")"
   ]
  },
  {
   "cell_type": "code",
   "execution_count": null,
   "id": "886e086e-123a-4eb6-85dd-b0e78a61d245",
   "metadata": {},
   "outputs": [],
   "source": [
    "#Load Dataset & Visualize Samples"
   ]
  },
  {
   "cell_type": "code",
   "execution_count": null,
   "id": "b403de97-4b2f-41fd-b06e-96c8d5a628a0",
   "metadata": {},
   "outputs": [],
   "source": [
    "# Load dataset\n",
    "train_loader, val_loader, test_loader = CIFAR10_121.load_data(args)\n",
    "\n",
    "# Retrieve a batch of images\n",
    "images, _ = next(iter(train_loader))\n",
    "\n",
    "# Visualize images\n",
    "fig, axes = plt.subplots(1, 8, figsize=(12, 4))\n",
    "for i in range(8):\n",
    "    img = images[i].permute(1, 2, 0).numpy()  # Convert from PyTorch format to image format\n",
    "    img = (img * 0.5) + 0.5  # Reverse normalization\n",
    "    axes[i].imshow(img)\n",
    "    axes[i].axis(\"off\")\n",
    "plt.show()"
   ]
  },
  {
   "cell_type": "code",
   "execution_count": null,
   "id": "acf93617-7dce-4b13-bb2e-5a14df20e602",
   "metadata": {},
   "outputs": [],
   "source": [
    "#Verify Autoencoder Model"
   ]
  },
  {
   "cell_type": "code",
   "execution_count": null,
   "id": "44e44529-36ee-4b26-beb9-ac210876f812",
   "metadata": {},
   "outputs": [],
   "source": [
    "# Initialize model\n",
    "model = CIFAR10_121.Autoencoder(args.latent_dim).to(args.device)\n",
    "\n",
    "# Print model summary\n",
    "print(model)"
   ]
  },
  {
   "cell_type": "code",
   "execution_count": null,
   "id": "10adb202-bb05-4f7a-82f8-e4ec85500171",
   "metadata": {},
   "outputs": [],
   "source": [
    "#Run a Forward Pass"
   ]
  },
  {
   "cell_type": "code",
   "execution_count": null,
   "id": "9b615121-de0d-477a-b73f-bd752d0cfa48",
   "metadata": {},
   "outputs": [],
   "source": [
    "# Test forward pass\n",
    "images, _ = next(iter(train_loader))\n",
    "images = images.to(args.device)\n",
    "outputs = model(images)\n",
    "\n",
    "print(f\"Input shape: {images.shape}\")\n",
    "print(f\"Output shape: {outputs.shape}\")  # Should match the input shape"
   ]
  },
  {
   "cell_type": "code",
   "execution_count": null,
   "id": "dcc796fd-baef-4a42-902c-4c6e84d2e7b0",
   "metadata": {},
   "outputs": [],
   "source": [
    " #Train for One Epoch"
   ]
  },
  {
   "cell_type": "code",
   "execution_count": null,
   "id": "46980cd9-0ce9-4cf9-9b7d-41b64fc05c7a",
   "metadata": {},
   "outputs": [],
   "source": [
    "CIFAR10_121.train_autoencoder(model, train_loader, val_loader, args, epochs=1)"
   ]
  },
  {
   "cell_type": "code",
   "execution_count": null,
   "id": "2e1c19b1-6e71-4662-bacf-84754b73ebc3",
   "metadata": {},
   "outputs": [],
   "source": [
    "#Evaluate Reconstruction"
   ]
  },
  {
   "cell_type": "code",
   "execution_count": null,
   "id": "9e97aa95-8c2a-4069-ae34-7575621559e3",
   "metadata": {},
   "outputs": [],
   "source": [
    "def visualize_reconstruction(model, test_loader):\n",
    "    model.eval()\n",
    "    images, _ = next(iter(test_loader))\n",
    "    images = images.to(args.device)\n",
    "    \n",
    "    with torch.no_grad():\n",
    "        reconstructions = model(images)\n",
    "\n",
    "    fig, axes = plt.subplots(2, 8, figsize=(12, 4))\n",
    "    \n",
    "    for i in range(8):\n",
    "        # Original image\n",
    "        img = images[i].cpu().permute(1, 2, 0).numpy()\n",
    "        img = (img * 0.5) + 0.5  # Reverse normalization\n",
    "        axes[0, i].imshow(img)\n",
    "        axes[0, i].axis(\"off\")\n",
    "        \n",
    "        # Reconstructed image\n",
    "        recon = reconstructions[i].cpu().permute(1, 2, 0).numpy()\n",
    "        recon = (recon * 0.5) + 0.5\n",
    "        axes[1, i].imshow(recon)\n",
    "        axes[1, i].axis(\"off\")\n",
    "    \n",
    "    axes[0, 0].set_title(\"Original\")\n",
    "    axes[1, 0].set_title(\"Reconstructed\")\n",
    "    plt.show()\n",
    "\n",
    "visualize_reconstruction(model, test_loader)"
   ]
  },
  {
   "cell_type": "code",
   "execution_count": null,
   "id": "32073bc5-11ee-4530-8ef9-3bb1acbf85cf",
   "metadata": {},
   "outputs": [],
   "source": [
    "\n",
    "\n",
    "# Test cifar10 122\n",
    "\n"
   ]
  },
  {
   "cell_type": "code",
   "execution_count": null,
   "id": "862bdcdd-93f0-4dc0-bef1-3367a9bec3db",
   "metadata": {},
   "outputs": [],
   "source": [
    "# Import the CIFAR10_122 module\n",
    "import CIFAR10_122  \n",
    "\n",
    "# Set device\n",
    "device = \"cuda\" if torch.cuda.is_available() else \"cpu\"\n",
    "\n",
    "# Define arguments\n",
    "args = argparse.Namespace(\n",
    "    data_path=\"./data\",\n",
    "    batch_size=8,\n",
    "    latent_dim=128,\n",
    "    device=device\n",
    ")"
   ]
  },
  {
   "cell_type": "code",
   "execution_count": null,
   "id": "4857b652-bb19-4a27-b193-fc020934a878",
   "metadata": {},
   "outputs": [],
   "source": [
    "#Load Dataset & Visualize Samples"
   ]
  },
  {
   "cell_type": "code",
   "execution_count": null,
   "id": "10259a86-1fca-423b-b5c1-40d85c7745b5",
   "metadata": {},
   "outputs": [],
   "source": [
    "# Load dataset\n",
    "train_loader, val_loader, test_loader = CIFAR10_122.load_data(args)\n",
    "\n",
    "# Retrieve a batch of images\n",
    "images, _ = next(iter(train_loader))\n",
    "\n",
    "# Visualize images\n",
    "fig, axes = plt.subplots(1, 8, figsize=(12, 4))\n",
    "for i in range(8):\n",
    "    img = images[i].permute(1, 2, 0).numpy()  # Convert from PyTorch format to image format\n",
    "    img = (img * 0.5) + 0.5  # Reverse normalization\n",
    "    axes[i].imshow(img)\n",
    "    axes[i].axis(\"off\")\n",
    "plt.show()"
   ]
  },
  {
   "cell_type": "code",
   "execution_count": null,
   "id": "83c03f9a-27a1-4381-a7b4-5b05c1528bba",
   "metadata": {},
   "outputs": [],
   "source": [
    "#Verify Encoder + Classifier Model"
   ]
  },
  {
   "cell_type": "code",
   "execution_count": null,
   "id": "6a5593dd-cfa4-4ca9-a0a7-5a6a16f7c5a2",
   "metadata": {},
   "outputs": [],
   "source": [
    "# Initialize model\n",
    "model = CIFAR10_122.Classifier(args.latent_dim).to(args.device)\n",
    "\n",
    "# Print model summary\n",
    "print(model)"
   ]
  },
  {
   "cell_type": "code",
   "execution_count": null,
   "id": "d55d0f32-f693-4fcd-b629-abfe355c45b5",
   "metadata": {},
   "outputs": [],
   "source": [
    "#Run a Forward Pass"
   ]
  },
  {
   "cell_type": "code",
   "execution_count": null,
   "id": "3d7d28f5-2468-4f4d-954d-9b7bb692a622",
   "metadata": {},
   "outputs": [],
   "source": [
    "# Test forward pass\n",
    "images, _ = next(iter(train_loader))\n",
    "images = images.to(args.device)\n",
    "outputs = model(images)\n",
    "\n",
    "print(f\"Input shape: {images.shape}\")\n",
    "print(f\"Output shape: {outputs.shape}\")  # Should match (batch_size, 10)"
   ]
  },
  {
   "cell_type": "code",
   "execution_count": null,
   "id": "3466983e-69ef-469e-94fe-eb9e8c7a5a36",
   "metadata": {},
   "outputs": [],
   "source": [
    "#Train for One Epoch"
   ]
  },
  {
   "cell_type": "code",
   "execution_count": null,
   "id": "3a198dfd-f6a7-4db3-aa20-715ffab47ad9",
   "metadata": {},
   "outputs": [],
   "source": [
    "CIFAR10_122.train_classifier(model, train_loader, val_loader, args, epochs=1)"
   ]
  },
  {
   "cell_type": "code",
   "execution_count": null,
   "id": "670db9e2-0c54-407f-86c9-47fff2111bb5",
   "metadata": {},
   "outputs": [],
   "source": [
    "# Evaluate Classification Performance"
   ]
  },
  {
   "cell_type": "code",
   "execution_count": null,
   "id": "0b3b8549-c92d-40dd-9745-602bc3b260fb",
   "metadata": {},
   "outputs": [],
   "source": [
    "def evaluate_classifier(model, test_loader):\n",
    "    model.eval()\n",
    "    correct = 0\n",
    "    total = 0\n",
    "    with torch.no_grad():\n",
    "        for images, labels in test_loader:\n",
    "            images, labels = images.to(args.device), labels.to(args.device)\n",
    "            outputs = model(images)\n",
    "            _, predicted = outputs.max(1)\n",
    "            total += labels.size(0)\n",
    "            correct += predicted.eq(labels).sum().item()\n",
    "    \n",
    "    print(f\"Test Accuracy: {100. * correct / total:.2f}%\")\n",
    "\n",
    "evaluate_classifier(model, test_loader)"
   ]
  },
  {
   "cell_type": "code",
   "execution_count": null,
   "id": "6761f643-989c-4335-8201-dd07e753d77e",
   "metadata": {},
   "outputs": [],
   "source": []
  }
 ],
 "metadata": {
  "kernelspec": {
   "display_name": "Python 3 (ipykernel)",
   "language": "python",
   "name": "python3"
  },
  "language_info": {
   "codemirror_mode": {
    "name": "ipython",
    "version": 3
   },
   "file_extension": ".py",
   "mimetype": "text/x-python",
   "name": "python",
   "nbconvert_exporter": "python",
   "pygments_lexer": "ipython3",
   "version": "3.9.0"
  }
 },
 "nbformat": 4,
 "nbformat_minor": 5
}
