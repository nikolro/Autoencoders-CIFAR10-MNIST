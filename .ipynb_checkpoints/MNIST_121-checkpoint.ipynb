{
 "cells": [
  {
   "cell_type": "code",
   "execution_count": 1,
   "id": "ddab139d-f343-40c9-9509-6cbc89093a91",
   "metadata": {
    "execution": {
     "iopub.execute_input": "2025-02-27T16:44:50.962907Z",
     "iopub.status.busy": "2025-02-27T16:44:50.962219Z",
     "iopub.status.idle": "2025-02-27T16:44:50.969730Z",
     "shell.execute_reply": "2025-02-27T16:44:50.968884Z"
    }
   },
   "outputs": [],
   "source": [
    "# Initialize and Import Required Modules"
   ]
  },
  {
   "cell_type": "code",
   "execution_count": 2,
   "id": "c2b91c84-5869-4414-8536-2f4e4e7c10be",
   "metadata": {
    "execution": {
     "iopub.execute_input": "2025-02-27T16:44:50.973172Z",
     "iopub.status.busy": "2025-02-27T16:44:50.972898Z",
     "iopub.status.idle": "2025-02-27T16:44:53.061799Z",
     "shell.execute_reply": "2025-02-27T16:44:53.060975Z"
    }
   },
   "outputs": [],
   "source": [
    "# General Libraries\n",
    "import torch\n",
    "import argparse\n",
    "import numpy as np\n",
    "import random\n",
    "import matplotlib.pyplot as plt\n",
    "from torch.utils.data import DataLoader\n"
   ]
  },
  {
   "cell_type": "code",
   "execution_count": 3,
   "id": "c3e15c0f-d312-4acf-8ee3-2a4becf88365",
   "metadata": {
    "execution": {
     "iopub.execute_input": "2025-02-27T16:44:53.065688Z",
     "iopub.status.busy": "2025-02-27T16:44:53.065094Z",
     "iopub.status.idle": "2025-02-27T16:44:53.868561Z",
     "shell.execute_reply": "2025-02-27T16:44:53.867758Z"
    }
   },
   "outputs": [],
   "source": [
    "# Import the MNIST Autoencoder file\n",
    "import MNIST_121  \n",
    "\n",
    "# Set device\n",
    "device = \"cuda\" if torch.cuda.is_available() else \"cpu\"\n",
    "\n",
    "# Define arguments\n",
    "args = argparse.Namespace(\n",
    "    data_path=\"./data\",\n",
    "    batch_size=8,\n",
    "    latent_dim=128,\n",
    "    device=device\n",
    ")"
   ]
  },
  {
   "cell_type": "code",
   "execution_count": 4,
   "id": "dff0b5b8-8e7b-42a1-8c82-a77737c4eefc",
   "metadata": {
    "execution": {
     "iopub.execute_input": "2025-02-27T16:44:53.872449Z",
     "iopub.status.busy": "2025-02-27T16:44:53.871985Z",
     "iopub.status.idle": "2025-02-27T16:44:53.875775Z",
     "shell.execute_reply": "2025-02-27T16:44:53.874916Z"
    }
   },
   "outputs": [],
   "source": [
    "#Load the Dataset and Check It"
   ]
  },
  {
   "cell_type": "code",
   "execution_count": 5,
   "id": "710c0e86-7eef-4f8e-a0a0-7ba4afb6fa07",
   "metadata": {
    "execution": {
     "iopub.execute_input": "2025-02-27T16:44:53.878889Z",
     "iopub.status.busy": "2025-02-27T16:44:53.878593Z",
     "iopub.status.idle": "2025-02-27T16:44:54.245534Z",
     "shell.execute_reply": "2025-02-27T16:44:54.244727Z"
    }
   },
   "outputs": [
    {
     "data": {
      "image/png": "[encoded data removed]",
      "text/plain": [
       "<Figure size 1200x400 with 8 Axes>"
      ]
     },
     "metadata": {},
     "output_type": "display_data"
    }
   ],
   "source": [
    "# Load dataset\n",
    "train_loader, val_loader, test_loader = MNIST_121.load_data(args)\n",
    "\n",
    "# Retrieve a batch of images\n",
    "images, _ = next(iter(train_loader))\n",
    "\n",
    "# Visualize some images\n",
    "fig, axes = plt.subplots(1, 8, figsize=(12, 4))\n",
    "for i in range(8):\n",
    "    img = images[i].squeeze()\n",
    "    img = img.numpy()\n",
    "    axes[i].imshow(img, cmap=\"gray\")\n",
    "    axes[i].axis(\"off\")\n",
    "plt.show()"
   ]
  },
  {
   "cell_type": "code",
   "execution_count": 6,
   "id": "386b56fb-3c14-466d-abc7-d508ea5d2a77",
   "metadata": {
    "execution": {
     "iopub.execute_input": "2025-02-27T16:44:54.248954Z",
     "iopub.status.busy": "2025-02-27T16:44:54.248641Z",
     "iopub.status.idle": "2025-02-27T16:44:54.253259Z",
     "shell.execute_reply": "2025-02-27T16:44:54.252583Z"
    }
   },
   "outputs": [],
   "source": [
    "#Verify the Autoencoder Model Architecture"
   ]
  },
  {
   "cell_type": "code",
   "execution_count": 7,
   "id": "822be85a-7dc4-435a-acc2-95d9285294bd",
   "metadata": {
    "execution": {
     "iopub.execute_input": "2025-02-27T16:44:54.256383Z",
     "iopub.status.busy": "2025-02-27T16:44:54.256029Z",
     "iopub.status.idle": "2025-02-27T16:44:56.970090Z",
     "shell.execute_reply": "2025-02-27T16:44:56.969031Z"
    }
   },
   "outputs": [
    {
     "name": "stdout",
     "output_type": "stream",
     "text": [
      "Autoencoder(\n",
      "  (encoder): Sequential(\n",
      "    (0): Conv2d(1, 8, kernel_size=(3, 3), stride=(2, 2), padding=(1, 1))\n",
      "    (1): ReLU()\n",
      "    (2): Conv2d(8, 16, kernel_size=(3, 3), stride=(2, 2), padding=(1, 1))\n",
      "    (3): ReLU()\n",
      "    (4): Flatten(start_dim=1, end_dim=-1)\n",
      "    (5): Linear(in_features=784, out_features=128, bias=True)\n",
      "  )\n",
      "  (decoder): Sequential(\n",
      "    (0): Linear(in_features=128, out_features=784, bias=True)\n",
      "    (1): ReLU()\n",
      "    (2): Unflatten(dim=1, unflattened_size=(16, 7, 7))\n",
      "    (3): ConvTranspose2d(16, 8, kernel_size=(3, 3), stride=(2, 2), padding=(1, 1), output_padding=(1, 1))\n",
      "    (4): ReLU()\n",
      "    (5): ConvTranspose2d(8, 1, kernel_size=(3, 3), stride=(2, 2), padding=(1, 1), output_padding=(1, 1))\n",
      "    (6): Sigmoid()\n",
      "  )\n",
      ")\n"
     ]
    }
   ],
   "source": [
    "# Initialize model\n",
    "model = MNIST_121.Autoencoder(args.latent_dim).to(args.device)\n",
    "\n",
    "# Print model summary\n",
    "print(model)"
   ]
  },
  {
   "cell_type": "code",
   "execution_count": 8,
   "id": "e231c79c-d687-4344-83b3-432beb2a9403",
   "metadata": {
    "execution": {
     "iopub.execute_input": "2025-02-27T16:44:56.973468Z",
     "iopub.status.busy": "2025-02-27T16:44:56.973161Z",
     "iopub.status.idle": "2025-02-27T16:44:56.977809Z",
     "shell.execute_reply": "2025-02-27T16:44:56.976928Z"
    }
   },
   "outputs": [],
   "source": [
    "#Run a Single Forward Pass"
   ]
  },
  {
   "cell_type": "code",
   "execution_count": 9,
   "id": "89eb996c-53ef-4718-bd7b-53b9fabf4581",
   "metadata": {
    "execution": {
     "iopub.execute_input": "2025-02-27T16:44:56.980910Z",
     "iopub.status.busy": "2025-02-27T16:44:56.980674Z",
     "iopub.status.idle": "2025-02-27T16:44:57.830789Z",
     "shell.execute_reply": "2025-02-27T16:44:57.830029Z"
    }
   },
   "outputs": [
    {
     "data": {
      "image/png": "[encoded data removed]",
      "text/plain": [
       "<Figure size 1200x300 with 16 Axes>"
      ]
     },
     "metadata": {},
     "output_type": "display_data"
    }
   ],
   "source": [
    "# Move images to the correct device\n",
    "images = images.to(args.device)\n",
    "\n",
    "# Pass through the autoencoder\n",
    "with torch.no_grad():\n",
    "    recon_images = model(images)\n",
    "\n",
    "# Convert images to CPU for visualization\n",
    "images = images.cpu()\n",
    "recon_images = recon_images.cpu()\n",
    "\n",
    "# Create the figure\n",
    "fig, axes = plt.subplots(2, 8, figsize=(12, 3))\n",
    "plt.subplots_adjust(wspace=0, hspace=0.1)\n",
    "\n",
    "# Add row titles manually\n",
    "fig.suptitle(\"Original (Top) vs Reconstructed (Bottom)\", fontsize=14, y=1.05)\n",
    "\n",
    "for i in range(8):\n",
    "    # Original images\n",
    "    axes[0, i].imshow(images[i].squeeze().numpy(), cmap=\"gray\")\n",
    "    axes[0, i].axis(\"off\")\n",
    "\n",
    "    # Reconstructed images\n",
    "    axes[1, i].imshow(recon_images[i].squeeze().numpy(), cmap=\"gray\")\n",
    "    axes[1, i].axis(\"off\")\n",
    "\n",
    "plt.show()\n"
   ]
  },
  {
   "cell_type": "code",
   "execution_count": 10,
   "id": "5c95db66-1ac3-4629-b66c-7801b2ff14ef",
   "metadata": {
    "execution": {
     "iopub.execute_input": "2025-02-27T16:44:57.834002Z",
     "iopub.status.busy": "2025-02-27T16:44:57.833695Z",
     "iopub.status.idle": "2025-02-27T16:44:57.837172Z",
     "shell.execute_reply": "2025-02-27T16:44:57.836313Z"
    }
   },
   "outputs": [],
   "source": [
    "#Train for One Epoch to Check Loss Computation"
   ]
  },
  {
   "cell_type": "code",
   "execution_count": 11,
   "id": "fad8b4e0-3c6c-41f4-9e5e-1ba5de87662d",
   "metadata": {
    "execution": {
     "iopub.execute_input": "2025-02-27T16:44:57.840474Z",
     "iopub.status.busy": "2025-02-27T16:44:57.840239Z",
     "iopub.status.idle": "2025-02-27T16:46:19.866159Z",
     "shell.execute_reply": "2025-02-27T16:46:19.864827Z"
    }
   },
   "outputs": [
    {
     "name": "stdout",
     "output_type": "stream",
     "text": [
      "Epoch [1/3], Train Loss: 0.0124, Val Loss: 0.0050\n"
     ]
    },
    {
     "name": "stdout",
     "output_type": "stream",
     "text": [
      "Epoch [2/3], Train Loss: 0.0040, Val Loss: 0.0034\n"
     ]
    },
    {
     "name": "stdout",
     "output_type": "stream",
     "text": [
      "Epoch [3/3], Train Loss: 0.0031, Val Loss: 0.0029\n"
     ]
    }
   ],
   "source": [
    "MNIST_121.train_autoencoder(model, train_loader, val_loader, args, epochs=15)"
   ]
  },
  {
   "cell_type": "code",
   "execution_count": 12,
   "id": "1ff363fb-0c53-4ba9-862c-5f510491a175",
   "metadata": {
    "execution": {
     "iopub.execute_input": "2025-02-27T16:46:19.869790Z",
     "iopub.status.busy": "2025-02-27T16:46:19.869452Z",
     "iopub.status.idle": "2025-02-27T16:46:19.874312Z",
     "shell.execute_reply": "2025-02-27T16:46:19.873625Z"
    }
   },
   "outputs": [],
   "source": [
    "#Verify Reconstruction"
   ]
  },
  {
   "cell_type": "code",
   "execution_count": 13,
   "id": "c5c18891-4b01-40fe-89fd-496a9b93c68a",
   "metadata": {
    "execution": {
     "iopub.execute_input": "2025-02-27T16:46:19.877492Z",
     "iopub.status.busy": "2025-02-27T16:46:19.877135Z",
     "iopub.status.idle": "2025-02-27T16:46:20.378761Z",
     "shell.execute_reply": "2025-02-27T16:46:20.378037Z"
    }
   },
   "outputs": [
    {
     "data": {
      "image/png": "[encoded data removed]",
      "text/plain": [
       "<Figure size 1200x400 with 16 Axes>"
      ]
     },
     "metadata": {},
     "output_type": "display_data"
    }
   ],
   "source": [
    "# Move images to the correct device\n",
    "images = images.to(args.device)\n",
    "\n",
    "# Pass images through the autoencoder to get reconstructions\n",
    "with torch.no_grad():\n",
    "    recon_images = model(images)\n",
    "\n",
    "# Convert to CPU for visualization\n",
    "images = images.cpu()\n",
    "recon_images = recon_images.cpu()\n",
    "\n",
    "# Create the figure\n",
    "fig, axes = plt.subplots(2, 8, figsize=(12, 4))  # Adjusted figure size\n",
    "plt.subplots_adjust(wspace=0.1, hspace=0.3)  # Less spacing\n",
    "\n",
    "# Set main title\n",
    "fig.suptitle(\"Original (Top) vs Reconstructed (Bottom)\", fontsize=14, y=1.05)\n",
    "\n",
    "for i in range(8):\n",
    "    # Original images\n",
    "    img = images[i].numpy().transpose(1, 2, 0)  # For RGB images, reorder channels\n",
    "    axes[0, i].imshow(img, cmap=\"gray\" if img.shape[2] == 1 else None)\n",
    "    axes[0, i].axis(\"off\")\n",
    "\n",
    "    # Reconstructed images\n",
    "    recon_img = recon_images[i].numpy().transpose(1, 2, 0)  # Same for recon images\n",
    "    axes[1, i].imshow(recon_img, cmap=\"gray\" if recon_img.shape[2] == 1 else None)\n",
    "    axes[1, i].axis(\"off\")\n",
    "\n",
    "plt.show()\n"
   ]
  },
  {
   "cell_type": "code",
   "execution_count": 14,
   "id": "5e70273a-2e7d-40b9-bcb7-0230c5903f13",
   "metadata": {
    "execution": {
     "iopub.execute_input": "2025-02-27T16:46:20.381886Z",
     "iopub.status.busy": "2025-02-27T16:46:20.381590Z",
     "iopub.status.idle": "2025-02-27T16:46:20.384946Z",
     "shell.execute_reply": "2025-02-27T16:46:20.384099Z"
    }
   },
   "outputs": [],
   "source": [
    "#classifier traning"
   ]
  },
  {
   "cell_type": "code",
   "execution_count": 15,
   "id": "dfbf0dfe-8e47-424a-b29f-dd469dbbf4ad",
   "metadata": {
    "execution": {
     "iopub.execute_input": "2025-02-27T16:46:20.388270Z",
     "iopub.status.busy": "2025-02-27T16:46:20.388036Z",
     "iopub.status.idle": "2025-02-27T16:47:15.093637Z",
     "shell.execute_reply": "2025-02-27T16:47:15.092301Z"
    }
   },
   "outputs": [
    {
     "name": "stdout",
     "output_type": "stream",
     "text": [
      "Epoch [1/3], Train Loss: 0.2757, Train Acc: 91.69%, Val Acc: 95.95%\n"
     ]
    },
    {
     "name": "stdout",
     "output_type": "stream",
     "text": [
      "Epoch [2/3], Train Loss: 0.1690, Train Acc: 94.81%, Val Acc: 96.39%\n"
     ]
    },
    {
     "name": "stdout",
     "output_type": "stream",
     "text": [
      "Epoch [3/3], Train Loss: 0.1467, Train Acc: 95.49%, Val Acc: 96.80%\n"
     ]
    }
   ],
   "source": [
    "classifier = MNIST_121.Classifier(args.latent_dim).to(args.device)\n",
    "MNIST_121.train_classifier(model, classifier, train_loader, val_loader, args, epochs=15)"
   ]
  },
  {
   "cell_type": "code",
   "execution_count": null,
   "id": "6b940ef0-ddc6-49da-b927-d3a547d28243",
   "metadata": {},
   "outputs": [],
   "source": []
  }
 ],
 "metadata": {
  "kernelspec": {
   "display_name": "Python 3 (ipykernel)",
   "language": "python",
   "name": "python3"
  },
  "language_info": {
   "codemirror_mode": {
    "name": "ipython",
    "version": 3
   },
   "file_extension": ".py",
   "mimetype": "text/x-python",
   "name": "python",
   "nbconvert_exporter": "python",
   "pygments_lexer": "ipython3",
   "version": "3.9.0"
  }
 },
 "nbformat": 4,
 "nbformat_minor": 5
}
