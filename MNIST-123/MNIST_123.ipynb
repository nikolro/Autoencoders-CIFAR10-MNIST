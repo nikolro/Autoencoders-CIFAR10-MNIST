{
 "cells": [
  {
   "cell_type": "code",
   "execution_count": 1,
   "id": "ddab139d-f343-40c9-9509-6cbc89093a91",
   "metadata": {},
   "outputs": [],
   "source": [
    "# Initialize and Import Required Modules"
   ]
  },
  {
   "cell_type": "code",
   "execution_count": 2,
   "id": "c2b91c84-5869-4414-8536-2f4e4e7c10be",
   "metadata": {},
   "outputs": [],
   "source": [
    "# General Libraries\n",
    "import torch\n",
    "import argparse\n",
    "import numpy as np\n",
    "import random\n",
    "import matplotlib.pyplot as plt\n",
    "from torch.utils.data import DataLoader\n"
   ]
  },
  {
   "cell_type": "code",
   "execution_count": 3,
   "id": "c3e15c0f-d312-4acf-8ee3-2a4becf88365",
   "metadata": {},
   "outputs": [],
   "source": [
    "# Import the MNIST Autoencoder file\n",
    "import MNIST_123  \n",
    "\n",
    "# Set device\n",
    "device = \"cuda\" if torch.cuda.is_available() else \"cpu\"\n",
    "\n",
    "# Define arguments\n",
    "args = argparse.Namespace(\n",
    "    data_path=\"../data\",\n",
    "    batch_size=64,\n",
    "    latent_dim=128,\n",
    "    device=device\n",
    ")"
   ]
  },
  {
   "cell_type": "code",
   "execution_count": 4,
   "id": "dff0b5b8-8e7b-42a1-8c82-a77737c4eefc",
   "metadata": {},
   "outputs": [],
   "source": [
    "#Load the Dataset and Check It"
   ]
  },
  {
   "cell_type": "code",
   "execution_count": 5,
   "id": "710c0e86-7eef-4f8e-a0a0-7ba4afb6fa07",
   "metadata": {},
   "outputs": [
    {
     "data": {
      "image/png": "[encoded data removed]",
      "text/plain": [
       "<Figure size 1200x400 with 8 Axes>"
      ]
     },
     "metadata": {},
     "output_type": "display_data"
    }
   ],
   "source": [
    "# Load dataset\n",
    "train_loader, val_loader, test_loader = MNIST_123.load_data(args)\n",
    "\n",
    "# Retrieve a batch of images\n",
    "images, _ = next(iter(train_loader))\n",
    "\n",
    "# Visualize some images\n",
    "fig, axes = plt.subplots(1, 8, figsize=(12, 4))\n",
    "for i in range(8):\n",
    "    img = images[i].squeeze()\n",
    "    img = img.numpy()\n",
    "    axes[i].imshow(img, cmap=\"gray\")\n",
    "    axes[i].axis(\"off\")\n",
    "plt.show()"
   ]
  },
  {
   "cell_type": "code",
   "execution_count": 6,
   "id": "386b56fb-3c14-466d-abc7-d508ea5d2a77",
   "metadata": {},
   "outputs": [],
   "source": [
    "#Verify the Autoencoder Model Architecture"
   ]
  },
  {
   "cell_type": "code",
   "execution_count": 7,
   "id": "822be85a-7dc4-435a-acc2-95d9285294bd",
   "metadata": {},
   "outputs": [
    {
     "name": "stdout",
     "output_type": "stream",
     "text": [
      "SimCLR_Encoder(\n",
      "  (encoder): Sequential(\n",
      "    (0): Conv2d(1, 32, kernel_size=(3, 3), stride=(1, 1), padding=(1, 1))\n",
      "    (1): ReLU()\n",
      "    (2): Conv2d(32, 64, kernel_size=(3, 3), stride=(2, 2), padding=(1, 1))\n",
      "    (3): ReLU()\n",
      "    (4): Conv2d(64, 128, kernel_size=(3, 3), stride=(2, 2), padding=(1, 1))\n",
      "    (5): ReLU()\n",
      "    (6): Flatten(start_dim=1, end_dim=-1)\n",
      "    (7): Linear(in_features=6272, out_features=128, bias=True)\n",
      "  )\n",
      ")\n"
     ]
    }
   ],
   "source": [
    "# Initialize model\n",
    "model = MNIST_123.SimCLR_Encoder(args.latent_dim).to(args.device)\n",
    "\n",
    "# Initialize standalone decoder\n",
    "decoder = MNIST_123.Decoder(args.latent_dim).to(args.device)\n",
    "\n",
    "# Print model summary\n",
    "print(model)"
   ]
  },
  {
   "cell_type": "code",
   "execution_count": 10,
   "id": "5c95db66-1ac3-4629-b66c-7801b2ff14ef",
   "metadata": {
    "execution": {
     "iopub.execute_input": "2025-03-19T17:27:28.761968Z",
     "iopub.status.busy": "2025-03-19T17:27:28.761711Z",
     "iopub.status.idle": "2025-03-19T17:27:28.765070Z",
     "shell.execute_reply": "2025-03-19T17:27:28.764175Z"
    }
   },
   "outputs": [],
   "source": [
    "#Train for One Epoch to Check Loss Computation"
   ]
  },
  {
   "cell_type": "code",
   "execution_count": 11,
   "id": "fad8b4e0-3c6c-41f4-9e5e-1ba5de87662d",
   "metadata": {
    "execution": {
     "iopub.execute_input": "2025-03-19T17:27:28.768674Z",
     "iopub.status.busy": "2025-03-19T17:27:28.768421Z",
     "iopub.status.idle": "2025-03-19T17:37:13.056321Z",
     "shell.execute_reply": "2025-03-19T17:37:13.054617Z"
    }
   },
   "outputs": [
    {
     "name": "stdout",
     "output_type": "stream",
     "text": [
      "Epoch [1/20], Train Loss: 0.0121, Val Loss: 0.0049\n"
     ]
    },
    {
     "name": "stdout",
     "output_type": "stream",
     "text": [
      "Epoch [2/20], Train Loss: 0.0040, Val Loss: 0.0038\n"
     ]
    },
    {
     "name": "stdout",
     "output_type": "stream",
     "text": [
      "Epoch [3/20], Train Loss: 0.0030, Val Loss: 0.0029\n"
     ]
    },
    {
     "name": "stdout",
     "output_type": "stream",
     "text": [
      "Epoch [4/20], Train Loss: 0.0026, Val Loss: 0.0025\n"
     ]
    },
    {
     "name": "stdout",
     "output_type": "stream",
     "text": [
      "Epoch [5/20], Train Loss: 0.0023, Val Loss: 0.0022\n"
     ]
    },
    {
     "name": "stdout",
     "output_type": "stream",
     "text": [
      "Epoch [6/20], Train Loss: 0.0021, Val Loss: 0.0021\n"
     ]
    },
    {
     "name": "stdout",
     "output_type": "stream",
     "text": [
      "Epoch [7/20], Train Loss: 0.0020, Val Loss: 0.0020\n"
     ]
    },
    {
     "name": "stdout",
     "output_type": "stream",
     "text": [
      "Epoch [8/20], Train Loss: 0.0019, Val Loss: 0.0020\n"
     ]
    },
    {
     "name": "stdout",
     "output_type": "stream",
     "text": [
      "Epoch [9/20], Train Loss: 0.0018, Val Loss: 0.0019\n"
     ]
    },
    {
     "name": "stdout",
     "output_type": "stream",
     "text": [
      "Epoch [10/20], Train Loss: 0.0018, Val Loss: 0.0018\n"
     ]
    },
    {
     "name": "stdout",
     "output_type": "stream",
     "text": [
      "Epoch [11/20], Train Loss: 0.0017, Val Loss: 0.0017\n"
     ]
    },
    {
     "name": "stdout",
     "output_type": "stream",
     "text": [
      "Epoch [12/20], Train Loss: 0.0017, Val Loss: 0.0018\n"
     ]
    },
    {
     "name": "stdout",
     "output_type": "stream",
     "text": [
      "Epoch [13/20], Train Loss: 0.0016, Val Loss: 0.0017\n"
     ]
    },
    {
     "name": "stdout",
     "output_type": "stream",
     "text": [
      "Epoch [14/20], Train Loss: 0.0016, Val Loss: 0.0016\n"
     ]
    },
    {
     "name": "stdout",
     "output_type": "stream",
     "text": [
      "Epoch [15/20], Train Loss: 0.0016, Val Loss: 0.0016\n"
     ]
    },
    {
     "name": "stdout",
     "output_type": "stream",
     "text": [
      "Epoch [16/20], Train Loss: 0.0015, Val Loss: 0.0016\n"
     ]
    },
    {
     "name": "stdout",
     "output_type": "stream",
     "text": [
      "Epoch [17/20], Train Loss: 0.0015, Val Loss: 0.0015\n"
     ]
    },
    {
     "name": "stdout",
     "output_type": "stream",
     "text": [
      "Epoch [18/20], Train Loss: 0.0015, Val Loss: 0.0016\n"
     ]
    },
    {
     "name": "stdout",
     "output_type": "stream",
     "text": [
      "Epoch [19/20], Train Loss: 0.0015, Val Loss: 0.0015\n"
     ]
    },
    {
     "name": "stdout",
     "output_type": "stream",
     "text": [
      "Epoch [20/20], Train Loss: 0.0015, Val Loss: 0.0015\n"
     ]
    }
   ],
   "source": [
    "MNIST_121.train_simclr(model, train_loader, val_loader, args, epochs=20)"
   ]
  },
  {
   "cell_type": "code",
   "execution_count": 12,
   "id": "1ff363fb-0c53-4ba9-862c-5f510491a175",
   "metadata": {
    "execution": {
     "iopub.execute_input": "2025-03-19T17:37:13.060529Z",
     "iopub.status.busy": "2025-03-19T17:37:13.059993Z",
     "iopub.status.idle": "2025-03-19T17:37:13.064468Z",
     "shell.execute_reply": "2025-03-19T17:37:13.063732Z"
    }
   },
   "outputs": [],
   "source": [
    "#Verify Reconstruction"
   ]
  },
  {
   "cell_type": "code",
   "execution_count": 13,
   "id": "c5c18891-4b01-40fe-89fd-496a9b93c68a",
   "metadata": {
    "execution": {
     "iopub.execute_input": "2025-03-19T17:37:13.067653Z",
     "iopub.status.busy": "2025-03-19T17:37:13.067346Z",
     "iopub.status.idle": "2025-03-19T17:37:13.605444Z",
     "shell.execute_reply": "2025-03-19T17:37:13.604673Z"
    }
   },
   "outputs": [
    {
     "data": {
      "image/png": "[encoded data removed]",
      "text/plain": [
       "<Figure size 1200x400 with 16 Axes>"
      ]
     },
     "metadata": {},
     "output_type": "display_data"
    }
   ],
   "source": [
    "# Move images to the correct device\n",
    "images = images.to(args.device)\n",
    "\n",
    "# Pass images through the autoencoder to get reconstructions\n",
    "with torch.no_grad():\n",
    "    recon_images = model(images)\n",
    "    recon_images = decoder(latent_vectors)\n",
    "\n",
    "# Convert to CPU for visualization\n",
    "images = images.cpu()\n",
    "recon_images = recon_images.cpu()\n",
    "\n",
    "# Create the figure\n",
    "fig, axes = plt.subplots(2, 8, figsize=(12, 4))  # Adjusted figure size\n",
    "plt.subplots_adjust(wspace=0.1, hspace=0.3)  # Less spacing\n",
    "\n",
    "# Set main title\n",
    "fig.suptitle(\"Original (Top) vs Reconstructed (Bottom)\", fontsize=14, y=1.05)\n",
    "\n",
    "for i in range(8):\n",
    "    # Original images\n",
    "    img = images[i].numpy().transpose(1, 2, 0)  # For RGB images, reorder channels\n",
    "    axes[0, i].imshow(img, cmap=\"gray\" if img.shape[2] == 1 else None)\n",
    "    axes[0, i].axis(\"off\")\n",
    "\n",
    "    # Reconstructed images\n",
    "    recon_img = recon_images[i].numpy().transpose(1, 2, 0)  # Same for recon images\n",
    "    axes[1, i].imshow(recon_img, cmap=\"gray\" if recon_img.shape[2] == 1 else None)\n",
    "    axes[1, i].axis(\"off\")\n",
    "\n",
    "plt.show()\n"
   ]
  },
  {
   "cell_type": "code",
   "execution_count": 14,
   "id": "5e70273a-2e7d-40b9-bcb7-0230c5903f13",
   "metadata": {
    "execution": {
     "iopub.execute_input": "2025-03-19T17:37:13.608815Z",
     "iopub.status.busy": "2025-03-19T17:37:13.608478Z",
     "iopub.status.idle": "2025-03-19T17:37:13.612027Z",
     "shell.execute_reply": "2025-03-19T17:37:13.611137Z"
    }
   },
   "outputs": [],
   "source": [
    "#classifier traning"
   ]
  },
  {
   "cell_type": "code",
   "execution_count": 15,
   "id": "dfbf0dfe-8e47-424a-b29f-dd469dbbf4ad",
   "metadata": {
    "execution": {
     "iopub.execute_input": "2025-03-19T17:37:13.615674Z",
     "iopub.status.busy": "2025-03-19T17:37:13.615424Z",
     "iopub.status.idle": "2025-03-19T17:43:40.747102Z",
     "shell.execute_reply": "2025-03-19T17:43:40.745688Z"
    }
   },
   "outputs": [
    {
     "name": "stdout",
     "output_type": "stream",
     "text": [
      "Epoch [1/20], Train Loss: 0.3297, Train Acc: 90.38%, Val Acc: 95.12%\n"
     ]
    },
    {
     "name": "stdout",
     "output_type": "stream",
     "text": [
      "Epoch [2/20], Train Loss: 0.1787, Train Acc: 94.66%, Val Acc: 96.28%\n"
     ]
    },
    {
     "name": "stdout",
     "output_type": "stream",
     "text": [
      "Epoch [3/20], Train Loss: 0.1509, Train Acc: 95.50%, Val Acc: 96.78%\n"
     ]
    },
    {
     "name": "stdout",
     "output_type": "stream",
     "text": [
      "Epoch [4/20], Train Loss: 0.1348, Train Acc: 95.89%, Val Acc: 96.88%\n"
     ]
    },
    {
     "name": "stdout",
     "output_type": "stream",
     "text": [
      "Epoch [5/20], Train Loss: 0.1237, Train Acc: 96.16%, Val Acc: 96.88%\n"
     ]
    },
    {
     "name": "stdout",
     "output_type": "stream",
     "text": [
      "Epoch [6/20], Train Loss: 0.1143, Train Acc: 96.37%, Val Acc: 97.22%\n"
     ]
    },
    {
     "name": "stdout",
     "output_type": "stream",
     "text": [
      "Epoch [7/20], Train Loss: 0.1110, Train Acc: 96.42%, Val Acc: 97.06%\n"
     ]
    },
    {
     "name": "stdout",
     "output_type": "stream",
     "text": [
      "Epoch [8/20], Train Loss: 0.1050, Train Acc: 96.65%, Val Acc: 97.32%\n"
     ]
    },
    {
     "name": "stdout",
     "output_type": "stream",
     "text": [
      "Epoch [9/20], Train Loss: 0.1051, Train Acc: 96.60%, Val Acc: 97.15%\n"
     ]
    },
    {
     "name": "stdout",
     "output_type": "stream",
     "text": [
      "Epoch [10/20], Train Loss: 0.0979, Train Acc: 96.87%, Val Acc: 97.25%\n"
     ]
    },
    {
     "name": "stdout",
     "output_type": "stream",
     "text": [
      "Epoch [11/20], Train Loss: 0.0980, Train Acc: 96.88%, Val Acc: 97.15%\n"
     ]
    },
    {
     "name": "stdout",
     "output_type": "stream",
     "text": [
      "Epoch [12/20], Train Loss: 0.0939, Train Acc: 97.00%, Val Acc: 97.10%\n"
     ]
    },
    {
     "name": "stdout",
     "output_type": "stream",
     "text": [
      "Epoch [13/20], Train Loss: 0.0927, Train Acc: 96.95%, Val Acc: 97.12%\n"
     ]
    },
    {
     "name": "stdout",
     "output_type": "stream",
     "text": [
      "Epoch [14/20], Train Loss: 0.0903, Train Acc: 97.02%, Val Acc: 97.27%\n"
     ]
    },
    {
     "name": "stdout",
     "output_type": "stream",
     "text": [
      "Epoch [15/20], Train Loss: 0.0884, Train Acc: 97.16%, Val Acc: 97.19%\n"
     ]
    },
    {
     "name": "stdout",
     "output_type": "stream",
     "text": [
      "Epoch [16/20], Train Loss: 0.0907, Train Acc: 97.05%, Val Acc: 97.32%\n"
     ]
    },
    {
     "name": "stdout",
     "output_type": "stream",
     "text": [
      "Epoch [17/20], Train Loss: 0.0852, Train Acc: 97.20%, Val Acc: 97.18%\n"
     ]
    },
    {
     "name": "stdout",
     "output_type": "stream",
     "text": [
      "Epoch [18/20], Train Loss: 0.0855, Train Acc: 97.17%, Val Acc: 97.28%\n"
     ]
    },
    {
     "name": "stdout",
     "output_type": "stream",
     "text": [
      "Epoch [19/20], Train Loss: 0.0832, Train Acc: 97.25%, Val Acc: 97.23%\n"
     ]
    },
    {
     "name": "stdout",
     "output_type": "stream",
     "text": [
      "Epoch [20/20], Train Loss: 0.0817, Train Acc: 97.32%, Val Acc: 97.42%\n"
     ]
    }
   ],
   "source": [
    "classifier = MNIST_121.Classifier(args.latent_dim).to(args.device)\n",
    "MNIST_121.train_classifier(model, classifier, train_loader, val_loader, args, epochs=20)"
   ]
  },
  {
   "cell_type": "code",
   "execution_count": null,
   "id": "6b940ef0-ddc6-49da-b927-d3a547d28243",
   "metadata": {},
   "outputs": [],
   "source": []
  }
 ],
 "metadata": {
  "kernelspec": {
   "display_name": "Python 3 (ipykernel)",
   "language": "python",
   "name": "python3"
  },
  "language_info": {
   "codemirror_mode": {
    "name": "ipython",
    "version": 3
   },
   "file_extension": ".py",
   "mimetype": "text/x-python",
   "name": "python",
   "nbconvert_exporter": "python",
   "pygments_lexer": "ipython3",
   "version": "3.9.0"
  }
 },
 "nbformat": 4,
 "nbformat_minor": 5
}
