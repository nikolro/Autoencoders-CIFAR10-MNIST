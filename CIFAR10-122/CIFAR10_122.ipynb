{
 "cells": [
  {
   "cell_type": "code",
   "execution_count": 1,
   "id": "ddab139d-f343-40c9-9509-6cbc89093a91",
   "metadata": {
    "execution": {
     "iopub.execute_input": "2025-03-10T15:17:47.494023Z",
     "iopub.status.busy": "2025-03-10T15:17:47.493204Z",
     "iopub.status.idle": "2025-03-10T15:17:47.500198Z",
     "shell.execute_reply": "2025-03-10T15:17:47.499427Z"
    }
   },
   "outputs": [],
   "source": [
    "# Initialize and Import Required Modules"
   ]
  },
  {
   "cell_type": "code",
   "execution_count": 2,
   "id": "c2b91c84-5869-4414-8536-2f4e4e7c10be",
   "metadata": {
    "execution": {
     "iopub.execute_input": "2025-03-10T15:17:47.503501Z",
     "iopub.status.busy": "2025-03-10T15:17:47.503261Z",
     "iopub.status.idle": "2025-03-10T15:17:49.670208Z",
     "shell.execute_reply": "2025-03-10T15:17:49.669406Z"
    }
   },
   "outputs": [],
   "source": [
    "# General Libraries\n",
    "import torch\n",
    "import argparse\n",
    "import numpy as np\n",
    "import random\n",
    "import matplotlib.pyplot as plt\n",
    "from torch.utils.data import DataLoader\n",
    "import warnings\n",
    "warnings.filterwarnings(\"ignore\", category=UserWarning)"
   ]
  },
  {
   "cell_type": "code",
   "execution_count": 3,
   "id": "a2373d50-b953-432d-b72f-5afaee44e7f4",
   "metadata": {
    "execution": {
     "iopub.execute_input": "2025-03-10T15:17:49.674467Z",
     "iopub.status.busy": "2025-03-10T15:17:49.673765Z",
     "iopub.status.idle": "2025-03-10T15:17:49.678096Z",
     "shell.execute_reply": "2025-03-10T15:17:49.677415Z"
    }
   },
   "outputs": [],
   "source": [
    "\n",
    "\n",
    "# Test cifar 122\n",
    "\n"
   ]
  },
  {
   "cell_type": "code",
   "execution_count": 4,
   "id": "c3e15c0f-d312-4acf-8ee3-2a4becf88365",
   "metadata": {
    "execution": {
     "iopub.execute_input": "2025-03-10T15:17:49.681175Z",
     "iopub.status.busy": "2025-03-10T15:17:49.680939Z",
     "iopub.status.idle": "2025-03-10T15:17:50.019684Z",
     "shell.execute_reply": "2025-03-10T15:17:50.018852Z"
    }
   },
   "outputs": [],
   "source": [
    "# Import the MNIST Autoencoder file\n",
    "import CIFAR10_122  \n",
    "\n",
    "# Set device\n",
    "device = \"cuda\" if torch.cuda.is_available() else \"cpu\"\n",
    "\n",
    "# Define arguments\n",
    "args = argparse.Namespace(\n",
    "    data_path=\"../data\",\n",
    "    batch_size=128,\n",
    "    latent_dim=128,\n",
    "    device=device\n",
    ")"
   ]
  },
  {
   "cell_type": "code",
   "execution_count": 5,
   "id": "dff0b5b8-8e7b-42a1-8c82-a77737c4eefc",
   "metadata": {
    "execution": {
     "iopub.execute_input": "2025-03-10T15:17:50.023665Z",
     "iopub.status.busy": "2025-03-10T15:17:50.023207Z",
     "iopub.status.idle": "2025-03-10T15:17:50.026986Z",
     "shell.execute_reply": "2025-03-10T15:17:50.026035Z"
    }
   },
   "outputs": [],
   "source": [
    "#Load the Dataset and Check It"
   ]
  },
  {
   "cell_type": "code",
   "execution_count": 6,
   "id": "710c0e86-7eef-4f8e-a0a0-7ba4afb6fa07",
   "metadata": {
    "execution": {
     "iopub.execute_input": "2025-03-10T15:17:50.030027Z",
     "iopub.status.busy": "2025-03-10T15:17:50.029736Z",
     "iopub.status.idle": "2025-03-10T15:17:52.131957Z",
     "shell.execute_reply": "2025-03-10T15:17:52.131202Z"
    }
   },
   "outputs": [
    {
     "name": "stdout",
     "output_type": "stream",
     "text": [
      "Files already downloaded and verified\n"
     ]
    },
    {
     "name": "stdout",
     "output_type": "stream",
     "text": [
      "Files already downloaded and verified\n"
     ]
    },
    {
     "data": {
      "image/png": "[encoded data removed]",
      "text/plain": [
       "<Figure size 1200x400 with 8 Axes>"
      ]
     },
     "metadata": {},
     "output_type": "display_data"
    }
   ],
   "source": [
    "# Load dataset\n",
    "train_loader, val_loader, test_loader = CIFAR10_122.load_data(args)\n",
    "\n",
    "# Retrieve a batch of images\n",
    "images_0_1, _ = next(iter(train_loader))\n",
    "\n",
    "# Convert images to range [0,255] for proper display\n",
    "images_0_255 = images_0_1 * 255  # Scale if needed\n",
    "\n",
    "# Visualize some images\n",
    "fig, axes = plt.subplots(1, 8, figsize=(12, 4))\n",
    "for i in range(8):\n",
    "    img = images_0_255[i].permute(1, 2, 0).numpy()  # Convert (C, H, W) → (H, W, C)\n",
    "    img = np.clip(img, 0, 255).astype(\"uint8\")  # Ensure valid pixel values\n",
    "    axes[i].imshow(img)\n",
    "    axes[i].axis(\"off\")\n",
    "\n",
    "plt.show()\n"
   ]
  },
  {
   "cell_type": "code",
   "execution_count": 7,
   "id": "386b56fb-3c14-466d-abc7-d508ea5d2a77",
   "metadata": {
    "execution": {
     "iopub.execute_input": "2025-03-10T15:17:52.135312Z",
     "iopub.status.busy": "2025-03-10T15:17:52.135003Z",
     "iopub.status.idle": "2025-03-10T15:17:52.139609Z",
     "shell.execute_reply": "2025-03-10T15:17:52.138861Z"
    }
   },
   "outputs": [],
   "source": [
    "#Verify the Autoencoder Model Architecture"
   ]
  },
  {
   "cell_type": "code",
   "execution_count": 8,
   "id": "822be85a-7dc4-435a-acc2-95d9285294bd",
   "metadata": {
    "execution": {
     "iopub.execute_input": "2025-03-10T15:17:52.142781Z",
     "iopub.status.busy": "2025-03-10T15:17:52.142394Z",
     "iopub.status.idle": "2025-03-10T15:17:55.067182Z",
     "shell.execute_reply": "2025-03-10T15:17:55.065975Z"
    }
   },
   "outputs": [
    {
     "name": "stdout",
     "output_type": "stream",
     "text": [
      "Encoder(\n",
      "  (encoder): Sequential(\n",
      "    (0): Conv2d(3, 64, kernel_size=(4, 4), stride=(2, 2), padding=(1, 1))\n",
      "    (1): ReLU()\n",
      "    (2): Conv2d(64, 128, kernel_size=(4, 4), stride=(2, 2), padding=(1, 1))\n",
      "    (3): ReLU()\n",
      "    (4): Conv2d(128, 128, kernel_size=(8, 8), stride=(1, 1))\n",
      "  )\n",
      ")\n"
     ]
    }
   ],
   "source": [
    "# Initialize model\n",
    "encoder_model = CIFAR10_122.Encoder(args.latent_dim).to(args.device)\n",
    "\n",
    "# Print model summary\n",
    "print(encoder_model)"
   ]
  },
  {
   "cell_type": "code",
   "execution_count": 9,
   "id": "680212c3-61bf-4eed-8605-2f3e98c56ab4",
   "metadata": {
    "execution": {
     "iopub.execute_input": "2025-03-10T15:17:55.070802Z",
     "iopub.status.busy": "2025-03-10T15:17:55.070444Z",
     "iopub.status.idle": "2025-03-10T15:17:55.076401Z",
     "shell.execute_reply": "2025-03-10T15:17:55.075488Z"
    }
   },
   "outputs": [
    {
     "name": "stdout",
     "output_type": "stream",
     "text": [
      "Classifier(\n",
      "  (fc): Sequential(\n",
      "    (0): Linear(in_features=128, out_features=64, bias=True)\n",
      "    (1): ReLU()\n",
      "    (2): Dropout(p=0.2, inplace=False)\n",
      "    (3): Linear(in_features=64, out_features=10, bias=True)\n",
      "  )\n",
      ")\n"
     ]
    }
   ],
   "source": [
    "# Initialize model\n",
    "classifier_model = CIFAR10_122.Classifier(args.latent_dim).to(args.device)\n",
    "\n",
    "# Print model summary\n",
    "print(classifier_model)"
   ]
  },
  {
   "cell_type": "code",
   "execution_count": 10,
   "id": "5c95db66-1ac3-4629-b66c-7801b2ff14ef",
   "metadata": {
    "execution": {
     "iopub.execute_input": "2025-03-10T15:17:55.080294Z",
     "iopub.status.busy": "2025-03-10T15:17:55.079937Z",
     "iopub.status.idle": "2025-03-10T15:17:55.083659Z",
     "shell.execute_reply": "2025-03-10T15:17:55.082733Z"
    }
   },
   "outputs": [],
   "source": [
    "#Train the model"
   ]
  },
  {
   "cell_type": "code",
   "execution_count": 11,
   "id": "fad8b4e0-3c6c-41f4-9e5e-1ba5de87662d",
   "metadata": {
    "execution": {
     "iopub.execute_input": "2025-03-10T15:17:55.087426Z",
     "iopub.status.busy": "2025-03-10T15:17:55.087173Z",
     "iopub.status.idle": "2025-03-10T15:21:20.058465Z",
     "shell.execute_reply": "2025-03-10T15:21:20.057413Z"
    }
   },
   "outputs": [
    {
     "name": "stdout",
     "output_type": "stream",
     "text": [
      "Epoch [1/15], Train Loss: 1.5290, Train Acc: 44.83%, Val Loss: 1.2480, Val Acc: 55.48%\n"
     ]
    },
    {
     "name": "stdout",
     "output_type": "stream",
     "text": [
      "Epoch [2/15], Train Loss: 1.1499, Train Acc: 59.19%, Val Loss: 1.0467, Val Acc: 62.73%\n"
     ]
    },
    {
     "name": "stdout",
     "output_type": "stream",
     "text": [
      "Epoch [3/15], Train Loss: 0.9795, Train Acc: 65.47%, Val Loss: 1.0061, Val Acc: 64.78%\n"
     ]
    },
    {
     "name": "stdout",
     "output_type": "stream",
     "text": [
      "Epoch [4/15], Train Loss: 0.8465, Train Acc: 70.19%, Val Loss: 0.9786, Val Acc: 65.33%\n"
     ]
    },
    {
     "name": "stdout",
     "output_type": "stream",
     "text": [
      "Epoch [5/15], Train Loss: 0.7378, Train Acc: 74.08%, Val Loss: 0.9321, Val Acc: 67.62%\n"
     ]
    },
    {
     "name": "stdout",
     "output_type": "stream",
     "text": [
      "Epoch [6/15], Train Loss: 0.6264, Train Acc: 77.78%, Val Loss: 0.9480, Val Acc: 67.92%\n"
     ]
    },
    {
     "name": "stdout",
     "output_type": "stream",
     "text": [
      "Epoch [7/15], Train Loss: 0.5345, Train Acc: 80.98%, Val Loss: 1.0306, Val Acc: 67.55%\n"
     ]
    },
    {
     "name": "stdout",
     "output_type": "stream",
     "text": [
      "Epoch [8/15], Train Loss: 0.4538, Train Acc: 83.86%, Val Loss: 1.0819, Val Acc: 67.84%\n"
     ]
    },
    {
     "name": "stdout",
     "output_type": "stream",
     "text": [
      "Epoch [9/15], Train Loss: 0.3859, Train Acc: 86.16%, Val Loss: 1.1438, Val Acc: 67.50%\n"
     ]
    },
    {
     "name": "stdout",
     "output_type": "stream",
     "text": [
      "Epoch [10/15], Train Loss: 0.3216, Train Acc: 88.35%, Val Loss: 1.2397, Val Acc: 67.66%\n"
     ]
    },
    {
     "name": "stdout",
     "output_type": "stream",
     "text": [
      "Epoch [11/15], Train Loss: 0.2750, Train Acc: 89.91%, Val Loss: 1.3795, Val Acc: 67.30%\n"
     ]
    },
    {
     "name": "stdout",
     "output_type": "stream",
     "text": [
      "Epoch [12/15], Train Loss: 0.2413, Train Acc: 91.33%, Val Loss: 1.4356, Val Acc: 66.49%\n"
     ]
    },
    {
     "name": "stdout",
     "output_type": "stream",
     "text": [
      "Epoch [13/15], Train Loss: 0.2057, Train Acc: 92.63%, Val Loss: 1.5378, Val Acc: 65.70%\n"
     ]
    },
    {
     "name": "stdout",
     "output_type": "stream",
     "text": [
      "Epoch [14/15], Train Loss: 0.1870, Train Acc: 93.21%, Val Loss: 1.6208, Val Acc: 66.68%\n"
     ]
    },
    {
     "name": "stdout",
     "output_type": "stream",
     "text": [
      "Epoch [15/15], Train Loss: 0.1657, Train Acc: 94.08%, Val Loss: 1.7580, Val Acc: 66.19%\n"
     ]
    }
   ],
   "source": [
    "CIFAR10_122.train_encoder_classifier(encoder_model, classifier_model, train_loader, val_loader, args, epochs=15)"
   ]
  }
 ],
 "metadata": {
  "kernelspec": {
   "display_name": "Python 3 (ipykernel)",
   "language": "python",
   "name": "python3"
  },
  "language_info": {
   "codemirror_mode": {
    "name": "ipython",
    "version": 3
   },
   "file_extension": ".py",
   "mimetype": "text/x-python",
   "name": "python",
   "nbconvert_exporter": "python",
   "pygments_lexer": "ipython3",
   "version": "3.9.0"
  }
 },
 "nbformat": 4,
 "nbformat_minor": 5
}
