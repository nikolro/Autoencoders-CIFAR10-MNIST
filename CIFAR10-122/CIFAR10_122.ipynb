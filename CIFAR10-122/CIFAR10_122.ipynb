{
 "cells": [
  {
   "cell_type": "code",
   "execution_count": 1,
   "id": "ddab139d-f343-40c9-9509-6cbc89093a91",
   "metadata": {
    "execution": {
     "iopub.execute_input": "2025-03-19T17:10:22.926200Z",
     "iopub.status.busy": "2025-03-19T17:10:22.925371Z",
     "iopub.status.idle": "2025-03-19T17:10:22.933588Z",
     "shell.execute_reply": "2025-03-19T17:10:22.932709Z"
    }
   },
   "outputs": [],
   "source": [
    "# Initialize and Import Required Modules"
   ]
  },
  {
   "cell_type": "code",
   "execution_count": 2,
   "id": "c2b91c84-5869-4414-8536-2f4e4e7c10be",
   "metadata": {
    "execution": {
     "iopub.execute_input": "2025-03-19T17:10:22.937778Z",
     "iopub.status.busy": "2025-03-19T17:10:22.937460Z",
     "iopub.status.idle": "2025-03-19T17:10:43.662610Z",
     "shell.execute_reply": "2025-03-19T17:10:43.661539Z"
    }
   },
   "outputs": [],
   "source": [
    "# General Libraries\n",
    "import torch\n",
    "import argparse\n",
    "import numpy as np\n",
    "import random\n",
    "import matplotlib.pyplot as plt\n",
    "from torch.utils.data import DataLoader\n",
    "import warnings\n",
    "warnings.filterwarnings(\"ignore\", category=UserWarning)"
   ]
  },
  {
   "cell_type": "code",
   "execution_count": 3,
   "id": "a2373d50-b953-432d-b72f-5afaee44e7f4",
   "metadata": {
    "execution": {
     "iopub.execute_input": "2025-03-19T17:10:43.667472Z",
     "iopub.status.busy": "2025-03-19T17:10:43.666972Z",
     "iopub.status.idle": "2025-03-19T17:10:43.672758Z",
     "shell.execute_reply": "2025-03-19T17:10:43.671834Z"
    }
   },
   "outputs": [],
   "source": [
    "\n",
    "\n",
    "# Test cifar 122\n",
    "\n"
   ]
  },
  {
   "cell_type": "code",
   "execution_count": 4,
   "id": "c3e15c0f-d312-4acf-8ee3-2a4becf88365",
   "metadata": {
    "execution": {
     "iopub.execute_input": "2025-03-19T17:10:43.677043Z",
     "iopub.status.busy": "2025-03-19T17:10:43.676708Z",
     "iopub.status.idle": "2025-03-19T17:10:46.056372Z",
     "shell.execute_reply": "2025-03-19T17:10:46.055558Z"
    }
   },
   "outputs": [],
   "source": [
    "# Import the MNIST Autoencoder file\n",
    "import CIFAR10_122  \n",
    "\n",
    "# Set device\n",
    "device = \"cuda\" if torch.cuda.is_available() else \"cpu\"\n",
    "\n",
    "# Define arguments\n",
    "args = argparse.Namespace(\n",
    "    data_path=\"../data\",\n",
    "    batch_size=128,\n",
    "    latent_dim=128,\n",
    "    device=device\n",
    ")"
   ]
  },
  {
   "cell_type": "code",
   "execution_count": 5,
   "id": "dff0b5b8-8e7b-42a1-8c82-a77737c4eefc",
   "metadata": {
    "execution": {
     "iopub.execute_input": "2025-03-19T17:10:46.060262Z",
     "iopub.status.busy": "2025-03-19T17:10:46.059794Z",
     "iopub.status.idle": "2025-03-19T17:10:46.063715Z",
     "shell.execute_reply": "2025-03-19T17:10:46.062722Z"
    }
   },
   "outputs": [],
   "source": [
    "#Load the Dataset and Check It"
   ]
  },
  {
   "cell_type": "code",
   "execution_count": 6,
   "id": "710c0e86-7eef-4f8e-a0a0-7ba4afb6fa07",
   "metadata": {
    "execution": {
     "iopub.execute_input": "2025-03-19T17:10:46.067088Z",
     "iopub.status.busy": "2025-03-19T17:10:46.066677Z",
     "iopub.status.idle": "2025-03-19T17:10:50.196118Z",
     "shell.execute_reply": "2025-03-19T17:10:50.195290Z"
    }
   },
   "outputs": [
    {
     "name": "stdout",
     "output_type": "stream",
     "text": [
      "Files already downloaded and verified\n"
     ]
    },
    {
     "name": "stdout",
     "output_type": "stream",
     "text": [
      "Files already downloaded and verified\n"
     ]
    },
    {
     "data": {
      "image/png": "[encoded data removed]",
      "text/plain": [
       "<Figure size 1200x400 with 8 Axes>"
      ]
     },
     "metadata": {},
     "output_type": "display_data"
    }
   ],
   "source": [
    "# Load dataset\n",
    "train_loader, val_loader, test_loader = CIFAR10_122.load_data(args)\n",
    "\n",
    "# Retrieve a batch of images\n",
    "images_0_1, _ = next(iter(train_loader))\n",
    "\n",
    "# Convert images to range [0,255] for proper display\n",
    "images_0_255 = images_0_1 * 255  # Scale if needed\n",
    "\n",
    "# Visualize some images\n",
    "fig, axes = plt.subplots(1, 8, figsize=(12, 4))\n",
    "for i in range(8):\n",
    "    img = images_0_255[i].permute(1, 2, 0).numpy()  # Convert (C, H, W) → (H, W, C)\n",
    "    img = np.clip(img, 0, 255).astype(\"uint8\")  # Ensure valid pixel values\n",
    "    axes[i].imshow(img)\n",
    "    axes[i].axis(\"off\")\n",
    "\n",
    "plt.show()\n"
   ]
  },
  {
   "cell_type": "code",
   "execution_count": 7,
   "id": "386b56fb-3c14-466d-abc7-d508ea5d2a77",
   "metadata": {
    "execution": {
     "iopub.execute_input": "2025-03-19T17:10:50.199850Z",
     "iopub.status.busy": "2025-03-19T17:10:50.199487Z",
     "iopub.status.idle": "2025-03-19T17:10:50.204014Z",
     "shell.execute_reply": "2025-03-19T17:10:50.203285Z"
    }
   },
   "outputs": [],
   "source": [
    "#Verify the Autoencoder Model Architecture"
   ]
  },
  {
   "cell_type": "code",
   "execution_count": 8,
   "id": "822be85a-7dc4-435a-acc2-95d9285294bd",
   "metadata": {
    "execution": {
     "iopub.execute_input": "2025-03-19T17:10:50.207243Z",
     "iopub.status.busy": "2025-03-19T17:10:50.206780Z",
     "iopub.status.idle": "2025-03-19T17:11:21.600166Z",
     "shell.execute_reply": "2025-03-19T17:11:21.598310Z"
    }
   },
   "outputs": [
    {
     "name": "stdout",
     "output_type": "stream",
     "text": [
      "Encoder(\n",
      "  (encoder): Sequential(\n",
      "    (0): Conv2d(3, 64, kernel_size=(4, 4), stride=(2, 2), padding=(1, 1))\n",
      "    (1): BatchNorm2d(64, eps=1e-05, momentum=0.1, affine=True, track_running_stats=True)\n",
      "    (2): ReLU()\n",
      "    (3): Conv2d(64, 128, kernel_size=(4, 4), stride=(2, 2), padding=(1, 1))\n",
      "    (4): BatchNorm2d(128, eps=1e-05, momentum=0.1, affine=True, track_running_stats=True)\n",
      "    (5): ReLU()\n",
      "    (6): Conv2d(128, 128, kernel_size=(8, 8), stride=(1, 1))\n",
      "  )\n",
      ")\n"
     ]
    }
   ],
   "source": [
    "# Initialize model\n",
    "encoder_model = CIFAR10_122.Encoder(args.latent_dim).to(args.device)\n",
    "\n",
    "# Print model summary\n",
    "print(encoder_model)"
   ]
  },
  {
   "cell_type": "code",
   "execution_count": 9,
   "id": "680212c3-61bf-4eed-8605-2f3e98c56ab4",
   "metadata": {
    "execution": {
     "iopub.execute_input": "2025-03-19T17:11:21.605866Z",
     "iopub.status.busy": "2025-03-19T17:11:21.605537Z",
     "iopub.status.idle": "2025-03-19T17:11:21.612139Z",
     "shell.execute_reply": "2025-03-19T17:11:21.611018Z"
    }
   },
   "outputs": [
    {
     "name": "stdout",
     "output_type": "stream",
     "text": [
      "Classifier(\n",
      "  (fc): Sequential(\n",
      "    (0): Linear(in_features=128, out_features=64, bias=True)\n",
      "    (1): ReLU()\n",
      "    (2): Dropout(p=0.5, inplace=False)\n",
      "    (3): Linear(in_features=64, out_features=10, bias=True)\n",
      "  )\n",
      ")\n"
     ]
    }
   ],
   "source": [
    "# Initialize model\n",
    "classifier_model = CIFAR10_122.Classifier(args.latent_dim).to(args.device)\n",
    "\n",
    "# Print model summary\n",
    "print(classifier_model)"
   ]
  },
  {
   "cell_type": "code",
   "execution_count": 10,
   "id": "5c95db66-1ac3-4629-b66c-7801b2ff14ef",
   "metadata": {
    "execution": {
     "iopub.execute_input": "2025-03-19T17:11:21.617131Z",
     "iopub.status.busy": "2025-03-19T17:11:21.616806Z",
     "iopub.status.idle": "2025-03-19T17:11:21.620662Z",
     "shell.execute_reply": "2025-03-19T17:11:21.619542Z"
    }
   },
   "outputs": [],
   "source": [
    "#Train the model"
   ]
  },
  {
   "cell_type": "code",
   "execution_count": 11,
   "id": "fad8b4e0-3c6c-41f4-9e5e-1ba5de87662d",
   "metadata": {
    "execution": {
     "iopub.execute_input": "2025-03-19T17:11:21.625360Z",
     "iopub.status.busy": "2025-03-19T17:11:21.625037Z",
     "iopub.status.idle": "2025-03-19T17:24:14.916108Z",
     "shell.execute_reply": "2025-03-19T17:24:14.914563Z"
    }
   },
   "outputs": [
    {
     "name": "stdout",
     "output_type": "stream",
     "text": [
      "Epoch [1/40], Train Loss: 1.8510, Train Acc: 30.60%, Val Loss: 1.4955, Val Acc: 46.28%\n"
     ]
    },
    {
     "name": "stdout",
     "output_type": "stream",
     "text": [
      "Epoch [2/40], Train Loss: 1.5452, Train Acc: 43.02%, Val Loss: 1.2707, Val Acc: 54.32%\n"
     ]
    },
    {
     "name": "stdout",
     "output_type": "stream",
     "text": [
      "Epoch [3/40], Train Loss: 1.3779, Train Acc: 50.14%, Val Loss: 1.2023, Val Acc: 56.47%\n"
     ]
    },
    {
     "name": "stdout",
     "output_type": "stream",
     "text": [
      "Epoch [4/40], Train Loss: 1.2454, Train Acc: 55.49%, Val Loss: 1.0652, Val Acc: 60.74%\n"
     ]
    },
    {
     "name": "stdout",
     "output_type": "stream",
     "text": [
      "Epoch [5/40], Train Loss: 1.1599, Train Acc: 58.85%, Val Loss: 0.9887, Val Acc: 64.56%\n"
     ]
    },
    {
     "name": "stdout",
     "output_type": "stream",
     "text": [
      "Epoch [6/40], Train Loss: 1.0943, Train Acc: 61.53%, Val Loss: 0.9612, Val Acc: 65.33%\n"
     ]
    },
    {
     "name": "stdout",
     "output_type": "stream",
     "text": [
      "Epoch [7/40], Train Loss: 1.0367, Train Acc: 63.64%, Val Loss: 0.9285, Val Acc: 67.25%\n"
     ]
    },
    {
     "name": "stdout",
     "output_type": "stream",
     "text": [
      "Epoch [8/40], Train Loss: 1.0017, Train Acc: 65.17%, Val Loss: 0.8909, Val Acc: 68.63%\n"
     ]
    },
    {
     "name": "stdout",
     "output_type": "stream",
     "text": [
      "Epoch [9/40], Train Loss: 0.9680, Train Acc: 66.53%, Val Loss: 0.9311, Val Acc: 67.34%\n"
     ]
    },
    {
     "name": "stdout",
     "output_type": "stream",
     "text": [
      "Epoch [10/40], Train Loss: 0.9279, Train Acc: 67.84%, Val Loss: 0.8453, Val Acc: 70.65%\n"
     ]
    },
    {
     "name": "stdout",
     "output_type": "stream",
     "text": [
      "Epoch [11/40], Train Loss: 0.8253, Train Acc: 71.72%, Val Loss: 0.7652, Val Acc: 73.04%\n"
     ]
    },
    {
     "name": "stdout",
     "output_type": "stream",
     "text": [
      "Epoch [12/40], Train Loss: 0.7937, Train Acc: 72.87%, Val Loss: 0.7461, Val Acc: 73.39%\n"
     ]
    },
    {
     "name": "stdout",
     "output_type": "stream",
     "text": [
      "Epoch [13/40], Train Loss: 0.7716, Train Acc: 73.19%, Val Loss: 0.7411, Val Acc: 73.85%\n"
     ]
    },
    {
     "name": "stdout",
     "output_type": "stream",
     "text": [
      "Epoch [14/40], Train Loss: 0.7611, Train Acc: 73.58%, Val Loss: 0.7415, Val Acc: 74.26%\n"
     ]
    },
    {
     "name": "stdout",
     "output_type": "stream",
     "text": [
      "Epoch [15/40], Train Loss: 0.7468, Train Acc: 74.48%, Val Loss: 0.7321, Val Acc: 74.24%\n"
     ]
    },
    {
     "name": "stdout",
     "output_type": "stream",
     "text": [
      "Epoch [16/40], Train Loss: 0.7481, Train Acc: 74.00%, Val Loss: 0.7293, Val Acc: 74.56%\n"
     ]
    },
    {
     "name": "stdout",
     "output_type": "stream",
     "text": [
      "Epoch [17/40], Train Loss: 0.7366, Train Acc: 74.62%, Val Loss: 0.7231, Val Acc: 74.69%\n"
     ]
    },
    {
     "name": "stdout",
     "output_type": "stream",
     "text": [
      "Epoch [18/40], Train Loss: 0.7254, Train Acc: 74.91%, Val Loss: 0.7228, Val Acc: 74.42%\n"
     ]
    },
    {
     "name": "stdout",
     "output_type": "stream",
     "text": [
      "Epoch [19/40], Train Loss: 0.7171, Train Acc: 75.25%, Val Loss: 0.7159, Val Acc: 74.93%\n"
     ]
    },
    {
     "name": "stdout",
     "output_type": "stream",
     "text": [
      "Epoch [20/40], Train Loss: 0.7131, Train Acc: 75.27%, Val Loss: 0.7132, Val Acc: 75.04%\n"
     ]
    },
    {
     "name": "stdout",
     "output_type": "stream",
     "text": [
      "Epoch [21/40], Train Loss: 0.6950, Train Acc: 76.03%, Val Loss: 0.6980, Val Acc: 75.30%\n"
     ]
    },
    {
     "name": "stdout",
     "output_type": "stream",
     "text": [
      "Epoch [22/40], Train Loss: 0.6940, Train Acc: 75.78%, Val Loss: 0.7037, Val Acc: 75.25%\n"
     ]
    },
    {
     "name": "stdout",
     "output_type": "stream",
     "text": [
      "Epoch [23/40], Train Loss: 0.6920, Train Acc: 75.90%, Val Loss: 0.7025, Val Acc: 75.52%\n"
     ]
    },
    {
     "name": "stdout",
     "output_type": "stream",
     "text": [
      "Epoch [24/40], Train Loss: 0.6882, Train Acc: 76.05%, Val Loss: 0.7052, Val Acc: 75.34%\n"
     ]
    },
    {
     "name": "stdout",
     "output_type": "stream",
     "text": [
      "Epoch [25/40], Train Loss: 0.6884, Train Acc: 76.19%, Val Loss: 0.6955, Val Acc: 75.42%\n"
     ]
    },
    {
     "name": "stdout",
     "output_type": "stream",
     "text": [
      "Epoch [26/40], Train Loss: 0.6913, Train Acc: 76.14%, Val Loss: 0.7055, Val Acc: 75.42%\n"
     ]
    },
    {
     "name": "stdout",
     "output_type": "stream",
     "text": [
      "Epoch [27/40], Train Loss: 0.6899, Train Acc: 76.17%, Val Loss: 0.7026, Val Acc: 75.70%\n"
     ]
    },
    {
     "name": "stdout",
     "output_type": "stream",
     "text": [
      "Epoch [28/40], Train Loss: 0.6798, Train Acc: 76.42%, Val Loss: 0.7005, Val Acc: 75.16%\n"
     ]
    },
    {
     "name": "stdout",
     "output_type": "stream",
     "text": [
      "Epoch [29/40], Train Loss: 0.6885, Train Acc: 76.30%, Val Loss: 0.7018, Val Acc: 75.49%\n"
     ]
    },
    {
     "name": "stdout",
     "output_type": "stream",
     "text": [
      "Epoch [30/40], Train Loss: 0.6867, Train Acc: 76.21%, Val Loss: 0.6997, Val Acc: 75.84%\n"
     ]
    },
    {
     "name": "stdout",
     "output_type": "stream",
     "text": [
      "Epoch [31/40], Train Loss: 0.6825, Train Acc: 76.39%, Val Loss: 0.7036, Val Acc: 75.37%\n"
     ]
    },
    {
     "name": "stdout",
     "output_type": "stream",
     "text": [
      "Epoch [32/40], Train Loss: 0.6835, Train Acc: 76.25%, Val Loss: 0.7034, Val Acc: 75.10%\n"
     ]
    },
    {
     "name": "stdout",
     "output_type": "stream",
     "text": [
      "Epoch [33/40], Train Loss: 0.6828, Train Acc: 76.28%, Val Loss: 0.7025, Val Acc: 75.68%\n"
     ]
    },
    {
     "name": "stdout",
     "output_type": "stream",
     "text": [
      "Epoch [34/40], Train Loss: 0.6807, Train Acc: 76.44%, Val Loss: 0.6972, Val Acc: 75.45%\n"
     ]
    },
    {
     "name": "stdout",
     "output_type": "stream",
     "text": [
      "Epoch [35/40], Train Loss: 0.6823, Train Acc: 76.46%, Val Loss: 0.6942, Val Acc: 75.66%\n"
     ]
    },
    {
     "name": "stdout",
     "output_type": "stream",
     "text": [
      "Epoch [36/40], Train Loss: 0.6827, Train Acc: 76.25%, Val Loss: 0.7011, Val Acc: 75.12%\n"
     ]
    },
    {
     "name": "stdout",
     "output_type": "stream",
     "text": [
      "Epoch [37/40], Train Loss: 0.6877, Train Acc: 76.47%, Val Loss: 0.7005, Val Acc: 75.87%\n"
     ]
    },
    {
     "name": "stdout",
     "output_type": "stream",
     "text": [
      "Epoch [38/40], Train Loss: 0.6839, Train Acc: 76.35%, Val Loss: 0.6982, Val Acc: 75.47%\n"
     ]
    },
    {
     "name": "stdout",
     "output_type": "stream",
     "text": [
      "Epoch [39/40], Train Loss: 0.6855, Train Acc: 76.36%, Val Loss: 0.6969, Val Acc: 75.87%\n"
     ]
    },
    {
     "name": "stdout",
     "output_type": "stream",
     "text": [
      "Epoch [40/40], Train Loss: 0.6803, Train Acc: 76.48%, Val Loss: 0.6965, Val Acc: 75.70%\n"
     ]
    }
   ],
   "source": [
    "CIFAR10_122.train_encoder_classifier(encoder_model, classifier_model, train_loader, val_loader, args, epochs=40)"
   ]
  }
 ],
 "metadata": {
  "kernelspec": {
   "display_name": "Python 3 (ipykernel)",
   "language": "python",
   "name": "python3"
  },
  "language_info": {
   "codemirror_mode": {
    "name": "ipython",
    "version": 3
   },
   "file_extension": ".py",
   "mimetype": "text/x-python",
   "name": "python",
   "nbconvert_exporter": "python",
   "pygments_lexer": "ipython3",
   "version": "3.9.0"
  }
 },
 "nbformat": 4,
 "nbformat_minor": 5
}
