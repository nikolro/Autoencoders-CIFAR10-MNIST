{
 "cells": [
  {
   "cell_type": "code",
   "execution_count": 1,
   "id": "ddab139d-f343-40c9-9509-6cbc89093a91",
   "metadata": {
    "execution": {
     "iopub.execute_input": "2025-03-19T19:33:27.664405Z",
     "iopub.status.busy": "2025-03-19T19:33:27.663899Z",
     "iopub.status.idle": "2025-03-19T19:33:27.671417Z",
     "shell.execute_reply": "2025-03-19T19:33:27.670619Z"
    }
   },
   "outputs": [],
   "source": [
    "# Initialize and Import Required Modules"
   ]
  },
  {
   "cell_type": "code",
   "execution_count": 2,
   "id": "c2b91c84-5869-4414-8536-2f4e4e7c10be",
   "metadata": {
    "execution": {
     "iopub.execute_input": "2025-03-19T19:33:27.674998Z",
     "iopub.status.busy": "2025-03-19T19:33:27.674734Z",
     "iopub.status.idle": "2025-03-19T19:33:29.826476Z",
     "shell.execute_reply": "2025-03-19T19:33:29.825547Z"
    }
   },
   "outputs": [],
   "source": [
    "# General Libraries\n",
    "import torch\n",
    "import argparse\n",
    "import numpy as np\n",
    "import random\n",
    "import matplotlib.pyplot as plt\n",
    "from torch.utils.data import DataLoader\n",
    "import warnings\n",
    "warnings.filterwarnings(\"ignore\", category=UserWarning)"
   ]
  },
  {
   "cell_type": "code",
   "execution_count": 3,
   "id": "a2373d50-b953-432d-b72f-5afaee44e7f4",
   "metadata": {
    "execution": {
     "iopub.execute_input": "2025-03-19T19:33:29.830626Z",
     "iopub.status.busy": "2025-03-19T19:33:29.830093Z",
     "iopub.status.idle": "2025-03-19T19:33:29.835017Z",
     "shell.execute_reply": "2025-03-19T19:33:29.834273Z"
    }
   },
   "outputs": [],
   "source": [
    "\n",
    "\n",
    "# Test cifar 121\n",
    "\n"
   ]
  },
  {
   "cell_type": "code",
   "execution_count": 4,
   "id": "c3e15c0f-d312-4acf-8ee3-2a4becf88365",
   "metadata": {
    "execution": {
     "iopub.execute_input": "2025-03-19T19:33:29.838368Z",
     "iopub.status.busy": "2025-03-19T19:33:29.838037Z",
     "iopub.status.idle": "2025-03-19T19:33:30.764455Z",
     "shell.execute_reply": "2025-03-19T19:33:30.763345Z"
    }
   },
   "outputs": [],
   "source": [
    "# Import the MNIST Autoencoder file\n",
    "import CIFAR10_121  \n",
    "\n",
    "# Set device\n",
    "device = \"cuda\" if torch.cuda.is_available() else \"cpu\"\n",
    "\n",
    "# Define arguments\n",
    "args = argparse.Namespace(\n",
    "    data_path=\"../data\",\n",
    "    batch_size=512,\n",
    "    latent_dim=128,\n",
    "    device=device\n",
    ")"
   ]
  },
  {
   "cell_type": "code",
   "execution_count": 5,
   "id": "dff0b5b8-8e7b-42a1-8c82-a77737c4eefc",
   "metadata": {
    "execution": {
     "iopub.execute_input": "2025-03-19T19:33:30.768909Z",
     "iopub.status.busy": "2025-03-19T19:33:30.768401Z",
     "iopub.status.idle": "2025-03-19T19:33:30.773709Z",
     "shell.execute_reply": "2025-03-19T19:33:30.772969Z"
    }
   },
   "outputs": [],
   "source": [
    "#Load the Dataset and Check It"
   ]
  },
  {
   "cell_type": "code",
   "execution_count": 6,
   "id": "710c0e86-7eef-4f8e-a0a0-7ba4afb6fa07",
   "metadata": {
    "execution": {
     "iopub.execute_input": "2025-03-19T19:33:30.777152Z",
     "iopub.status.busy": "2025-03-19T19:33:30.776833Z",
     "iopub.status.idle": "2025-03-19T19:33:33.655976Z",
     "shell.execute_reply": "2025-03-19T19:33:33.655114Z"
    }
   },
   "outputs": [
    {
     "name": "stdout",
     "output_type": "stream",
     "text": [
      "Files already downloaded and verified\n"
     ]
    },
    {
     "name": "stdout",
     "output_type": "stream",
     "text": [
      "Files already downloaded and verified\n"
     ]
    },
    {
     "data": {
      "image/png": "[encoded data removed]",
      "text/plain": [
       "<Figure size 1200x400 with 8 Axes>"
      ]
     },
     "metadata": {},
     "output_type": "display_data"
    }
   ],
   "source": [
    "# Load dataset\n",
    "train_loader, val_loader, test_loader = CIFAR10_121.load_data(args)\n",
    "\n",
    "# Retrieve a batch of images\n",
    "images_0_1, _ = next(iter(train_loader))\n",
    "\n",
    "# Convert images to range [0,255] for proper display\n",
    "images_0_255 = images_0_1 * 255  # Scale if needed\n",
    "\n",
    "# Visualize some images\n",
    "fig, axes = plt.subplots(1, 8, figsize=(12, 4))\n",
    "for i in range(8):\n",
    "    img = images_0_255[i].permute(1, 2, 0).numpy()  # Convert (C, H, W) → (H, W, C)\n",
    "    img = np.clip(img, 0, 255).astype(\"uint8\")  # Ensure valid pixel values\n",
    "    axes[i].imshow(img)\n",
    "    axes[i].axis(\"off\")\n",
    "\n",
    "plt.show()\n"
   ]
  },
  {
   "cell_type": "code",
   "execution_count": 7,
   "id": "386b56fb-3c14-466d-abc7-d508ea5d2a77",
   "metadata": {
    "execution": {
     "iopub.execute_input": "2025-03-19T19:33:33.659761Z",
     "iopub.status.busy": "2025-03-19T19:33:33.659394Z",
     "iopub.status.idle": "2025-03-19T19:33:33.664529Z",
     "shell.execute_reply": "2025-03-19T19:33:33.663744Z"
    }
   },
   "outputs": [],
   "source": [
    "#Verify the Autoencoder Model Architecture"
   ]
  },
  {
   "cell_type": "code",
   "execution_count": 8,
   "id": "822be85a-7dc4-435a-acc2-95d9285294bd",
   "metadata": {
    "execution": {
     "iopub.execute_input": "2025-03-19T19:33:33.668279Z",
     "iopub.status.busy": "2025-03-19T19:33:33.667981Z",
     "iopub.status.idle": "2025-03-19T19:33:36.786729Z",
     "shell.execute_reply": "2025-03-19T19:33:36.785517Z"
    }
   },
   "outputs": [
    {
     "name": "stdout",
     "output_type": "stream",
     "text": [
      "Autoencoder(\n",
      "  (encoder): Sequential(\n",
      "    (0): Conv2d(3, 64, kernel_size=(3, 3), stride=(2, 2), padding=(1, 1))\n",
      "    (1): BatchNorm2d(64, eps=1e-05, momentum=0.1, affine=True, track_running_stats=True)\n",
      "    (2): ReLU()\n",
      "    (3): Conv2d(64, 128, kernel_size=(3, 3), stride=(2, 2), padding=(1, 1))\n",
      "    (4): BatchNorm2d(128, eps=1e-05, momentum=0.1, affine=True, track_running_stats=True)\n",
      "    (5): ReLU()\n",
      "    (6): Conv2d(128, 256, kernel_size=(3, 3), stride=(2, 2), padding=(1, 1))\n",
      "    (7): BatchNorm2d(256, eps=1e-05, momentum=0.1, affine=True, track_running_stats=True)\n",
      "    (8): ReLU()\n",
      "    (9): Conv2d(256, 256, kernel_size=(3, 3), stride=(2, 2), padding=(1, 1))\n",
      "    (10): BatchNorm2d(256, eps=1e-05, momentum=0.1, affine=True, track_running_stats=True)\n",
      "    (11): ReLU()\n",
      "    (12): Flatten(start_dim=1, end_dim=-1)\n",
      "    (13): Linear(in_features=1024, out_features=128, bias=True)\n",
      "  )\n",
      "  (decoder): Sequential(\n",
      "    (0): Linear(in_features=128, out_features=1024, bias=True)\n",
      "    (1): ReLU()\n",
      "    (2): Unflatten(dim=1, unflattened_size=(256, 2, 2))\n",
      "    (3): ConvTranspose2d(256, 256, kernel_size=(3, 3), stride=(2, 2), padding=(1, 1), output_padding=(1, 1))\n",
      "    (4): BatchNorm2d(256, eps=1e-05, momentum=0.1, affine=True, track_running_stats=True)\n",
      "    (5): ReLU()\n",
      "    (6): ConvTranspose2d(256, 128, kernel_size=(3, 3), stride=(2, 2), padding=(1, 1), output_padding=(1, 1))\n",
      "    (7): BatchNorm2d(128, eps=1e-05, momentum=0.1, affine=True, track_running_stats=True)\n",
      "    (8): ReLU()\n",
      "    (9): ConvTranspose2d(128, 64, kernel_size=(3, 3), stride=(2, 2), padding=(1, 1), output_padding=(1, 1))\n",
      "    (10): BatchNorm2d(64, eps=1e-05, momentum=0.1, affine=True, track_running_stats=True)\n",
      "    (11): ReLU()\n",
      "    (12): ConvTranspose2d(64, 3, kernel_size=(3, 3), stride=(2, 2), padding=(1, 1), output_padding=(1, 1))\n",
      "    (13): Tanh()\n",
      "  )\n",
      ")\n"
     ]
    }
   ],
   "source": [
    "# Initialize model\n",
    "model = CIFAR10_121.Autoencoder(args.latent_dim).to(args.device)\n",
    "\n",
    "# Print model summary\n",
    "print(model)"
   ]
  },
  {
   "cell_type": "code",
   "execution_count": 9,
   "id": "e231c79c-d687-4344-83b3-432beb2a9403",
   "metadata": {
    "execution": {
     "iopub.execute_input": "2025-03-19T19:33:36.790410Z",
     "iopub.status.busy": "2025-03-19T19:33:36.789930Z",
     "iopub.status.idle": "2025-03-19T19:33:36.794417Z",
     "shell.execute_reply": "2025-03-19T19:33:36.793406Z"
    }
   },
   "outputs": [],
   "source": [
    "#Run a Single Forward Pass"
   ]
  },
  {
   "cell_type": "code",
   "execution_count": 10,
   "id": "89eb996c-53ef-4718-bd7b-53b9fabf4581",
   "metadata": {
    "execution": {
     "iopub.execute_input": "2025-03-19T19:33:36.797801Z",
     "iopub.status.busy": "2025-03-19T19:33:36.797481Z",
     "iopub.status.idle": "2025-03-19T19:33:37.790808Z",
     "shell.execute_reply": "2025-03-19T19:33:37.789652Z"
    }
   },
   "outputs": [
    {
     "data": {
      "image/png": "[encoded data removed]",
      "text/plain": [
       "<Figure size 1200x300 with 16 Axes>"
      ]
     },
     "metadata": {},
     "output_type": "display_data"
    }
   ],
   "source": [
    "# Move images to the correct device\n",
    "images_0_1 = images_0_1.to(args.device)\n",
    "\n",
    "# Pass through the autoencoder\n",
    "with torch.no_grad():\n",
    "    recon_images_0_1 = model(images_0_1)\n",
    "\n",
    "# Scale back to [0,255]\n",
    "recon_images_0_255 = (recon_images_0_1 * 255)\n",
    "\n",
    "# Create the figure\n",
    "fig, axes = plt.subplots(2, 8, figsize=(12, 3))\n",
    "plt.subplots_adjust(wspace=0, hspace=0.1)\n",
    "\n",
    "# Add row titles manually\n",
    "fig.suptitle(\"Original (Top) vs Reconstructed (Bottom)\", fontsize=14, y=1.05)\n",
    "\n",
    "for i in range(8):\n",
    "    # Original images\n",
    "    img = images_0_255[i].cpu().permute(1, 2, 0).numpy()  # Convert (C, H, W) → (H, W, C)\n",
    "    img = np.clip(img, 0, 255).astype(\"uint8\")  # Ensure pixel values are in valid range\n",
    "    axes[0, i].imshow(img)  \n",
    "    axes[0, i].axis(\"off\")\n",
    "\n",
    "    # Reconstructed images\n",
    "    recon_img = recon_images_0_255[i].cpu().permute(1, 2, 0).numpy()  # Convert (C, H, W) → (H, W, C)\n",
    "    recon_img = np.clip(recon_img, 0, 255).astype(\"uint8\")  # Ensure pixel values are in valid range\n",
    "    axes[1, i].imshow(recon_img)  \n",
    "    axes[1, i].axis(\"off\")\n",
    "\n",
    "plt.show()\n"
   ]
  },
  {
   "cell_type": "code",
   "execution_count": 11,
   "id": "5c95db66-1ac3-4629-b66c-7801b2ff14ef",
   "metadata": {
    "execution": {
     "iopub.execute_input": "2025-03-19T19:33:37.794639Z",
     "iopub.status.busy": "2025-03-19T19:33:37.794295Z",
     "iopub.status.idle": "2025-03-19T19:33:37.798184Z",
     "shell.execute_reply": "2025-03-19T19:33:37.797242Z"
    }
   },
   "outputs": [],
   "source": [
    "#Train for One Epoch to Check Loss Computation"
   ]
  },
  {
   "cell_type": "code",
   "execution_count": 12,
   "id": "fad8b4e0-3c6c-41f4-9e5e-1ba5de87662d",
   "metadata": {
    "execution": {
     "iopub.execute_input": "2025-03-19T19:33:37.801621Z",
     "iopub.status.busy": "2025-03-19T19:33:37.801328Z",
     "iopub.status.idle": "2025-03-19T20:11:05.320697Z",
     "shell.execute_reply": "2025-03-19T20:11:05.319162Z"
    }
   },
   "outputs": [
    {
     "name": "stdout",
     "output_type": "stream",
     "text": [
      "Epoch [1/40], Train Loss: 0.2251, Val Loss: 0.1367\n"
     ]
    },
    {
     "name": "stdout",
     "output_type": "stream",
     "text": [
      "Epoch [2/40], Train Loss: 0.1041, Val Loss: 0.0899\n"
     ]
    },
    {
     "name": "stdout",
     "output_type": "stream",
     "text": [
      "Epoch [3/40], Train Loss: 0.0803, Val Loss: 0.0832\n"
     ]
    },
    {
     "name": "stdout",
     "output_type": "stream",
     "text": [
      "Epoch [4/40], Train Loss: 0.0683, Val Loss: 0.0681\n"
     ]
    },
    {
     "name": "stdout",
     "output_type": "stream",
     "text": [
      "Epoch [5/40], Train Loss: 0.0584, Val Loss: 0.0614\n"
     ]
    },
    {
     "name": "stdout",
     "output_type": "stream",
     "text": [
      "Epoch [6/40], Train Loss: 0.0530, Val Loss: 0.0544\n"
     ]
    },
    {
     "name": "stdout",
     "output_type": "stream",
     "text": [
      "Epoch [7/40], Train Loss: 0.0487, Val Loss: 0.0485\n"
     ]
    },
    {
     "name": "stdout",
     "output_type": "stream",
     "text": [
      "Epoch [8/40], Train Loss: 0.0435, Val Loss: 0.0457\n"
     ]
    },
    {
     "name": "stdout",
     "output_type": "stream",
     "text": [
      "Epoch [9/40], Train Loss: 0.0402, Val Loss: 0.0465\n"
     ]
    },
    {
     "name": "stdout",
     "output_type": "stream",
     "text": [
      "Epoch [10/40], Train Loss: 0.0386, Val Loss: 0.0416\n"
     ]
    },
    {
     "name": "stdout",
     "output_type": "stream",
     "text": [
      "Epoch [11/40], Train Loss: 0.0367, Val Loss: 0.0394\n"
     ]
    },
    {
     "name": "stdout",
     "output_type": "stream",
     "text": [
      "Epoch [12/40], Train Loss: 0.0353, Val Loss: 0.0380\n"
     ]
    },
    {
     "name": "stdout",
     "output_type": "stream",
     "text": [
      "Epoch [13/40], Train Loss: 0.0342, Val Loss: 0.0391\n"
     ]
    },
    {
     "name": "stdout",
     "output_type": "stream",
     "text": [
      "Epoch [14/40], Train Loss: 0.0334, Val Loss: 0.0378\n"
     ]
    },
    {
     "name": "stdout",
     "output_type": "stream",
     "text": [
      "Epoch [15/40], Train Loss: 0.0319, Val Loss: 0.0352\n"
     ]
    },
    {
     "name": "stdout",
     "output_type": "stream",
     "text": [
      "Epoch [16/40], Train Loss: 0.0314, Val Loss: 0.0369\n"
     ]
    },
    {
     "name": "stdout",
     "output_type": "stream",
     "text": [
      "Epoch [17/40], Train Loss: 0.0306, Val Loss: 0.0349\n"
     ]
    },
    {
     "name": "stdout",
     "output_type": "stream",
     "text": [
      "Epoch [18/40], Train Loss: 0.0299, Val Loss: 0.0305\n"
     ]
    },
    {
     "name": "stdout",
     "output_type": "stream",
     "text": [
      "Epoch [19/40], Train Loss: 0.0291, Val Loss: 0.0297\n"
     ]
    },
    {
     "name": "stdout",
     "output_type": "stream",
     "text": [
      "Epoch [20/40], Train Loss: 0.0287, Val Loss: 0.0340\n"
     ]
    },
    {
     "name": "stdout",
     "output_type": "stream",
     "text": [
      "Epoch [21/40], Train Loss: 0.0282, Val Loss: 0.0299\n"
     ]
    },
    {
     "name": "stdout",
     "output_type": "stream",
     "text": [
      "Epoch [22/40], Train Loss: 0.0276, Val Loss: 0.0282\n"
     ]
    },
    {
     "name": "stdout",
     "output_type": "stream",
     "text": [
      "Epoch [23/40], Train Loss: 0.0272, Val Loss: 0.0274\n"
     ]
    },
    {
     "name": "stdout",
     "output_type": "stream",
     "text": [
      "Epoch [24/40], Train Loss: 0.0267, Val Loss: 0.0266\n"
     ]
    },
    {
     "name": "stdout",
     "output_type": "stream",
     "text": [
      "Epoch [25/40], Train Loss: 0.0263, Val Loss: 0.0266\n"
     ]
    },
    {
     "name": "stdout",
     "output_type": "stream",
     "text": [
      "Epoch [26/40], Train Loss: 0.0259, Val Loss: 0.0264\n"
     ]
    },
    {
     "name": "stdout",
     "output_type": "stream",
     "text": [
      "Epoch [27/40], Train Loss: 0.0255, Val Loss: 0.0269\n"
     ]
    },
    {
     "name": "stdout",
     "output_type": "stream",
     "text": [
      "Epoch [28/40], Train Loss: 0.0252, Val Loss: 0.0270\n"
     ]
    },
    {
     "name": "stdout",
     "output_type": "stream",
     "text": [
      "Epoch [29/40], Train Loss: 0.0252, Val Loss: 0.0248\n"
     ]
    },
    {
     "name": "stdout",
     "output_type": "stream",
     "text": [
      "Epoch [30/40], Train Loss: 0.0247, Val Loss: 0.0246\n"
     ]
    },
    {
     "name": "stdout",
     "output_type": "stream",
     "text": [
      "Epoch [31/40], Train Loss: 0.0246, Val Loss: 0.0245\n"
     ]
    },
    {
     "name": "stdout",
     "output_type": "stream",
     "text": [
      "Epoch [32/40], Train Loss: 0.0242, Val Loss: 0.0247\n"
     ]
    },
    {
     "name": "stdout",
     "output_type": "stream",
     "text": [
      "Epoch [33/40], Train Loss: 0.0241, Val Loss: 0.0237\n"
     ]
    },
    {
     "name": "stdout",
     "output_type": "stream",
     "text": [
      "Epoch [34/40], Train Loss: 0.0239, Val Loss: 0.0235\n"
     ]
    },
    {
     "name": "stdout",
     "output_type": "stream",
     "text": [
      "Epoch [35/40], Train Loss: 0.0237, Val Loss: 0.0230\n"
     ]
    },
    {
     "name": "stdout",
     "output_type": "stream",
     "text": [
      "Epoch [36/40], Train Loss: 0.0237, Val Loss: 0.0231\n"
     ]
    },
    {
     "name": "stdout",
     "output_type": "stream",
     "text": [
      "Epoch [37/40], Train Loss: 0.0234, Val Loss: 0.0228\n"
     ]
    },
    {
     "name": "stdout",
     "output_type": "stream",
     "text": [
      "Epoch [38/40], Train Loss: 0.0233, Val Loss: 0.0229\n"
     ]
    },
    {
     "name": "stdout",
     "output_type": "stream",
     "text": [
      "Epoch [39/40], Train Loss: 0.0233, Val Loss: 0.0226\n"
     ]
    },
    {
     "name": "stdout",
     "output_type": "stream",
     "text": [
      "Epoch [40/40], Train Loss: 0.0232, Val Loss: 0.0229\n"
     ]
    }
   ],
   "source": [
    "CIFAR10_121.train_autoencoder(model, train_loader, val_loader, args, epochs=40)"
   ]
  },
  {
   "cell_type": "code",
   "execution_count": 13,
   "id": "1ff363fb-0c53-4ba9-862c-5f510491a175",
   "metadata": {
    "execution": {
     "iopub.execute_input": "2025-03-19T20:11:05.325036Z",
     "iopub.status.busy": "2025-03-19T20:11:05.324665Z",
     "iopub.status.idle": "2025-03-19T20:11:05.330027Z",
     "shell.execute_reply": "2025-03-19T20:11:05.329286Z"
    }
   },
   "outputs": [],
   "source": [
    "#Verify Reconstruction"
   ]
  },
  {
   "cell_type": "code",
   "execution_count": 14,
   "id": "c5c18891-4b01-40fe-89fd-496a9b93c68a",
   "metadata": {
    "execution": {
     "iopub.execute_input": "2025-03-19T20:11:05.333375Z",
     "iopub.status.busy": "2025-03-19T20:11:05.333114Z",
     "iopub.status.idle": "2025-03-19T20:11:06.010050Z",
     "shell.execute_reply": "2025-03-19T20:11:06.009251Z"
    }
   },
   "outputs": [
    {
     "data": {
      "image/png": "[encoded data removed]",
      "text/plain": [
       "<Figure size 1200x300 with 16 Axes>"
      ]
     },
     "metadata": {},
     "output_type": "display_data"
    }
   ],
   "source": [
    "# Pass through the autoencoder\n",
    "with torch.no_grad():\n",
    "    recon_images_0_1 = model(images_0_1)\n",
    "\n",
    "# Convert images to CPU for visualization\n",
    "recon_images_0_1 = recon_images_0_1.cpu()\n",
    "\n",
    "# Scale back to [0,255]\n",
    "recon_images_0_255 = (recon_images_0_1 * 255)\n",
    "\n",
    "# Create the figure\n",
    "fig, axes = plt.subplots(2, 8, figsize=(12, 3))\n",
    "plt.subplots_adjust(wspace=0, hspace=0.1)\n",
    "\n",
    "# Add row titles manually\n",
    "fig.suptitle(\"Original (Top) vs Reconstructed (Bottom)\", fontsize=14, y=1.05)\n",
    "\n",
    "for i in range(8):\n",
    "    # Original images\n",
    "    img = images_0_255[i].cpu().permute(1, 2, 0).numpy()  # Convert (C, H, W) → (H, W, C)\n",
    "    img = np.clip(img, 0, 255).astype(\"uint8\")  # Ensure pixel values are in valid range\n",
    "    axes[0, i].imshow(img)  \n",
    "    axes[0, i].axis(\"off\")\n",
    "\n",
    "    # Reconstructed images\n",
    "    recon_img = recon_images_0_255[i].cpu().permute(1, 2, 0).numpy()  # Convert (C, H, W) → (H, W, C)\n",
    "    recon_img = np.clip(recon_img, 0, 255).astype(\"uint8\")  # Ensure pixel values are in valid range\n",
    "    axes[1, i].imshow(recon_img)  \n",
    "    axes[1, i].axis(\"off\")\n",
    "\n",
    "plt.show()"
   ]
  },
  {
   "cell_type": "code",
   "execution_count": 15,
   "id": "5e70273a-2e7d-40b9-bcb7-0230c5903f13",
   "metadata": {
    "execution": {
     "iopub.execute_input": "2025-03-19T20:11:06.013654Z",
     "iopub.status.busy": "2025-03-19T20:11:06.013320Z",
     "iopub.status.idle": "2025-03-19T20:11:06.018491Z",
     "shell.execute_reply": "2025-03-19T20:11:06.017734Z"
    }
   },
   "outputs": [],
   "source": [
    "#classifier traning"
   ]
  },
  {
   "cell_type": "code",
   "execution_count": 16,
   "id": "dfbf0dfe-8e47-424a-b29f-dd469dbbf4ad",
   "metadata": {
    "execution": {
     "iopub.execute_input": "2025-03-19T20:11:06.021805Z",
     "iopub.status.busy": "2025-03-19T20:11:06.021543Z",
     "iopub.status.idle": "2025-03-19T20:38:58.543678Z",
     "shell.execute_reply": "2025-03-19T20:38:58.542090Z"
    }
   },
   "outputs": [
    {
     "name": "stdout",
     "output_type": "stream",
     "text": [
      "Epoch [1/40], Train Loss: 2.1999, Train Acc: 20.02%\n"
     ]
    },
    {
     "name": "stdout",
     "output_type": "stream",
     "text": [
      "Epoch [2/40], Train Loss: 2.0279, Train Acc: 26.80%\n"
     ]
    },
    {
     "name": "stdout",
     "output_type": "stream",
     "text": [
      "Epoch [3/40], Train Loss: 1.9668, Train Acc: 29.40%\n"
     ]
    },
    {
     "name": "stdout",
     "output_type": "stream",
     "text": [
      "Epoch [4/40], Train Loss: 1.9230, Train Acc: 31.20%\n"
     ]
    },
    {
     "name": "stdout",
     "output_type": "stream",
     "text": [
      "Epoch [5/40], Train Loss: 1.8826, Train Acc: 32.74%\n"
     ]
    },
    {
     "name": "stdout",
     "output_type": "stream",
     "text": [
      "Epoch [6/40], Train Loss: 1.8580, Train Acc: 33.61%\n"
     ]
    },
    {
     "name": "stdout",
     "output_type": "stream",
     "text": [
      "Epoch [7/40], Train Loss: 1.8309, Train Acc: 34.36%\n"
     ]
    },
    {
     "name": "stdout",
     "output_type": "stream",
     "text": [
      "Epoch [8/40], Train Loss: 1.8164, Train Acc: 35.17%\n"
     ]
    },
    {
     "name": "stdout",
     "output_type": "stream",
     "text": [
      "Epoch [9/40], Train Loss: 1.7949, Train Acc: 35.60%\n"
     ]
    },
    {
     "name": "stdout",
     "output_type": "stream",
     "text": [
      "Epoch [10/40], Train Loss: 1.7831, Train Acc: 36.26%\n"
     ]
    },
    {
     "name": "stdout",
     "output_type": "stream",
     "text": [
      "Epoch [11/40], Train Loss: 1.7703, Train Acc: 36.51%\n"
     ]
    },
    {
     "name": "stdout",
     "output_type": "stream",
     "text": [
      "Epoch [12/40], Train Loss: 1.7634, Train Acc: 37.32%\n"
     ]
    },
    {
     "name": "stdout",
     "output_type": "stream",
     "text": [
      "Epoch [13/40], Train Loss: 1.7650, Train Acc: 36.95%\n"
     ]
    },
    {
     "name": "stdout",
     "output_type": "stream",
     "text": [
      "Epoch [14/40], Train Loss: 1.7513, Train Acc: 37.38%\n"
     ]
    },
    {
     "name": "stdout",
     "output_type": "stream",
     "text": [
      "Epoch [15/40], Train Loss: 1.7440, Train Acc: 37.36%\n"
     ]
    },
    {
     "name": "stdout",
     "output_type": "stream",
     "text": [
      "Epoch [16/40], Train Loss: 1.7414, Train Acc: 37.71%\n"
     ]
    },
    {
     "name": "stdout",
     "output_type": "stream",
     "text": [
      "Epoch [17/40], Train Loss: 1.7357, Train Acc: 37.88%\n"
     ]
    },
    {
     "name": "stdout",
     "output_type": "stream",
     "text": [
      "Epoch [18/40], Train Loss: 1.7252, Train Acc: 38.35%\n"
     ]
    },
    {
     "name": "stdout",
     "output_type": "stream",
     "text": [
      "Epoch [19/40], Train Loss: 1.7214, Train Acc: 38.40%\n"
     ]
    },
    {
     "name": "stdout",
     "output_type": "stream",
     "text": [
      "Epoch [20/40], Train Loss: 1.7217, Train Acc: 38.45%\n"
     ]
    },
    {
     "name": "stdout",
     "output_type": "stream",
     "text": [
      "Epoch [21/40], Train Loss: 1.7164, Train Acc: 38.64%\n"
     ]
    },
    {
     "name": "stdout",
     "output_type": "stream",
     "text": [
      "Epoch [22/40], Train Loss: 1.7132, Train Acc: 38.85%\n"
     ]
    },
    {
     "name": "stdout",
     "output_type": "stream",
     "text": [
      "Epoch [23/40], Train Loss: 1.7108, Train Acc: 38.40%\n"
     ]
    },
    {
     "name": "stdout",
     "output_type": "stream",
     "text": [
      "Epoch [24/40], Train Loss: 1.7048, Train Acc: 39.15%\n"
     ]
    },
    {
     "name": "stdout",
     "output_type": "stream",
     "text": [
      "Epoch [25/40], Train Loss: 1.7071, Train Acc: 39.09%\n"
     ]
    },
    {
     "name": "stdout",
     "output_type": "stream",
     "text": [
      "Epoch [26/40], Train Loss: 1.7011, Train Acc: 38.76%\n"
     ]
    },
    {
     "name": "stdout",
     "output_type": "stream",
     "text": [
      "Epoch [27/40], Train Loss: 1.7010, Train Acc: 39.19%\n"
     ]
    },
    {
     "name": "stdout",
     "output_type": "stream",
     "text": [
      "Epoch [28/40], Train Loss: 1.6905, Train Acc: 39.35%\n"
     ]
    },
    {
     "name": "stdout",
     "output_type": "stream",
     "text": [
      "Epoch [29/40], Train Loss: 1.6970, Train Acc: 39.16%\n"
     ]
    },
    {
     "name": "stdout",
     "output_type": "stream",
     "text": [
      "Epoch [30/40], Train Loss: 1.6865, Train Acc: 39.66%\n"
     ]
    },
    {
     "name": "stdout",
     "output_type": "stream",
     "text": [
      "Epoch [31/40], Train Loss: 1.6934, Train Acc: 39.27%\n"
     ]
    },
    {
     "name": "stdout",
     "output_type": "stream",
     "text": [
      "Epoch [32/40], Train Loss: 1.6934, Train Acc: 39.30%\n"
     ]
    },
    {
     "name": "stdout",
     "output_type": "stream",
     "text": [
      "Epoch [33/40], Train Loss: 1.6907, Train Acc: 39.70%\n"
     ]
    },
    {
     "name": "stdout",
     "output_type": "stream",
     "text": [
      "Epoch [34/40], Train Loss: 1.6861, Train Acc: 39.56%\n"
     ]
    },
    {
     "name": "stdout",
     "output_type": "stream",
     "text": [
      "Epoch [35/40], Train Loss: 1.6865, Train Acc: 39.65%\n"
     ]
    },
    {
     "name": "stdout",
     "output_type": "stream",
     "text": [
      "Epoch [36/40], Train Loss: 1.6820, Train Acc: 39.92%\n"
     ]
    },
    {
     "name": "stdout",
     "output_type": "stream",
     "text": [
      "Epoch [37/40], Train Loss: 1.6855, Train Acc: 39.76%\n"
     ]
    },
    {
     "name": "stdout",
     "output_type": "stream",
     "text": [
      "Epoch [38/40], Train Loss: 1.6813, Train Acc: 39.89%\n"
     ]
    },
    {
     "name": "stdout",
     "output_type": "stream",
     "text": [
      "Epoch [39/40], Train Loss: 1.6831, Train Acc: 39.77%\n"
     ]
    },
    {
     "name": "stdout",
     "output_type": "stream",
     "text": [
      "Epoch [40/40], Train Loss: 1.6826, Train Acc: 39.63%\n",
      "Finished Training Classifier\n"
     ]
    }
   ],
   "source": [
    "classifier = CIFAR10_121.Classifier(args.latent_dim).to(args.device)\n",
    "CIFAR10_121.train_classifier(model, classifier, train_loader, val_loader, args, epochs=40)"
   ]
  }
 ],
 "metadata": {
  "kernelspec": {
   "display_name": "Python 3 (ipykernel)",
   "language": "python",
   "name": "python3"
  },
  "language_info": {
   "codemirror_mode": {
    "name": "ipython",
    "version": 3
   },
   "file_extension": ".py",
   "mimetype": "text/x-python",
   "name": "python",
   "nbconvert_exporter": "python",
   "pygments_lexer": "ipython3",
   "version": "3.9.0"
  }
 },
 "nbformat": 4,
 "nbformat_minor": 5
}
