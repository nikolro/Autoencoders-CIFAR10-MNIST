{
 "cells": [
  {
   "cell_type": "code",
   "execution_count": 1,
   "id": "ddab139d-f343-40c9-9509-6cbc89093a91",
   "metadata": {
    "execution": {
     "iopub.execute_input": "2025-03-10T15:36:35.887747Z",
     "iopub.status.busy": "2025-03-10T15:36:35.887236Z",
     "iopub.status.idle": "2025-03-10T15:36:35.893212Z",
     "shell.execute_reply": "2025-03-10T15:36:35.892508Z"
    }
   },
   "outputs": [],
   "source": [
    "# Initialize and Import Required Modules"
   ]
  },
  {
   "cell_type": "code",
   "execution_count": 2,
   "id": "c2b91c84-5869-4414-8536-2f4e4e7c10be",
   "metadata": {
    "execution": {
     "iopub.execute_input": "2025-03-10T15:36:35.896322Z",
     "iopub.status.busy": "2025-03-10T15:36:35.896095Z",
     "iopub.status.idle": "2025-03-10T15:36:40.556656Z",
     "shell.execute_reply": "2025-03-10T15:36:40.555654Z"
    }
   },
   "outputs": [],
   "source": [
    "# General Libraries\n",
    "import torch\n",
    "import argparse\n",
    "import numpy as np\n",
    "import random\n",
    "import matplotlib.pyplot as plt\n",
    "from torch.utils.data import DataLoader\n",
    "import warnings\n",
    "warnings.filterwarnings(\"ignore\", category=UserWarning)"
   ]
  },
  {
   "cell_type": "code",
   "execution_count": 3,
   "id": "a2373d50-b953-432d-b72f-5afaee44e7f4",
   "metadata": {
    "execution": {
     "iopub.execute_input": "2025-03-10T15:36:40.561343Z",
     "iopub.status.busy": "2025-03-10T15:36:40.560870Z",
     "iopub.status.idle": "2025-03-10T15:36:40.566538Z",
     "shell.execute_reply": "2025-03-10T15:36:40.565628Z"
    }
   },
   "outputs": [],
   "source": [
    "\n",
    "\n",
    "# Test minst 122\n",
    "\n"
   ]
  },
  {
   "cell_type": "code",
   "execution_count": 4,
   "id": "c3e15c0f-d312-4acf-8ee3-2a4becf88365",
   "metadata": {
    "execution": {
     "iopub.execute_input": "2025-03-10T15:36:40.569610Z",
     "iopub.status.busy": "2025-03-10T15:36:40.569378Z",
     "iopub.status.idle": "2025-03-10T15:36:41.755586Z",
     "shell.execute_reply": "2025-03-10T15:36:41.754741Z"
    }
   },
   "outputs": [],
   "source": [
    "# Import the MNIST Autoencoder file\n",
    "import MNIST_122  \n",
    "\n",
    "# Set device\n",
    "device = \"cuda\" if torch.cuda.is_available() else \"cpu\"\n",
    "\n",
    "# Define arguments\n",
    "args = argparse.Namespace(\n",
    "    data_path=\"../data\",\n",
    "    batch_size=128,\n",
    "    latent_dim=128,\n",
    "    device=device\n",
    ")"
   ]
  },
  {
   "cell_type": "code",
   "execution_count": 5,
   "id": "dff0b5b8-8e7b-42a1-8c82-a77737c4eefc",
   "metadata": {
    "execution": {
     "iopub.execute_input": "2025-03-10T15:36:41.759321Z",
     "iopub.status.busy": "2025-03-10T15:36:41.758880Z",
     "iopub.status.idle": "2025-03-10T15:36:41.762579Z",
     "shell.execute_reply": "2025-03-10T15:36:41.761650Z"
    }
   },
   "outputs": [],
   "source": [
    "#Load the Dataset and Check It"
   ]
  },
  {
   "cell_type": "code",
   "execution_count": 6,
   "id": "710c0e86-7eef-4f8e-a0a0-7ba4afb6fa07",
   "metadata": {
    "execution": {
     "iopub.execute_input": "2025-03-10T15:36:41.765727Z",
     "iopub.status.busy": "2025-03-10T15:36:41.765430Z",
     "iopub.status.idle": "2025-03-10T15:36:42.837459Z",
     "shell.execute_reply": "2025-03-10T15:36:42.836737Z"
    }
   },
   "outputs": [
    {
     "data": {
      "image/png": "[encoded data removed]",
      "text/plain": [
       "<Figure size 1200x400 with 8 Axes>"
      ]
     },
     "metadata": {},
     "output_type": "display_data"
    }
   ],
   "source": [
    "# Load dataset\n",
    "train_loader, val_loader, test_loader = MNIST_122.load_data(args)\n",
    "\n",
    "# Retrieve a batch of images\n",
    "images_0_1, _ = next(iter(train_loader))\n",
    "\n",
    "# Convert images to range [0,255] for proper display\n",
    "images_0_255 = images_0_1 * 255  # Scale if needed\n",
    "\n",
    "# Visualize some images\n",
    "fig, axes = plt.subplots(1, 8, figsize=(12, 4))\n",
    "for i in range(8):\n",
    "    img = images_0_255[i].permute(1, 2, 0).numpy()  # Convert (C, H, W) → (H, W, C)\n",
    "    img = np.clip(img, 0, 255).astype(\"uint8\")  # Ensure valid pixel values\n",
    "    axes[i].imshow(img)\n",
    "    axes[i].axis(\"off\")\n",
    "\n",
    "plt.show()\n"
   ]
  },
  {
   "cell_type": "code",
   "execution_count": 7,
   "id": "386b56fb-3c14-466d-abc7-d508ea5d2a77",
   "metadata": {
    "execution": {
     "iopub.execute_input": "2025-03-10T15:36:42.840659Z",
     "iopub.status.busy": "2025-03-10T15:36:42.840362Z",
     "iopub.status.idle": "2025-03-10T15:36:42.844946Z",
     "shell.execute_reply": "2025-03-10T15:36:42.844148Z"
    }
   },
   "outputs": [],
   "source": [
    "#Verify the Autoencoder Model Architecture"
   ]
  },
  {
   "cell_type": "code",
   "execution_count": 8,
   "id": "822be85a-7dc4-435a-acc2-95d9285294bd",
   "metadata": {
    "execution": {
     "iopub.execute_input": "2025-03-10T15:36:42.848103Z",
     "iopub.status.busy": "2025-03-10T15:36:42.847872Z",
     "iopub.status.idle": "2025-03-10T15:36:49.626564Z",
     "shell.execute_reply": "2025-03-10T15:36:49.625739Z"
    }
   },
   "outputs": [
    {
     "name": "stdout",
     "output_type": "stream",
     "text": [
      "Encoder(\n",
      "  (encoder): Sequential(\n",
      "    (0): Conv2d(1, 16, kernel_size=(3, 3), stride=(2, 2), padding=(1, 1))\n",
      "    (1): ReLU()\n",
      "    (2): Conv2d(16, 32, kernel_size=(3, 3), stride=(2, 2), padding=(1, 1))\n",
      "    (3): ReLU()\n",
      "    (4): Flatten(start_dim=1, end_dim=-1)\n",
      "    (5): Linear(in_features=1568, out_features=128, bias=True)\n",
      "  )\n",
      ")\n"
     ]
    }
   ],
   "source": [
    "# Initialize model\n",
    "encoder_model = MNIST_122.Encoder(args.latent_dim).to(args.device)\n",
    "\n",
    "# Print model summary\n",
    "print(encoder_model)"
   ]
  },
  {
   "cell_type": "code",
   "execution_count": 9,
   "id": "680212c3-61bf-4eed-8605-2f3e98c56ab4",
   "metadata": {
    "execution": {
     "iopub.execute_input": "2025-03-10T15:36:49.629856Z",
     "iopub.status.busy": "2025-03-10T15:36:49.629548Z",
     "iopub.status.idle": "2025-03-10T15:36:49.635486Z",
     "shell.execute_reply": "2025-03-10T15:36:49.634488Z"
    }
   },
   "outputs": [
    {
     "name": "stdout",
     "output_type": "stream",
     "text": [
      "Classifier(\n",
      "  (fc): Sequential(\n",
      "    (0): Linear(in_features=128, out_features=64, bias=True)\n",
      "    (1): ReLU()\n",
      "    (2): Dropout(p=0.2, inplace=False)\n",
      "    (3): Linear(in_features=64, out_features=10, bias=True)\n",
      "  )\n",
      ")\n"
     ]
    }
   ],
   "source": [
    "# Initialize model\n",
    "classifier_model = MNIST_122.Classifier(args.latent_dim).to(args.device)\n",
    "\n",
    "# Print model summary\n",
    "print(classifier_model)"
   ]
  },
  {
   "cell_type": "code",
   "execution_count": 10,
   "id": "5c95db66-1ac3-4629-b66c-7801b2ff14ef",
   "metadata": {
    "execution": {
     "iopub.execute_input": "2025-03-10T15:36:49.638370Z",
     "iopub.status.busy": "2025-03-10T15:36:49.638085Z",
     "iopub.status.idle": "2025-03-10T15:36:49.641471Z",
     "shell.execute_reply": "2025-03-10T15:36:49.640623Z"
    }
   },
   "outputs": [],
   "source": [
    "#Train the model"
   ]
  },
  {
   "cell_type": "code",
   "execution_count": 11,
   "id": "fad8b4e0-3c6c-41f4-9e5e-1ba5de87662d",
   "metadata": {
    "execution": {
     "iopub.execute_input": "2025-03-10T15:36:49.644951Z",
     "iopub.status.busy": "2025-03-10T15:36:49.644721Z",
     "iopub.status.idle": "2025-03-10T15:38:43.351500Z",
     "shell.execute_reply": "2025-03-10T15:38:43.350124Z"
    }
   },
   "outputs": [
    {
     "name": "stdout",
     "output_type": "stream",
     "text": [
      "Epoch [1/15], Train Loss: 0.4848, Train Acc: 85.02%, Val Loss: 0.1571, Val Acc: 95.25%\n"
     ]
    },
    {
     "name": "stdout",
     "output_type": "stream",
     "text": [
      "Epoch [2/15], Train Loss: 0.1408, Train Acc: 95.80%, Val Loss: 0.1009, Val Acc: 96.83%\n"
     ]
    },
    {
     "name": "stdout",
     "output_type": "stream",
     "text": [
      "Epoch [3/15], Train Loss: 0.0965, Train Acc: 97.11%, Val Loss: 0.0726, Val Acc: 97.70%\n"
     ]
    },
    {
     "name": "stdout",
     "output_type": "stream",
     "text": [
      "Epoch [4/15], Train Loss: 0.0767, Train Acc: 97.65%, Val Loss: 0.0668, Val Acc: 97.94%\n"
     ]
    },
    {
     "name": "stdout",
     "output_type": "stream",
     "text": [
      "Epoch [5/15], Train Loss: 0.0641, Train Acc: 98.05%, Val Loss: 0.0624, Val Acc: 98.15%\n"
     ]
    },
    {
     "name": "stdout",
     "output_type": "stream",
     "text": [
      "Epoch [6/15], Train Loss: 0.0561, Train Acc: 98.22%, Val Loss: 0.0553, Val Acc: 98.33%\n"
     ]
    },
    {
     "name": "stdout",
     "output_type": "stream",
     "text": [
      "Epoch [7/15], Train Loss: 0.0487, Train Acc: 98.50%, Val Loss: 0.0519, Val Acc: 98.42%\n"
     ]
    },
    {
     "name": "stdout",
     "output_type": "stream",
     "text": [
      "Epoch [8/15], Train Loss: 0.0422, Train Acc: 98.65%, Val Loss: 0.0494, Val Acc: 98.54%\n"
     ]
    },
    {
     "name": "stdout",
     "output_type": "stream",
     "text": [
      "Epoch [9/15], Train Loss: 0.0375, Train Acc: 98.80%, Val Loss: 0.0517, Val Acc: 98.44%\n"
     ]
    },
    {
     "name": "stdout",
     "output_type": "stream",
     "text": [
      "Epoch [10/15], Train Loss: 0.0351, Train Acc: 98.89%, Val Loss: 0.0530, Val Acc: 98.49%\n"
     ]
    },
    {
     "name": "stdout",
     "output_type": "stream",
     "text": [
      "Epoch [11/15], Train Loss: 0.0316, Train Acc: 98.93%, Val Loss: 0.0555, Val Acc: 98.38%\n"
     ]
    },
    {
     "name": "stdout",
     "output_type": "stream",
     "text": [
      "Epoch [12/15], Train Loss: 0.0279, Train Acc: 99.09%, Val Loss: 0.0513, Val Acc: 98.63%\n"
     ]
    },
    {
     "name": "stdout",
     "output_type": "stream",
     "text": [
      "Epoch [13/15], Train Loss: 0.0269, Train Acc: 99.13%, Val Loss: 0.0477, Val Acc: 98.53%\n"
     ]
    },
    {
     "name": "stdout",
     "output_type": "stream",
     "text": [
      "Epoch [14/15], Train Loss: 0.0229, Train Acc: 99.24%, Val Loss: 0.0511, Val Acc: 98.61%\n"
     ]
    },
    {
     "name": "stdout",
     "output_type": "stream",
     "text": [
      "Epoch [15/15], Train Loss: 0.0240, Train Acc: 99.19%, Val Loss: 0.0531, Val Acc: 98.50%\n"
     ]
    }
   ],
   "source": [
    "MNIST_122.train_encoder_classifier(encoder_model, classifier_model, train_loader, val_loader, args, epochs=15)"
   ]
  }
 ],
 "metadata": {
  "kernelspec": {
   "display_name": "Python 3 (ipykernel)",
   "language": "python",
   "name": "python3"
  },
  "language_info": {
   "codemirror_mode": {
    "name": "ipython",
    "version": 3
   },
   "file_extension": ".py",
   "mimetype": "text/x-python",
   "name": "python",
   "nbconvert_exporter": "python",
   "pygments_lexer": "ipython3",
   "version": "3.9.0"
  }
 },
 "nbformat": 4,
 "nbformat_minor": 5
}
