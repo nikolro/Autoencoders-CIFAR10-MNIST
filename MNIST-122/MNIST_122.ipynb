{
 "cells": [
  {
   "cell_type": "code",
   "execution_count": 1,
   "id": "ddab139d-f343-40c9-9509-6cbc89093a91",
   "metadata": {
    "execution": {
     "iopub.execute_input": "2025-03-19T17:24:23.760719Z",
     "iopub.status.busy": "2025-03-19T17:24:23.759914Z",
     "iopub.status.idle": "2025-03-19T17:24:23.767144Z",
     "shell.execute_reply": "2025-03-19T17:24:23.766250Z"
    }
   },
   "outputs": [],
   "source": [
    "# Initialize and Import Required Modules"
   ]
  },
  {
   "cell_type": "code",
   "execution_count": 2,
   "id": "c2b91c84-5869-4414-8536-2f4e4e7c10be",
   "metadata": {
    "execution": {
     "iopub.execute_input": "2025-03-19T17:24:23.770429Z",
     "iopub.status.busy": "2025-03-19T17:24:23.770178Z",
     "iopub.status.idle": "2025-03-19T17:24:25.898579Z",
     "shell.execute_reply": "2025-03-19T17:24:25.897687Z"
    }
   },
   "outputs": [],
   "source": [
    "# General Libraries\n",
    "import torch\n",
    "import argparse\n",
    "import numpy as np\n",
    "import random\n",
    "import matplotlib.pyplot as plt\n",
    "from torch.utils.data import DataLoader\n",
    "import warnings\n",
    "warnings.filterwarnings(\"ignore\", category=UserWarning)"
   ]
  },
  {
   "cell_type": "code",
   "execution_count": 3,
   "id": "a2373d50-b953-432d-b72f-5afaee44e7f4",
   "metadata": {
    "execution": {
     "iopub.execute_input": "2025-03-19T17:24:25.902983Z",
     "iopub.status.busy": "2025-03-19T17:24:25.902279Z",
     "iopub.status.idle": "2025-03-19T17:24:25.906511Z",
     "shell.execute_reply": "2025-03-19T17:24:25.905280Z"
    }
   },
   "outputs": [],
   "source": [
    "\n",
    "\n",
    "# Test minst 122\n",
    "\n"
   ]
  },
  {
   "cell_type": "code",
   "execution_count": 4,
   "id": "c3e15c0f-d312-4acf-8ee3-2a4becf88365",
   "metadata": {
    "execution": {
     "iopub.execute_input": "2025-03-19T17:24:25.909876Z",
     "iopub.status.busy": "2025-03-19T17:24:25.909562Z",
     "iopub.status.idle": "2025-03-19T17:24:27.208459Z",
     "shell.execute_reply": "2025-03-19T17:24:27.207338Z"
    }
   },
   "outputs": [],
   "source": [
    "# Import the MNIST Autoencoder file\n",
    "import MNIST_122  \n",
    "\n",
    "# Set device\n",
    "device = \"cuda\" if torch.cuda.is_available() else \"cpu\"\n",
    "\n",
    "# Define arguments\n",
    "args = argparse.Namespace(\n",
    "    data_path=\"../data\",\n",
    "    batch_size=128,\n",
    "    latent_dim=128,\n",
    "    device=device\n",
    ")"
   ]
  },
  {
   "cell_type": "code",
   "execution_count": 5,
   "id": "dff0b5b8-8e7b-42a1-8c82-a77737c4eefc",
   "metadata": {
    "execution": {
     "iopub.execute_input": "2025-03-19T17:24:27.212666Z",
     "iopub.status.busy": "2025-03-19T17:24:27.212312Z",
     "iopub.status.idle": "2025-03-19T17:24:27.217442Z",
     "shell.execute_reply": "2025-03-19T17:24:27.216713Z"
    }
   },
   "outputs": [],
   "source": [
    "#Load the Dataset and Check It"
   ]
  },
  {
   "cell_type": "code",
   "execution_count": 6,
   "id": "710c0e86-7eef-4f8e-a0a0-7ba4afb6fa07",
   "metadata": {
    "execution": {
     "iopub.execute_input": "2025-03-19T17:24:27.221497Z",
     "iopub.status.busy": "2025-03-19T17:24:27.221026Z",
     "iopub.status.idle": "2025-03-19T17:24:28.436843Z",
     "shell.execute_reply": "2025-03-19T17:24:28.436060Z"
    }
   },
   "outputs": [
    {
     "data": {
      "image/png": "[encoded data removed]",
      "text/plain": [
       "<Figure size 1200x400 with 8 Axes>"
      ]
     },
     "metadata": {},
     "output_type": "display_data"
    }
   ],
   "source": [
    "# Load dataset\n",
    "train_loader, val_loader, test_loader = MNIST_122.load_data(args)\n",
    "\n",
    "# Retrieve a batch of images\n",
    "images_0_1, _ = next(iter(train_loader))\n",
    "\n",
    "# Convert images to range [0,255] for proper display\n",
    "images_0_255 = images_0_1 * 255  # Scale if needed\n",
    "\n",
    "# Visualize some images\n",
    "fig, axes = plt.subplots(1, 8, figsize=(12, 4))\n",
    "for i in range(8):\n",
    "    img = images_0_255[i].permute(1, 2, 0).numpy()  # Convert (C, H, W) → (H, W, C)\n",
    "    img = np.clip(img, 0, 255).astype(\"uint8\")  # Ensure valid pixel values\n",
    "    axes[i].imshow(img.squeeze(), cmap=\"gray\")  \n",
    "    axes[i].axis(\"off\")\n",
    "\n",
    "plt.show()\n"
   ]
  },
  {
   "cell_type": "code",
   "execution_count": 7,
   "id": "386b56fb-3c14-466d-abc7-d508ea5d2a77",
   "metadata": {
    "execution": {
     "iopub.execute_input": "2025-03-19T17:24:28.440376Z",
     "iopub.status.busy": "2025-03-19T17:24:28.440049Z",
     "iopub.status.idle": "2025-03-19T17:24:28.445709Z",
     "shell.execute_reply": "2025-03-19T17:24:28.444806Z"
    }
   },
   "outputs": [],
   "source": [
    "#Verify the Autoencoder Model Architecture"
   ]
  },
  {
   "cell_type": "code",
   "execution_count": 8,
   "id": "822be85a-7dc4-435a-acc2-95d9285294bd",
   "metadata": {
    "execution": {
     "iopub.execute_input": "2025-03-19T17:24:28.449741Z",
     "iopub.status.busy": "2025-03-19T17:24:28.449483Z",
     "iopub.status.idle": "2025-03-19T17:24:32.112342Z",
     "shell.execute_reply": "2025-03-19T17:24:32.111416Z"
    }
   },
   "outputs": [
    {
     "name": "stdout",
     "output_type": "stream",
     "text": [
      "Encoder(\n",
      "  (encoder): Sequential(\n",
      "    (0): Conv2d(1, 16, kernel_size=(3, 3), stride=(2, 2), padding=(1, 1))\n",
      "    (1): ReLU()\n",
      "    (2): Conv2d(16, 32, kernel_size=(3, 3), stride=(2, 2), padding=(1, 1))\n",
      "    (3): ReLU()\n",
      "    (4): Flatten(start_dim=1, end_dim=-1)\n",
      "    (5): Linear(in_features=1568, out_features=128, bias=True)\n",
      "  )\n",
      ")\n"
     ]
    }
   ],
   "source": [
    "# Initialize model\n",
    "encoder_model = MNIST_122.Encoder(args.latent_dim).to(args.device)\n",
    "\n",
    "# Print model summary\n",
    "print(encoder_model)"
   ]
  },
  {
   "cell_type": "code",
   "execution_count": 9,
   "id": "680212c3-61bf-4eed-8605-2f3e98c56ab4",
   "metadata": {
    "execution": {
     "iopub.execute_input": "2025-03-19T17:24:32.115762Z",
     "iopub.status.busy": "2025-03-19T17:24:32.115494Z",
     "iopub.status.idle": "2025-03-19T17:24:32.122455Z",
     "shell.execute_reply": "2025-03-19T17:24:32.121351Z"
    }
   },
   "outputs": [
    {
     "name": "stdout",
     "output_type": "stream",
     "text": [
      "Classifier(\n",
      "  (fc): Sequential(\n",
      "    (0): Linear(in_features=128, out_features=64, bias=True)\n",
      "    (1): ReLU()\n",
      "    (2): Dropout(p=0.2, inplace=False)\n",
      "    (3): Linear(in_features=64, out_features=10, bias=True)\n",
      "  )\n",
      ")\n"
     ]
    }
   ],
   "source": [
    "# Initialize model\n",
    "classifier_model = MNIST_122.Classifier(args.latent_dim).to(args.device)\n",
    "\n",
    "# Print model summary\n",
    "print(classifier_model)"
   ]
  },
  {
   "cell_type": "code",
   "execution_count": 10,
   "id": "5c95db66-1ac3-4629-b66c-7801b2ff14ef",
   "metadata": {
    "execution": {
     "iopub.execute_input": "2025-03-19T17:24:32.125818Z",
     "iopub.status.busy": "2025-03-19T17:24:32.125560Z",
     "iopub.status.idle": "2025-03-19T17:24:32.130009Z",
     "shell.execute_reply": "2025-03-19T17:24:32.129283Z"
    }
   },
   "outputs": [],
   "source": [
    "#Train the model"
   ]
  },
  {
   "cell_type": "code",
   "execution_count": 11,
   "id": "fad8b4e0-3c6c-41f4-9e5e-1ba5de87662d",
   "metadata": {
    "execution": {
     "iopub.execute_input": "2025-03-19T17:24:32.133217Z",
     "iopub.status.busy": "2025-03-19T17:24:32.132902Z",
     "iopub.status.idle": "2025-03-19T17:27:10.875991Z",
     "shell.execute_reply": "2025-03-19T17:27:10.874507Z"
    }
   },
   "outputs": [
    {
     "name": "stdout",
     "output_type": "stream",
     "text": [
      "Epoch [1/20], Train Loss: 0.4824, Train Acc: 85.06%, Val Loss: 0.1656, Val Acc: 94.94%\n"
     ]
    },
    {
     "name": "stdout",
     "output_type": "stream",
     "text": [
      "Epoch [2/20], Train Loss: 0.1447, Train Acc: 95.70%, Val Loss: 0.0958, Val Acc: 97.13%\n"
     ]
    },
    {
     "name": "stdout",
     "output_type": "stream",
     "text": [
      "Epoch [3/20], Train Loss: 0.0958, Train Acc: 97.06%, Val Loss: 0.0789, Val Acc: 97.50%\n"
     ]
    },
    {
     "name": "stdout",
     "output_type": "stream",
     "text": [
      "Epoch [4/20], Train Loss: 0.0758, Train Acc: 97.68%, Val Loss: 0.0644, Val Acc: 97.97%\n"
     ]
    },
    {
     "name": "stdout",
     "output_type": "stream",
     "text": [
      "Epoch [5/20], Train Loss: 0.0652, Train Acc: 98.03%, Val Loss: 0.0661, Val Acc: 97.92%\n"
     ]
    },
    {
     "name": "stdout",
     "output_type": "stream",
     "text": [
      "Epoch [6/20], Train Loss: 0.0584, Train Acc: 98.15%, Val Loss: 0.0580, Val Acc: 98.20%\n"
     ]
    },
    {
     "name": "stdout",
     "output_type": "stream",
     "text": [
      "Epoch [7/20], Train Loss: 0.0485, Train Acc: 98.46%, Val Loss: 0.0648, Val Acc: 97.99%\n"
     ]
    },
    {
     "name": "stdout",
     "output_type": "stream",
     "text": [
      "Epoch [8/20], Train Loss: 0.0455, Train Acc: 98.57%, Val Loss: 0.0591, Val Acc: 98.19%\n"
     ]
    },
    {
     "name": "stdout",
     "output_type": "stream",
     "text": [
      "Epoch [9/20], Train Loss: 0.0404, Train Acc: 98.66%, Val Loss: 0.0583, Val Acc: 98.23%\n"
     ]
    },
    {
     "name": "stdout",
     "output_type": "stream",
     "text": [
      "Epoch [10/20], Train Loss: 0.0357, Train Acc: 98.81%, Val Loss: 0.0554, Val Acc: 98.48%\n"
     ]
    },
    {
     "name": "stdout",
     "output_type": "stream",
     "text": [
      "Epoch [11/20], Train Loss: 0.0328, Train Acc: 98.94%, Val Loss: 0.0593, Val Acc: 98.27%\n"
     ]
    },
    {
     "name": "stdout",
     "output_type": "stream",
     "text": [
      "Epoch [12/20], Train Loss: 0.0319, Train Acc: 98.96%, Val Loss: 0.0607, Val Acc: 98.23%\n"
     ]
    },
    {
     "name": "stdout",
     "output_type": "stream",
     "text": [
      "Epoch [13/20], Train Loss: 0.0272, Train Acc: 99.10%, Val Loss: 0.0712, Val Acc: 98.10%\n"
     ]
    },
    {
     "name": "stdout",
     "output_type": "stream",
     "text": [
      "Epoch [14/20], Train Loss: 0.0242, Train Acc: 99.25%, Val Loss: 0.0599, Val Acc: 98.38%\n"
     ]
    },
    {
     "name": "stdout",
     "output_type": "stream",
     "text": [
      "Epoch [15/20], Train Loss: 0.0268, Train Acc: 99.11%, Val Loss: 0.0564, Val Acc: 98.60%\n"
     ]
    },
    {
     "name": "stdout",
     "output_type": "stream",
     "text": [
      "Epoch [16/20], Train Loss: 0.0216, Train Acc: 99.26%, Val Loss: 0.0558, Val Acc: 98.47%\n"
     ]
    },
    {
     "name": "stdout",
     "output_type": "stream",
     "text": [
      "Epoch [17/20], Train Loss: 0.0190, Train Acc: 99.34%, Val Loss: 0.0601, Val Acc: 98.49%\n"
     ]
    },
    {
     "name": "stdout",
     "output_type": "stream",
     "text": [
      "Epoch [18/20], Train Loss: 0.0204, Train Acc: 99.26%, Val Loss: 0.0675, Val Acc: 98.36%\n"
     ]
    },
    {
     "name": "stdout",
     "output_type": "stream",
     "text": [
      "Epoch [19/20], Train Loss: 0.0184, Train Acc: 99.36%, Val Loss: 0.0700, Val Acc: 98.40%\n"
     ]
    },
    {
     "name": "stdout",
     "output_type": "stream",
     "text": [
      "Epoch [20/20], Train Loss: 0.0177, Train Acc: 99.42%, Val Loss: 0.0657, Val Acc: 98.47%\n"
     ]
    }
   ],
   "source": [
    "MNIST_122.train_encoder_classifier(encoder_model, classifier_model, train_loader, val_loader, args, epochs=20)"
   ]
  }
 ],
 "metadata": {
  "kernelspec": {
   "display_name": "Python 3 (ipykernel)",
   "language": "python",
   "name": "python3"
  },
  "language_info": {
   "codemirror_mode": {
    "name": "ipython",
    "version": 3
   },
   "file_extension": ".py",
   "mimetype": "text/x-python",
   "name": "python",
   "nbconvert_exporter": "python",
   "pygments_lexer": "ipython3",
   "version": "3.8.12"
  }
 },
 "nbformat": 4,
 "nbformat_minor": 5
}
