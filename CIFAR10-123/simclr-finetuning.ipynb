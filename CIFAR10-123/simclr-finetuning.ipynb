{
 "cells": [
  {
   "cell_type": "code",
   "execution_count": 1,
   "metadata": {
    "_cell_guid": "b1076dfc-b9ad-4769-8c92-a6c4dae69d19",
    "_uuid": "8f2839f25d086af736a60e9eeb907d3b93b6e0e5",
    "execution": {
     "iopub.execute_input": "2024-07-14T07:24:38.892844Z",
     "iopub.status.busy": "2024-07-14T07:24:38.892495Z",
     "iopub.status.idle": "2024-07-14T07:24:44.809757Z",
     "shell.execute_reply": "2024-07-14T07:24:44.808979Z",
     "shell.execute_reply.started": "2024-07-14T07:24:38.892815Z"
    }
   },
   "outputs": [],
   "source": [
    "import torch\n",
    "import torch.nn as nn\n",
    "import torch.optim as optim\n",
    "import torchvision\n",
    "import torchvision.transforms as transforms\n",
    "from torchvision import models\n",
    "import random\n",
    "from torch.utils.data import DataLoader, random_split, Subset\n",
    "from torchvision.models import resnet18\n",
    "from sklearn.model_selection import KFold\n",
    "from sklearn.model_selection import StratifiedShuffleSplit , StratifiedKFold\n",
    "import numpy as np\n",
    "from torchvision.datasets import CIFAR10\n",
    "import matplotlib.pyplot as plt\n",
    "from PIL import Image"
   ]
  },
  {
   "cell_type": "code",
   "execution_count": 2,
   "metadata": {
    "execution": {
     "iopub.execute_input": "2024-07-14T07:24:44.811806Z",
     "iopub.status.busy": "2024-07-14T07:24:44.811410Z",
     "iopub.status.idle": "2024-07-14T07:24:44.852103Z",
     "shell.execute_reply": "2024-07-14T07:24:44.851211Z",
     "shell.execute_reply.started": "2024-07-14T07:24:44.811780Z"
    }
   },
   "outputs": [],
   "source": [
    "def set_seed(seed):\n",
    "    random.seed(seed)\n",
    "    np.random.seed(seed)\n",
    "    torch.manual_seed(seed)\n",
    "    if torch.cuda.is_available():\n",
    "        torch.cuda.manual_seed(seed)\n",
    "        torch.cuda.manual_seed_all(seed)\n",
    "    torch.backends.cudnn.deterministic = True\n",
    "    torch.backends.cudnn.benchmark = False\n",
    "\n",
    "# Set the random seed for reproducibility\n",
    "set_seed(42)"
   ]
  },
  {
   "cell_type": "code",
   "execution_count": 3,
   "metadata": {
    "execution": {
     "iopub.execute_input": "2024-07-14T07:24:44.853787Z",
     "iopub.status.busy": "2024-07-14T07:24:44.853436Z",
     "iopub.status.idle": "2024-07-14T07:24:44.858979Z",
     "shell.execute_reply": "2024-07-14T07:24:44.857930Z",
     "shell.execute_reply.started": "2024-07-14T07:24:44.853756Z"
    }
   },
   "outputs": [],
   "source": [
    "#defining class names for use\n",
    "classes = [\n",
    "    'airplane', 'automobile', 'bird', 'cat', 'deer',\n",
    "    'dog', 'frog', 'horse', 'ship', 'truck'\n",
    "]\n",
    "\n",
    "num_classes = len(classes)"
   ]
  },
  {
   "cell_type": "markdown",
   "metadata": {},
   "source": [
    "# Generating input data for fine tuning"
   ]
  },
  {
   "cell_type": "code",
   "execution_count": 4,
   "metadata": {
    "execution": {
     "iopub.execute_input": "2024-07-14T07:24:44.861355Z",
     "iopub.status.busy": "2024-07-14T07:24:44.861055Z",
     "iopub.status.idle": "2024-07-14T07:24:54.295643Z",
     "shell.execute_reply": "2024-07-14T07:24:54.294849Z",
     "shell.execute_reply.started": "2024-07-14T07:24:44.861325Z"
    }
   },
   "outputs": [
    {
     "name": "stdout",
     "output_type": "stream",
     "text": [
      "Downloading https://www.cs.toronto.edu/~kriz/cifar-10-python.tar.gz to ./data/cifar-10-python.tar.gz\n"
     ]
    },
    {
     "name": "stderr",
     "output_type": "stream",
     "text": [
      "100%|██████████| 170498071/170498071 [00:05<00:00, 29864067.15it/s]\n"
     ]
    },
    {
     "name": "stdout",
     "output_type": "stream",
     "text": [
      "Extracting ./data/cifar-10-python.tar.gz to ./data\n",
      "Files already downloaded and verified\n"
     ]
    }
   ],
   "source": [
    "# Data augmentation and normalization for training\n",
    "# Just normalization for validation\n",
    "transform_train = transforms.Compose([\n",
    "    transforms.RandomCrop(32, padding=4),\n",
    "    transforms.RandomHorizontalFlip(),\n",
    "    transforms.ColorJitter(brightness=0.2, contrast=0.2, saturation=0.2, hue=0.2),\n",
    "    transforms.RandomRotation(10),\n",
    "    transforms.ToTensor(),\n",
    "    transforms.Normalize((0.4914, 0.4822, 0.4465), (0.2023, 0.1994, 0.2010)),\n",
    "])\n",
    "\n",
    "transform_test = transforms.Compose([\n",
    "    transforms.ToTensor(),\n",
    "    transforms.Normalize((0.4914, 0.4822, 0.4465), (0.2023, 0.1994, 0.2010)),\n",
    "])\n",
    "\n",
    "trainset = torchvision.datasets.CIFAR10(root='./data', train=True, download=True, transform=transform_train)\n",
    "\n",
    "testset = torchvision.datasets.CIFAR10(root='./data', train=False, download=True, transform=transform_train)"
   ]
  },
  {
   "cell_type": "code",
   "execution_count": 5,
   "metadata": {
    "execution": {
     "iopub.execute_input": "2024-07-14T07:24:54.297252Z",
     "iopub.status.busy": "2024-07-14T07:24:54.296887Z",
     "iopub.status.idle": "2024-07-14T07:24:54.350111Z",
     "shell.execute_reply": "2024-07-14T07:24:54.349186Z",
     "shell.execute_reply.started": "2024-07-14T07:24:54.297220Z"
    }
   },
   "outputs": [
    {
     "name": "stdout",
     "output_type": "stream",
     "text": [
      "35000\n",
      "15000\n",
      "12000\n",
      "3000\n"
     ]
    }
   ],
   "source": [
    "#Stratified split\n",
    "trainset_targets = trainset.targets\n",
    "# Define StratifiedShuffleSplit\n",
    "sss = StratifiedShuffleSplit(n_splits=1, test_size=0.3, random_state=42)\n",
    "# Split the dataset into 70%(35000) and 30%(15000) sets\n",
    "unused_idx, used_idx = next(sss.split(trainset.data, trainset_targets))\n",
    "unused_subset = Subset(trainset, unused_idx)\n",
    "used_subset = Subset(trainset, used_idx)\n",
    "print(len(unused_subset))\n",
    "print(len(used_subset))\n",
    "\n",
    "# Prepare targets for used_subset\n",
    "used_targets = [trainset_targets[i] for i in used_idx]\n",
    "# Second split: 80% (train - 12000) and 20% (validation - 3000) of used_subset\n",
    "sssplit = StratifiedShuffleSplit(n_splits=1, test_size=0.2, random_state=42)\n",
    "train_idx, val_idx = next(sssplit.split(used_idx, used_targets))\n",
    "train_data = Subset(trainset, [used_idx[i] for i in train_idx])\n",
    "val_data = Subset(trainset, [used_idx[i] for i in val_idx])\n",
    "print(len(train_data))\n",
    "print(len(val_data))"
   ]
  },
  {
   "cell_type": "code",
   "execution_count": 6,
   "metadata": {
    "execution": {
     "iopub.execute_input": "2024-07-14T07:24:54.351422Z",
     "iopub.status.busy": "2024-07-14T07:24:54.351168Z",
     "iopub.status.idle": "2024-07-14T07:24:54.356589Z",
     "shell.execute_reply": "2024-07-14T07:24:54.355680Z",
     "shell.execute_reply.started": "2024-07-14T07:24:54.351400Z"
    }
   },
   "outputs": [
    {
     "name": "stdout",
     "output_type": "stream",
     "text": [
      "47\n"
     ]
    }
   ],
   "source": [
    "# load fine-tuning data\n",
    "finetunedata_loader = DataLoader(train_data, batch_size=256, shuffle=True)\n",
    "num_batches = len(finetunedata_loader)\n",
    "print(num_batches)"
   ]
  },
  {
   "cell_type": "code",
   "execution_count": 7,
   "metadata": {
    "execution": {
     "iopub.execute_input": "2024-07-14T07:24:54.358737Z",
     "iopub.status.busy": "2024-07-14T07:24:54.357930Z",
     "iopub.status.idle": "2024-07-14T07:24:54.365028Z",
     "shell.execute_reply": "2024-07-14T07:24:54.364096Z",
     "shell.execute_reply.started": "2024-07-14T07:24:54.358705Z"
    }
   },
   "outputs": [],
   "source": [
    "# load validation data\n",
    "val_loader = DataLoader(val_data, batch_size=256, shuffle=False)"
   ]
  },
  {
   "cell_type": "markdown",
   "metadata": {},
   "source": [
    "# Contrastive Learning - Fine Tuning"
   ]
  },
  {
   "cell_type": "markdown",
   "metadata": {},
   "source": [
    "Creating fine-tuning Model"
   ]
  },
  {
   "cell_type": "code",
   "execution_count": 8,
   "metadata": {
    "execution": {
     "iopub.execute_input": "2024-07-14T07:24:54.366392Z",
     "iopub.status.busy": "2024-07-14T07:24:54.366120Z",
     "iopub.status.idle": "2024-07-14T07:24:54.374645Z",
     "shell.execute_reply": "2024-07-14T07:24:54.373791Z",
     "shell.execute_reply.started": "2024-07-14T07:24:54.366370Z"
    }
   },
   "outputs": [],
   "source": [
    "class FineTuneModel(nn.Module):\n",
    "    def __init__(self, num_classes, encoder_save_path):\n",
    "        super().__init__()\n",
    "        \n",
    "        # Initialize ResNet-18 without pretrained weights\n",
    "        self.tr_enc = resnet18(pretrained=False) \n",
    "        self.feature_dim = self.tr_enc.fc.in_features # feature dim = output of gap layer dim or input of FC layer dim\n",
    "        \n",
    "        # Customize for CIFAR10. Replace conv 7x7 with conv 3x3, and remove first max pooling.\n",
    "        # See Section B.9 of SimCLR paper.\n",
    "        self.tr_enc.conv1 = nn.Conv2d(3, 64, 3, 1, 1, bias=False)\n",
    "        self.tr_enc.maxpool = nn.Identity()\n",
    "        self.tr_enc.fc = nn.Identity()  # remove final fully connected layer.\n",
    "        self.tr_enc.load_state_dict(torch.load(encoder_save_path))\n",
    "        \n",
    "        # Add Classifier.\n",
    "        self.classifier = nn.Linear(self.feature_dim, num_classes, bias=True)\n",
    "        \n",
    "    def forward(self, x):\n",
    "        feature = self.tr_enc(x)\n",
    "        label = self.classifier(feature)\n",
    "        return label"
   ]
  },
  {
   "cell_type": "code",
   "execution_count": 9,
   "metadata": {
    "execution": {
     "iopub.execute_input": "2024-07-14T07:24:54.375943Z",
     "iopub.status.busy": "2024-07-14T07:24:54.375667Z",
     "iopub.status.idle": "2024-07-14T07:24:55.636897Z",
     "shell.execute_reply": "2024-07-14T07:24:55.636023Z",
     "shell.execute_reply.started": "2024-07-14T07:24:54.375920Z"
    }
   },
   "outputs": [
    {
     "name": "stderr",
     "output_type": "stream",
     "text": [
      "/opt/conda/lib/python3.10/site-packages/torchvision/models/_utils.py:208: UserWarning: The parameter 'pretrained' is deprecated since 0.13 and may be removed in the future, please use 'weights' instead.\n",
      "  warnings.warn(\n",
      "/opt/conda/lib/python3.10/site-packages/torchvision/models/_utils.py:223: UserWarning: Arguments other than a weight enum or `None` for 'weights' are deprecated since 0.13 and may be removed in the future. The current behavior is equivalent to passing `weights=None`.\n",
      "  warnings.warn(msg)\n"
     ]
    },
    {
     "data": {
      "text/plain": [
       "FineTuneModel(\n",
       "  (tr_enc): ResNet(\n",
       "    (conv1): Conv2d(3, 64, kernel_size=(3, 3), stride=(1, 1), padding=(1, 1), bias=False)\n",
       "    (bn1): BatchNorm2d(64, eps=1e-05, momentum=0.1, affine=True, track_running_stats=True)\n",
       "    (relu): ReLU(inplace=True)\n",
       "    (maxpool): Identity()\n",
       "    (layer1): Sequential(\n",
       "      (0): BasicBlock(\n",
       "        (conv1): Conv2d(64, 64, kernel_size=(3, 3), stride=(1, 1), padding=(1, 1), bias=False)\n",
       "        (bn1): BatchNorm2d(64, eps=1e-05, momentum=0.1, affine=True, track_running_stats=True)\n",
       "        (relu): ReLU(inplace=True)\n",
       "        (conv2): Conv2d(64, 64, kernel_size=(3, 3), stride=(1, 1), padding=(1, 1), bias=False)\n",
       "        (bn2): BatchNorm2d(64, eps=1e-05, momentum=0.1, affine=True, track_running_stats=True)\n",
       "      )\n",
       "      (1): BasicBlock(\n",
       "        (conv1): Conv2d(64, 64, kernel_size=(3, 3), stride=(1, 1), padding=(1, 1), bias=False)\n",
       "        (bn1): BatchNorm2d(64, eps=1e-05, momentum=0.1, affine=True, track_running_stats=True)\n",
       "        (relu): ReLU(inplace=True)\n",
       "        (conv2): Conv2d(64, 64, kernel_size=(3, 3), stride=(1, 1), padding=(1, 1), bias=False)\n",
       "        (bn2): BatchNorm2d(64, eps=1e-05, momentum=0.1, affine=True, track_running_stats=True)\n",
       "      )\n",
       "    )\n",
       "    (layer2): Sequential(\n",
       "      (0): BasicBlock(\n",
       "        (conv1): Conv2d(64, 128, kernel_size=(3, 3), stride=(2, 2), padding=(1, 1), bias=False)\n",
       "        (bn1): BatchNorm2d(128, eps=1e-05, momentum=0.1, affine=True, track_running_stats=True)\n",
       "        (relu): ReLU(inplace=True)\n",
       "        (conv2): Conv2d(128, 128, kernel_size=(3, 3), stride=(1, 1), padding=(1, 1), bias=False)\n",
       "        (bn2): BatchNorm2d(128, eps=1e-05, momentum=0.1, affine=True, track_running_stats=True)\n",
       "        (downsample): Sequential(\n",
       "          (0): Conv2d(64, 128, kernel_size=(1, 1), stride=(2, 2), bias=False)\n",
       "          (1): BatchNorm2d(128, eps=1e-05, momentum=0.1, affine=True, track_running_stats=True)\n",
       "        )\n",
       "      )\n",
       "      (1): BasicBlock(\n",
       "        (conv1): Conv2d(128, 128, kernel_size=(3, 3), stride=(1, 1), padding=(1, 1), bias=False)\n",
       "        (bn1): BatchNorm2d(128, eps=1e-05, momentum=0.1, affine=True, track_running_stats=True)\n",
       "        (relu): ReLU(inplace=True)\n",
       "        (conv2): Conv2d(128, 128, kernel_size=(3, 3), stride=(1, 1), padding=(1, 1), bias=False)\n",
       "        (bn2): BatchNorm2d(128, eps=1e-05, momentum=0.1, affine=True, track_running_stats=True)\n",
       "      )\n",
       "    )\n",
       "    (layer3): Sequential(\n",
       "      (0): BasicBlock(\n",
       "        (conv1): Conv2d(128, 256, kernel_size=(3, 3), stride=(2, 2), padding=(1, 1), bias=False)\n",
       "        (bn1): BatchNorm2d(256, eps=1e-05, momentum=0.1, affine=True, track_running_stats=True)\n",
       "        (relu): ReLU(inplace=True)\n",
       "        (conv2): Conv2d(256, 256, kernel_size=(3, 3), stride=(1, 1), padding=(1, 1), bias=False)\n",
       "        (bn2): BatchNorm2d(256, eps=1e-05, momentum=0.1, affine=True, track_running_stats=True)\n",
       "        (downsample): Sequential(\n",
       "          (0): Conv2d(128, 256, kernel_size=(1, 1), stride=(2, 2), bias=False)\n",
       "          (1): BatchNorm2d(256, eps=1e-05, momentum=0.1, affine=True, track_running_stats=True)\n",
       "        )\n",
       "      )\n",
       "      (1): BasicBlock(\n",
       "        (conv1): Conv2d(256, 256, kernel_size=(3, 3), stride=(1, 1), padding=(1, 1), bias=False)\n",
       "        (bn1): BatchNorm2d(256, eps=1e-05, momentum=0.1, affine=True, track_running_stats=True)\n",
       "        (relu): ReLU(inplace=True)\n",
       "        (conv2): Conv2d(256, 256, kernel_size=(3, 3), stride=(1, 1), padding=(1, 1), bias=False)\n",
       "        (bn2): BatchNorm2d(256, eps=1e-05, momentum=0.1, affine=True, track_running_stats=True)\n",
       "      )\n",
       "    )\n",
       "    (layer4): Sequential(\n",
       "      (0): BasicBlock(\n",
       "        (conv1): Conv2d(256, 512, kernel_size=(3, 3), stride=(2, 2), padding=(1, 1), bias=False)\n",
       "        (bn1): BatchNorm2d(512, eps=1e-05, momentum=0.1, affine=True, track_running_stats=True)\n",
       "        (relu): ReLU(inplace=True)\n",
       "        (conv2): Conv2d(512, 512, kernel_size=(3, 3), stride=(1, 1), padding=(1, 1), bias=False)\n",
       "        (bn2): BatchNorm2d(512, eps=1e-05, momentum=0.1, affine=True, track_running_stats=True)\n",
       "        (downsample): Sequential(\n",
       "          (0): Conv2d(256, 512, kernel_size=(1, 1), stride=(2, 2), bias=False)\n",
       "          (1): BatchNorm2d(512, eps=1e-05, momentum=0.1, affine=True, track_running_stats=True)\n",
       "        )\n",
       "      )\n",
       "      (1): BasicBlock(\n",
       "        (conv1): Conv2d(512, 512, kernel_size=(3, 3), stride=(1, 1), padding=(1, 1), bias=False)\n",
       "        (bn1): BatchNorm2d(512, eps=1e-05, momentum=0.1, affine=True, track_running_stats=True)\n",
       "        (relu): ReLU(inplace=True)\n",
       "        (conv2): Conv2d(512, 512, kernel_size=(3, 3), stride=(1, 1), padding=(1, 1), bias=False)\n",
       "        (bn2): BatchNorm2d(512, eps=1e-05, momentum=0.1, affine=True, track_running_stats=True)\n",
       "      )\n",
       "    )\n",
       "    (avgpool): AdaptiveAvgPool2d(output_size=(1, 1))\n",
       "    (fc): Identity()\n",
       "  )\n",
       "  (classifier): Linear(in_features=512, out_features=10, bias=True)\n",
       ")"
      ]
     },
     "execution_count": 9,
     "metadata": {},
     "output_type": "execute_result"
    }
   ],
   "source": [
    "fine_tune_model = FineTuneModel(num_classes=10, encoder_save_path='my_encoder/encoder.pth')\n",
    "device = torch.device(\"cuda\" if torch.cuda.is_available() else \"cpu\")\n",
    "fine_tune_model.to(device)"
   ]
  },
  {
   "cell_type": "code",
   "execution_count": 10,
   "metadata": {
    "execution": {
     "iopub.execute_input": "2024-07-14T07:24:55.641201Z",
     "iopub.status.busy": "2024-07-14T07:24:55.640884Z",
     "iopub.status.idle": "2024-07-14T07:24:55.646563Z",
     "shell.execute_reply": "2024-07-14T07:24:55.645616Z",
     "shell.execute_reply.started": "2024-07-14T07:24:55.641176Z"
    }
   },
   "outputs": [],
   "source": [
    "criterion = nn.CrossEntropyLoss()  # CrossEntropyLoss for multi-class classification\n",
    "optimizer = optim.Adam(fine_tune_model.parameters(), lr=0.0008)"
   ]
  },
  {
   "cell_type": "code",
   "execution_count": 11,
   "metadata": {
    "execution": {
     "iopub.execute_input": "2024-07-14T07:24:55.648497Z",
     "iopub.status.busy": "2024-07-14T07:24:55.647873Z",
     "iopub.status.idle": "2024-07-14T07:24:55.819814Z",
     "shell.execute_reply": "2024-07-14T07:24:55.818851Z",
     "shell.execute_reply.started": "2024-07-14T07:24:55.648463Z"
    }
   },
   "outputs": [],
   "source": [
    "# ExponentialLR scheduler for learning rate decay\n",
    "exp_scheduler = torch.optim.lr_scheduler.ExponentialLR(optimizer, gamma=0.9)\n",
    "#step_scheduler = torch.optim.lr_scheduler.StepLR(optimizer, step_size=15, gamma=0.5)\n",
    "#cosine_scheduler = torch.optim.lr_scheduler.CosineAnnealingLR(optimizer, T_max= 20, eta_min=0.00003)"
   ]
  },
  {
   "cell_type": "markdown",
   "metadata": {},
   "source": [
    "1 fold"
   ]
  },
  {
   "cell_type": "code",
   "execution_count": 12,
   "metadata": {
    "execution": {
     "iopub.execute_input": "2024-07-14T07:24:55.821199Z",
     "iopub.status.busy": "2024-07-14T07:24:55.820881Z",
     "iopub.status.idle": "2024-07-14T07:38:04.739952Z",
     "shell.execute_reply": "2024-07-14T07:38:04.738987Z",
     "shell.execute_reply.started": "2024-07-14T07:24:55.821174Z"
    }
   },
   "outputs": [
    {
     "name": "stdout",
     "output_type": "stream",
     "text": [
      "Start of Epoch 1/20, Learning Rate: 0.000800\n",
      "Epoch 1/20, Loss: 1.0652\n",
      "Accuracy of the model on the 3000 validation images: 61.83%\n",
      "Accuracy of the model on the 12000 train images: 64.83%\n",
      "Start of Epoch 2/20, Learning Rate: 0.000720\n",
      "Epoch 2/20, Loss: 0.7511\n",
      "Accuracy of the model on the 3000 validation images: 69.67%\n",
      "Accuracy of the model on the 12000 train images: 73.87%\n",
      "Start of Epoch 3/20, Learning Rate: 0.000648\n",
      "Epoch 3/20, Loss: 0.6496\n",
      "Accuracy of the model on the 3000 validation images: 72.07%\n",
      "Accuracy of the model on the 12000 train images: 77.29%\n",
      "Start of Epoch 4/20, Learning Rate: 0.000583\n",
      "Epoch 4/20, Loss: 0.5838\n",
      "Accuracy of the model on the 3000 validation images: 73.27%\n",
      "Accuracy of the model on the 12000 train images: 78.55%\n",
      "Start of Epoch 5/20, Learning Rate: 0.000525\n",
      "Epoch 5/20, Loss: 0.5319\n",
      "Accuracy of the model on the 3000 validation images: 75.70%\n",
      "Accuracy of the model on the 12000 train images: 82.46%\n",
      "Start of Epoch 6/20, Learning Rate: 0.000472\n",
      "Epoch 6/20, Loss: 0.4918\n",
      "Accuracy of the model on the 3000 validation images: 74.77%\n",
      "Accuracy of the model on the 12000 train images: 82.03%\n",
      "Start of Epoch 7/20, Learning Rate: 0.000425\n",
      "Epoch 7/20, Loss: 0.4545\n",
      "Accuracy of the model on the 3000 validation images: 77.03%\n",
      "Accuracy of the model on the 12000 train images: 84.21%\n",
      "Start of Epoch 8/20, Learning Rate: 0.000383\n",
      "Epoch 8/20, Loss: 0.4233\n",
      "Accuracy of the model on the 3000 validation images: 78.00%\n",
      "Accuracy of the model on the 12000 train images: 85.83%\n",
      "Start of Epoch 9/20, Learning Rate: 0.000344\n",
      "Epoch 9/20, Loss: 0.3960\n",
      "Accuracy of the model on the 3000 validation images: 77.70%\n",
      "Accuracy of the model on the 12000 train images: 87.01%\n",
      "Start of Epoch 10/20, Learning Rate: 0.000310\n",
      "Epoch 10/20, Loss: 0.3615\n",
      "Accuracy of the model on the 3000 validation images: 77.90%\n",
      "Accuracy of the model on the 12000 train images: 87.30%\n",
      "Start of Epoch 11/20, Learning Rate: 0.000279\n",
      "Epoch 11/20, Loss: 0.3396\n",
      "Accuracy of the model on the 3000 validation images: 80.00%\n",
      "Accuracy of the model on the 12000 train images: 88.81%\n",
      "Start of Epoch 12/20, Learning Rate: 0.000251\n",
      "Epoch 12/20, Loss: 0.3288\n",
      "Accuracy of the model on the 3000 validation images: 79.17%\n",
      "Accuracy of the model on the 12000 train images: 88.03%\n",
      "Start of Epoch 13/20, Learning Rate: 0.000226\n",
      "Epoch 13/20, Loss: 0.3121\n",
      "Accuracy of the model on the 3000 validation images: 79.80%\n",
      "Accuracy of the model on the 12000 train images: 89.72%\n",
      "Start of Epoch 14/20, Learning Rate: 0.000203\n",
      "Epoch 14/20, Loss: 0.2899\n",
      "Accuracy of the model on the 3000 validation images: 79.73%\n",
      "Accuracy of the model on the 12000 train images: 90.78%\n",
      "Start of Epoch 15/20, Learning Rate: 0.000183\n",
      "Epoch 15/20, Loss: 0.2768\n",
      "Accuracy of the model on the 12000 train images: 91.11%\n",
      "Start of Epoch 16/20, Learning Rate: 0.000110\n",
      "Epoch 16/20, Loss: 0.2514\n",
      "Accuracy of the model on the 3000 validation images: 79.97%\n",
      "Accuracy of the model on the 12000 train images: 91.94%\n",
      "Start of Epoch 17/20, Learning Rate: 0.000066\n",
      "Epoch 17/20, Loss: 0.2372\n",
      "Accuracy of the model on the 3000 validation images: 82.03%\n",
      "Accuracy of the model on the 12000 train images: 92.33%\n",
      "Start of Epoch 18/20, Learning Rate: 0.000040\n",
      "Epoch 18/20, Loss: 0.2278\n",
      "Accuracy of the model on the 3000 validation images: 80.77%\n",
      "Accuracy of the model on the 12000 train images: 92.79%\n",
      "Start of Epoch 19/20, Learning Rate: 0.000024\n",
      "Epoch 19/20, Loss: 0.2225\n",
      "Accuracy of the model on the 3000 validation images: 81.70%\n",
      "Accuracy of the model on the 12000 train images: 92.68%\n",
      "Start of Epoch 20/20, Learning Rate: 0.000014\n",
      "Epoch 20/20, Loss: 0.2194\n",
      "Accuracy of the model on the 3000 validation images: 80.90%\n",
      "Accuracy of the model on the 12000 train images: 93.15%\n"
     ]
    }
   ],
   "source": [
    "num_epochs = 20\n",
    "switch_epoch = 15\n",
    "for epoch in range(num_epochs):\n",
    "    for param_group in optimizer.param_groups:\n",
    "        print(f'Start of Epoch {epoch+1}/{num_epochs}, Learning Rate: {param_group[\"lr\"]:.6f}')\n",
    "    fine_tune_model.train()  # Set the model to training mode\n",
    "    running_loss = 0.0  # Initialize running loss, it is used to accumulate the total loss of all elements in a epoch\n",
    "    counter = 1\n",
    "    for inputs, labels in finetunedata_loader:\n",
    "        inputs, labels = inputs.to(device), labels.to(device)\n",
    "        # Forward pass\n",
    "        outputs = fine_tune_model(inputs) #Compute predicted outputs by passing inputs to the model\n",
    "        loss = criterion(outputs, labels) #Calculate the loss\n",
    "      \n",
    "        # Backward pass and optimization\n",
    "        optimizer.zero_grad()   # Step 1: Clear old gradients\n",
    "        loss.backward()         # Step 2: Compute new gradients, i.e Backward pass: Compute gradient of the loss with respect to model parameters\n",
    "        optimizer.step()        # Step 3: Update model parameters\n",
    "        running_loss += loss.item() * inputs.size(0)  # Accumulate loss. loss.item gives the avg loss of batch extrated from the loss tensor, input.size(0) gives the batch size, so * gives total loss in a batch\n",
    "        #if counter % 10 == 0:\n",
    "        #    print(f\"Epoch [{epoch + 1}/{num_epochs}], Batch [{counter}/{num_batches}], Loss: {loss.item():.4f}\")\n",
    "        counter += 1\n",
    "\n",
    "    epoch_loss = running_loss / len(finetunedata_loader.dataset)  # Running loss has total loss in an epoch, divide it by epoch size gives average loss in an epoch\n",
    "    print(f\"Epoch {epoch+1}/{num_epochs}, Loss: {epoch_loss:.4f}\")\n",
    "    # validate the model\n",
    "    fine_tune_model.eval()\n",
    "    correct = 0\n",
    "    total = 0\n",
    "    with torch.no_grad():\n",
    "        for inputs, labels in val_loader:\n",
    "            inputs, labels = inputs.to(device), labels.to(device)\n",
    "            outputs = fine_tune_model(inputs)\n",
    "            _, predicted = torch.max(outputs.data, 1)\n",
    "            total += labels.size(0)\n",
    "            correct += (predicted == labels).sum().item()\n",
    "\n",
    "        accuracy = 100 * correct / total\n",
    "    print(f'Accuracy of the model on the 3000 validation images: {accuracy:.2f}%')\n",
    "    \n",
    "    #Training accuracy\n",
    "    fine_tune_model.eval()\n",
    "    correct = 0\n",
    "    total = 0\n",
    "    with torch.no_grad():\n",
    "        for inputs, labels in finetunedata_loader:\n",
    "            inputs, labels = inputs.to(device), labels.to(device)\n",
    "            outputs = fine_tune_model(inputs)\n",
    "            _, predicted = torch.max(outputs.data, 1)\n",
    "            total += labels.size(0)\n",
    "            correct += (predicted == labels).sum().item()\n",
    "\n",
    "        accuracy = 100 * correct / total\n",
    "    print(f'Accuracy of the model on the 12000 train images: {accuracy:.2f}%')    \n",
    "  \n",
    "    if epoch+1 >= switch_epoch:\n",
    "        exp_scheduler.gamma =  0.6   \n",
    "    exp_scheduler.step()  # Update learning rate scheduler\n",
    "    #step_scheduler.step()\n",
    "    #cosine_scheduler.step()\n",
    "  "
   ]
  },
  {
   "cell_type": "markdown",
   "metadata": {},
   "source": [
    "5-Fold Cross validation"
   ]
  },
  {
   "cell_type": "code",
   "execution_count": 13,
   "metadata": {
    "execution": {
     "iopub.execute_input": "2024-07-14T07:38:04.741914Z",
     "iopub.status.busy": "2024-07-14T07:38:04.741458Z",
     "iopub.status.idle": "2024-07-14T08:43:05.346501Z",
     "shell.execute_reply": "2024-07-14T08:43:05.345543Z",
     "shell.execute_reply.started": "2024-07-14T07:38:04.741879Z"
    }
   },
   "outputs": [
    {
     "name": "stdout",
     "output_type": "stream",
     "text": [
      "Fold 1\n"
     ]
    },
    {
     "name": "stderr",
     "output_type": "stream",
     "text": [
      "/opt/conda/lib/python3.10/site-packages/torchvision/models/_utils.py:208: UserWarning: The parameter 'pretrained' is deprecated since 0.13 and may be removed in the future, please use 'weights' instead.\n",
      "  warnings.warn(\n",
      "/opt/conda/lib/python3.10/site-packages/torchvision/models/_utils.py:223: UserWarning: Arguments other than a weight enum or `None` for 'weights' are deprecated since 0.13 and may be removed in the future. The current behavior is equivalent to passing `weights=None`.\n",
      "  warnings.warn(msg)\n"
     ]
    },
    {
     "name": "stdout",
     "output_type": "stream",
     "text": [
      "Start of Epoch 1/20, Learning Rate: 0.000600\n",
      "Epoch 1/20, Loss: 1.0919\n",
      "Validation Accuracy on fold 1, Epoch 1/20: 67.20%\n",
      "Training Accuracy on fold 1, Epoch 1/20: 66.72%\n",
      "Start of Epoch 2/20, Learning Rate: 0.000596\n",
      "Epoch 2/20, Loss: 0.7587\n",
      "Validation Accuracy on fold 1, Epoch 2/20: 72.37%\n",
      "Training Accuracy on fold 1, Epoch 2/20: 74.50%\n",
      "Start of Epoch 3/20, Learning Rate: 0.000586\n",
      "Epoch 3/20, Loss: 0.6675\n",
      "Validation Accuracy on fold 1, Epoch 3/20: 75.03%\n",
      "Training Accuracy on fold 1, Epoch 3/20: 77.79%\n",
      "Start of Epoch 4/20, Learning Rate: 0.000569\n",
      "Epoch 4/20, Loss: 0.5980\n",
      "Validation Accuracy on fold 1, Epoch 4/20: 73.70%\n",
      "Training Accuracy on fold 1, Epoch 4/20: 76.39%\n",
      "Start of Epoch 5/20, Learning Rate: 0.000546\n",
      "Epoch 5/20, Loss: 0.5498\n",
      "Validation Accuracy on fold 1, Epoch 5/20: 76.40%\n",
      "Training Accuracy on fold 1, Epoch 5/20: 80.39%\n",
      "Start of Epoch 6/20, Learning Rate: 0.000517\n",
      "Epoch 6/20, Loss: 0.5162\n",
      "Validation Accuracy on fold 1, Epoch 6/20: 77.60%\n",
      "Training Accuracy on fold 1, Epoch 6/20: 81.64%\n",
      "Start of Epoch 7/20, Learning Rate: 0.000483\n",
      "Epoch 7/20, Loss: 0.4650\n",
      "Validation Accuracy on fold 1, Epoch 7/20: 76.70%\n",
      "Training Accuracy on fold 1, Epoch 7/20: 81.58%\n",
      "Start of Epoch 8/20, Learning Rate: 0.000444\n",
      "Epoch 8/20, Loss: 0.4403\n",
      "Validation Accuracy on fold 1, Epoch 8/20: 78.93%\n",
      "Training Accuracy on fold 1, Epoch 8/20: 84.43%\n",
      "Start of Epoch 9/20, Learning Rate: 0.000403\n",
      "Epoch 9/20, Loss: 0.4095\n",
      "Validation Accuracy on fold 1, Epoch 9/20: 76.50%\n",
      "Training Accuracy on fold 1, Epoch 9/20: 84.18%\n",
      "Start of Epoch 10/20, Learning Rate: 0.000360\n",
      "Epoch 10/20, Loss: 0.3815\n",
      "Validation Accuracy on fold 1, Epoch 10/20: 80.17%\n",
      "Training Accuracy on fold 1, Epoch 10/20: 86.94%\n",
      "Start of Epoch 11/20, Learning Rate: 0.000315\n",
      "Epoch 11/20, Loss: 0.3564\n",
      "Validation Accuracy on fold 1, Epoch 11/20: 81.20%\n",
      "Training Accuracy on fold 1, Epoch 11/20: 88.13%\n",
      "Start of Epoch 12/20, Learning Rate: 0.000270\n",
      "Epoch 12/20, Loss: 0.3280\n",
      "Validation Accuracy on fold 1, Epoch 12/20: 80.30%\n",
      "Training Accuracy on fold 1, Epoch 12/20: 88.40%\n",
      "Start of Epoch 13/20, Learning Rate: 0.000227\n",
      "Epoch 13/20, Loss: 0.3023\n",
      "Validation Accuracy on fold 1, Epoch 13/20: 82.23%\n",
      "Training Accuracy on fold 1, Epoch 13/20: 90.02%\n",
      "Start of Epoch 14/20, Learning Rate: 0.000186\n",
      "Epoch 14/20, Loss: 0.2858\n",
      "Validation Accuracy on fold 1, Epoch 14/20: 82.30%\n",
      "Training Accuracy on fold 1, Epoch 14/20: 90.83%\n",
      "Start of Epoch 15/20, Learning Rate: 0.000147\n",
      "Epoch 15/20, Loss: 0.2678\n",
      "Validation Accuracy on fold 1, Epoch 15/20: 82.67%\n",
      "Training Accuracy on fold 1, Epoch 15/20: 91.19%\n",
      "Start of Epoch 16/20, Learning Rate: 0.000113\n",
      "Epoch 16/20, Loss: 0.2580\n",
      "Validation Accuracy on fold 1, Epoch 16/20: 82.97%\n",
      "Training Accuracy on fold 1, Epoch 16/20: 92.00%\n",
      "Start of Epoch 17/20, Learning Rate: 0.000084\n",
      "Epoch 17/20, Loss: 0.2423\n",
      "Validation Accuracy on fold 1, Epoch 17/20: 83.13%\n",
      "Training Accuracy on fold 1, Epoch 17/20: 92.07%\n",
      "Start of Epoch 18/20, Learning Rate: 0.000061\n",
      "Epoch 18/20, Loss: 0.2263\n",
      "Validation Accuracy on fold 1, Epoch 18/20: 83.30%\n",
      "Training Accuracy on fold 1, Epoch 18/20: 92.75%\n",
      "Start of Epoch 19/20, Learning Rate: 0.000044\n",
      "Epoch 19/20, Loss: 0.2190\n",
      "Validation Accuracy on fold 1, Epoch 19/20: 82.70%\n",
      "Training Accuracy on fold 1, Epoch 19/20: 93.19%\n",
      "Start of Epoch 20/20, Learning Rate: 0.000034\n",
      "Epoch 20/20, Loss: 0.2188\n",
      "Validation Accuracy on fold 1, Epoch 20/20: 83.50%\n",
      "Training Accuracy on fold 1, Epoch 20/20: 93.07%\n",
      "Fold 2\n",
      "Start of Epoch 1/20, Learning Rate: 0.000600\n",
      "Epoch 1/20, Loss: 1.0845\n",
      "Validation Accuracy on fold 2, Epoch 1/20: 68.33%\n",
      "Training Accuracy on fold 2, Epoch 1/20: 70.12%\n",
      "Start of Epoch 2/20, Learning Rate: 0.000596\n",
      "Epoch 2/20, Loss: 0.7445\n",
      "Validation Accuracy on fold 2, Epoch 2/20: 73.03%\n",
      "Training Accuracy on fold 2, Epoch 2/20: 76.00%\n",
      "Start of Epoch 3/20, Learning Rate: 0.000586\n",
      "Epoch 3/20, Loss: 0.6694\n",
      "Validation Accuracy on fold 2, Epoch 3/20: 73.33%\n",
      "Training Accuracy on fold 2, Epoch 3/20: 77.18%\n",
      "Start of Epoch 4/20, Learning Rate: 0.000569\n",
      "Epoch 4/20, Loss: 0.5977\n",
      "Validation Accuracy on fold 2, Epoch 4/20: 73.73%\n",
      "Training Accuracy on fold 2, Epoch 4/20: 77.63%\n",
      "Start of Epoch 5/20, Learning Rate: 0.000546\n",
      "Epoch 5/20, Loss: 0.5565\n",
      "Validation Accuracy on fold 2, Epoch 5/20: 75.37%\n",
      "Training Accuracy on fold 2, Epoch 5/20: 81.03%\n",
      "Start of Epoch 6/20, Learning Rate: 0.000517\n",
      "Epoch 6/20, Loss: 0.5131\n",
      "Validation Accuracy on fold 2, Epoch 6/20: 74.03%\n",
      "Training Accuracy on fold 2, Epoch 6/20: 80.39%\n",
      "Start of Epoch 7/20, Learning Rate: 0.000483\n",
      "Epoch 7/20, Loss: 0.4730\n",
      "Validation Accuracy on fold 2, Epoch 7/20: 77.10%\n",
      "Training Accuracy on fold 2, Epoch 7/20: 83.13%\n",
      "Start of Epoch 8/20, Learning Rate: 0.000444\n",
      "Epoch 8/20, Loss: 0.4318\n",
      "Validation Accuracy on fold 2, Epoch 8/20: 78.83%\n",
      "Training Accuracy on fold 2, Epoch 8/20: 85.86%\n",
      "Start of Epoch 9/20, Learning Rate: 0.000403\n",
      "Epoch 9/20, Loss: 0.3993\n",
      "Validation Accuracy on fold 2, Epoch 9/20: 80.60%\n",
      "Training Accuracy on fold 2, Epoch 9/20: 86.03%\n",
      "Start of Epoch 10/20, Learning Rate: 0.000360\n",
      "Epoch 10/20, Loss: 0.3755\n",
      "Validation Accuracy on fold 2, Epoch 10/20: 78.83%\n",
      "Training Accuracy on fold 2, Epoch 10/20: 86.34%\n",
      "Start of Epoch 11/20, Learning Rate: 0.000315\n",
      "Epoch 11/20, Loss: 0.3517\n",
      "Validation Accuracy on fold 2, Epoch 11/20: 80.07%\n",
      "Training Accuracy on fold 2, Epoch 11/20: 88.62%\n",
      "Start of Epoch 12/20, Learning Rate: 0.000270\n",
      "Epoch 12/20, Loss: 0.3323\n",
      "Validation Accuracy on fold 2, Epoch 12/20: 81.37%\n",
      "Training Accuracy on fold 2, Epoch 12/20: 88.85%\n",
      "Start of Epoch 13/20, Learning Rate: 0.000227\n",
      "Epoch 13/20, Loss: 0.3053\n",
      "Validation Accuracy on fold 2, Epoch 13/20: 81.63%\n",
      "Training Accuracy on fold 2, Epoch 13/20: 90.38%\n",
      "Start of Epoch 14/20, Learning Rate: 0.000186\n",
      "Epoch 14/20, Loss: 0.2853\n",
      "Validation Accuracy on fold 2, Epoch 14/20: 81.03%\n",
      "Training Accuracy on fold 2, Epoch 14/20: 90.30%\n",
      "Start of Epoch 15/20, Learning Rate: 0.000147\n",
      "Epoch 15/20, Loss: 0.2578\n",
      "Validation Accuracy on fold 2, Epoch 15/20: 81.13%\n",
      "Training Accuracy on fold 2, Epoch 15/20: 91.34%\n",
      "Start of Epoch 16/20, Learning Rate: 0.000113\n",
      "Epoch 16/20, Loss: 0.2466\n",
      "Validation Accuracy on fold 2, Epoch 16/20: 82.63%\n",
      "Training Accuracy on fold 2, Epoch 16/20: 92.20%\n",
      "Start of Epoch 17/20, Learning Rate: 0.000084\n",
      "Epoch 17/20, Loss: 0.2386\n",
      "Validation Accuracy on fold 2, Epoch 17/20: 81.33%\n",
      "Training Accuracy on fold 2, Epoch 17/20: 92.17%\n",
      "Start of Epoch 18/20, Learning Rate: 0.000061\n",
      "Epoch 18/20, Loss: 0.2266\n",
      "Validation Accuracy on fold 2, Epoch 18/20: 81.20%\n",
      "Training Accuracy on fold 2, Epoch 18/20: 92.80%\n",
      "Start of Epoch 19/20, Learning Rate: 0.000044\n",
      "Epoch 19/20, Loss: 0.2212\n",
      "Validation Accuracy on fold 2, Epoch 19/20: 82.20%\n",
      "Training Accuracy on fold 2, Epoch 19/20: 93.04%\n",
      "Start of Epoch 20/20, Learning Rate: 0.000034\n",
      "Epoch 20/20, Loss: 0.2147\n",
      "Validation Accuracy on fold 2, Epoch 20/20: 82.37%\n",
      "Training Accuracy on fold 2, Epoch 20/20: 93.02%\n",
      "Fold 3\n",
      "Start of Epoch 1/20, Learning Rate: 0.000600\n",
      "Epoch 1/20, Loss: 1.0894\n",
      "Validation Accuracy on fold 3, Epoch 1/20: 69.40%\n",
      "Training Accuracy on fold 3, Epoch 1/20: 71.34%\n",
      "Start of Epoch 2/20, Learning Rate: 0.000596\n",
      "Epoch 2/20, Loss: 0.7574\n",
      "Validation Accuracy on fold 3, Epoch 2/20: 70.20%\n",
      "Training Accuracy on fold 3, Epoch 2/20: 72.93%\n",
      "Start of Epoch 3/20, Learning Rate: 0.000586\n",
      "Epoch 3/20, Loss: 0.6590\n",
      "Validation Accuracy on fold 3, Epoch 3/20: 75.60%\n",
      "Training Accuracy on fold 3, Epoch 3/20: 78.03%\n",
      "Start of Epoch 4/20, Learning Rate: 0.000569\n",
      "Epoch 4/20, Loss: 0.5988\n",
      "Validation Accuracy on fold 3, Epoch 4/20: 75.07%\n",
      "Training Accuracy on fold 3, Epoch 4/20: 78.39%\n",
      "Start of Epoch 5/20, Learning Rate: 0.000546\n",
      "Epoch 5/20, Loss: 0.5501\n",
      "Validation Accuracy on fold 3, Epoch 5/20: 76.33%\n",
      "Training Accuracy on fold 3, Epoch 5/20: 80.37%\n",
      "Start of Epoch 6/20, Learning Rate: 0.000517\n",
      "Epoch 6/20, Loss: 0.5104\n",
      "Validation Accuracy on fold 3, Epoch 6/20: 75.47%\n",
      "Training Accuracy on fold 3, Epoch 6/20: 81.27%\n",
      "Start of Epoch 7/20, Learning Rate: 0.000483\n",
      "Epoch 7/20, Loss: 0.4662\n",
      "Validation Accuracy on fold 3, Epoch 7/20: 76.87%\n",
      "Training Accuracy on fold 3, Epoch 7/20: 83.06%\n",
      "Start of Epoch 8/20, Learning Rate: 0.000444\n",
      "Epoch 8/20, Loss: 0.4424\n",
      "Validation Accuracy on fold 3, Epoch 8/20: 78.60%\n",
      "Training Accuracy on fold 3, Epoch 8/20: 84.23%\n",
      "Start of Epoch 9/20, Learning Rate: 0.000403\n",
      "Epoch 9/20, Loss: 0.4148\n",
      "Validation Accuracy on fold 3, Epoch 9/20: 79.37%\n",
      "Training Accuracy on fold 3, Epoch 9/20: 86.29%\n",
      "Start of Epoch 10/20, Learning Rate: 0.000360\n",
      "Epoch 10/20, Loss: 0.3887\n",
      "Validation Accuracy on fold 3, Epoch 10/20: 80.43%\n",
      "Training Accuracy on fold 3, Epoch 10/20: 86.45%\n",
      "Start of Epoch 11/20, Learning Rate: 0.000315\n",
      "Epoch 11/20, Loss: 0.3484\n",
      "Validation Accuracy on fold 3, Epoch 11/20: 79.30%\n",
      "Training Accuracy on fold 3, Epoch 11/20: 87.13%\n",
      "Start of Epoch 12/20, Learning Rate: 0.000270\n",
      "Epoch 12/20, Loss: 0.3206\n",
      "Validation Accuracy on fold 3, Epoch 12/20: 80.90%\n",
      "Training Accuracy on fold 3, Epoch 12/20: 89.72%\n",
      "Start of Epoch 13/20, Learning Rate: 0.000227\n",
      "Epoch 13/20, Loss: 0.2977\n",
      "Validation Accuracy on fold 3, Epoch 13/20: 81.50%\n",
      "Training Accuracy on fold 3, Epoch 13/20: 89.47%\n",
      "Start of Epoch 14/20, Learning Rate: 0.000186\n",
      "Epoch 14/20, Loss: 0.2875\n",
      "Validation Accuracy on fold 3, Epoch 14/20: 82.23%\n",
      "Training Accuracy on fold 3, Epoch 14/20: 90.71%\n",
      "Start of Epoch 15/20, Learning Rate: 0.000147\n",
      "Epoch 15/20, Loss: 0.2543\n",
      "Validation Accuracy on fold 3, Epoch 15/20: 82.83%\n",
      "Training Accuracy on fold 3, Epoch 15/20: 91.31%\n",
      "Start of Epoch 16/20, Learning Rate: 0.000113\n",
      "Epoch 16/20, Loss: 0.2426\n",
      "Validation Accuracy on fold 3, Epoch 16/20: 81.63%\n",
      "Training Accuracy on fold 3, Epoch 16/20: 91.62%\n",
      "Start of Epoch 17/20, Learning Rate: 0.000084\n",
      "Epoch 17/20, Loss: 0.2379\n",
      "Validation Accuracy on fold 3, Epoch 17/20: 82.00%\n",
      "Training Accuracy on fold 3, Epoch 17/20: 92.59%\n",
      "Start of Epoch 18/20, Learning Rate: 0.000061\n",
      "Epoch 18/20, Loss: 0.2272\n",
      "Validation Accuracy on fold 3, Epoch 18/20: 82.03%\n",
      "Training Accuracy on fold 3, Epoch 18/20: 93.26%\n",
      "Start of Epoch 19/20, Learning Rate: 0.000044\n",
      "Epoch 19/20, Loss: 0.2199\n",
      "Validation Accuracy on fold 3, Epoch 19/20: 82.63%\n",
      "Training Accuracy on fold 3, Epoch 19/20: 92.96%\n",
      "Start of Epoch 20/20, Learning Rate: 0.000034\n",
      "Epoch 20/20, Loss: 0.2122\n",
      "Validation Accuracy on fold 3, Epoch 20/20: 82.67%\n",
      "Training Accuracy on fold 3, Epoch 20/20: 93.06%\n",
      "Fold 4\n",
      "Start of Epoch 1/20, Learning Rate: 0.000600\n",
      "Epoch 1/20, Loss: 1.0833\n",
      "Validation Accuracy on fold 4, Epoch 1/20: 66.93%\n",
      "Training Accuracy on fold 4, Epoch 1/20: 67.72%\n",
      "Start of Epoch 2/20, Learning Rate: 0.000596\n",
      "Epoch 2/20, Loss: 0.7449\n",
      "Validation Accuracy on fold 4, Epoch 2/20: 70.87%\n",
      "Training Accuracy on fold 4, Epoch 2/20: 72.74%\n",
      "Start of Epoch 3/20, Learning Rate: 0.000586\n",
      "Epoch 3/20, Loss: 0.6651\n",
      "Validation Accuracy on fold 4, Epoch 3/20: 71.23%\n",
      "Training Accuracy on fold 4, Epoch 3/20: 73.98%\n",
      "Start of Epoch 4/20, Learning Rate: 0.000569\n",
      "Epoch 4/20, Loss: 0.6145\n",
      "Validation Accuracy on fold 4, Epoch 4/20: 76.07%\n",
      "Training Accuracy on fold 4, Epoch 4/20: 80.08%\n",
      "Start of Epoch 5/20, Learning Rate: 0.000546\n",
      "Epoch 5/20, Loss: 0.5539\n",
      "Validation Accuracy on fold 4, Epoch 5/20: 71.13%\n",
      "Training Accuracy on fold 4, Epoch 5/20: 76.28%\n",
      "Start of Epoch 6/20, Learning Rate: 0.000517\n",
      "Epoch 6/20, Loss: 0.4991\n",
      "Validation Accuracy on fold 4, Epoch 6/20: 76.83%\n",
      "Training Accuracy on fold 4, Epoch 6/20: 81.97%\n",
      "Start of Epoch 7/20, Learning Rate: 0.000483\n",
      "Epoch 7/20, Loss: 0.4719\n",
      "Validation Accuracy on fold 4, Epoch 7/20: 78.20%\n",
      "Training Accuracy on fold 4, Epoch 7/20: 83.56%\n",
      "Start of Epoch 8/20, Learning Rate: 0.000444\n",
      "Epoch 8/20, Loss: 0.4330\n",
      "Validation Accuracy on fold 4, Epoch 8/20: 78.73%\n",
      "Training Accuracy on fold 4, Epoch 8/20: 85.46%\n",
      "Start of Epoch 9/20, Learning Rate: 0.000403\n",
      "Epoch 9/20, Loss: 0.3999\n",
      "Validation Accuracy on fold 4, Epoch 9/20: 78.17%\n",
      "Training Accuracy on fold 4, Epoch 9/20: 85.12%\n",
      "Start of Epoch 10/20, Learning Rate: 0.000360\n",
      "Epoch 10/20, Loss: 0.3808\n",
      "Validation Accuracy on fold 4, Epoch 10/20: 78.73%\n",
      "Training Accuracy on fold 4, Epoch 10/20: 86.66%\n",
      "Start of Epoch 11/20, Learning Rate: 0.000315\n",
      "Epoch 11/20, Loss: 0.3501\n",
      "Validation Accuracy on fold 4, Epoch 11/20: 79.43%\n",
      "Training Accuracy on fold 4, Epoch 11/20: 87.17%\n",
      "Start of Epoch 12/20, Learning Rate: 0.000270\n",
      "Epoch 12/20, Loss: 0.3259\n",
      "Validation Accuracy on fold 4, Epoch 12/20: 80.77%\n",
      "Training Accuracy on fold 4, Epoch 12/20: 89.22%\n",
      "Start of Epoch 13/20, Learning Rate: 0.000227\n",
      "Epoch 13/20, Loss: 0.3061\n",
      "Validation Accuracy on fold 4, Epoch 13/20: 81.90%\n",
      "Training Accuracy on fold 4, Epoch 13/20: 89.78%\n",
      "Start of Epoch 14/20, Learning Rate: 0.000186\n",
      "Epoch 14/20, Loss: 0.2892\n",
      "Validation Accuracy on fold 4, Epoch 14/20: 81.30%\n",
      "Training Accuracy on fold 4, Epoch 14/20: 90.88%\n",
      "Start of Epoch 15/20, Learning Rate: 0.000147\n",
      "Epoch 15/20, Loss: 0.2661\n",
      "Validation Accuracy on fold 4, Epoch 15/20: 80.83%\n",
      "Training Accuracy on fold 4, Epoch 15/20: 91.35%\n",
      "Start of Epoch 16/20, Learning Rate: 0.000113\n",
      "Epoch 16/20, Loss: 0.2499\n",
      "Validation Accuracy on fold 4, Epoch 16/20: 82.63%\n",
      "Training Accuracy on fold 4, Epoch 16/20: 91.98%\n",
      "Start of Epoch 17/20, Learning Rate: 0.000084\n",
      "Epoch 17/20, Loss: 0.2395\n",
      "Validation Accuracy on fold 4, Epoch 17/20: 81.00%\n",
      "Training Accuracy on fold 4, Epoch 17/20: 92.19%\n",
      "Start of Epoch 18/20, Learning Rate: 0.000061\n",
      "Validation Accuracy on fold 4, Epoch 18/20: 82.17%\n",
      "Training Accuracy on fold 4, Epoch 18/20: 92.79%\n",
      "Start of Epoch 19/20, Learning Rate: 0.000044\n",
      "Epoch 19/20, Loss: 0.2262\n",
      "Validation Accuracy on fold 4, Epoch 19/20: 83.07%\n",
      "Training Accuracy on fold 4, Epoch 19/20: 93.21%\n",
      "Start of Epoch 20/20, Learning Rate: 0.000034\n",
      "Epoch 20/20, Loss: 0.2145\n",
      "Validation Accuracy on fold 4, Epoch 20/20: 81.30%\n",
      "Training Accuracy on fold 4, Epoch 20/20: 93.08%\n",
      "Fold 5\n",
      "Start of Epoch 1/20, Learning Rate: 0.000600\n",
      "Epoch 1/20, Loss: 1.0559\n",
      "Validation Accuracy on fold 5, Epoch 1/20: 66.47%\n",
      "Training Accuracy on fold 5, Epoch 1/20: 68.58%\n",
      "Start of Epoch 2/20, Learning Rate: 0.000596\n",
      "Epoch 2/20, Loss: 0.7368\n",
      "Validation Accuracy on fold 5, Epoch 2/20: 70.87%\n",
      "Training Accuracy on fold 5, Epoch 2/20: 73.72%\n",
      "Start of Epoch 3/20, Learning Rate: 0.000586\n",
      "Epoch 3/20, Loss: 0.6593\n",
      "Validation Accuracy on fold 5, Epoch 3/20: 72.93%\n",
      "Training Accuracy on fold 5, Epoch 3/20: 77.03%\n",
      "Start of Epoch 4/20, Learning Rate: 0.000569\n",
      "Epoch 4/20, Loss: 0.5976\n",
      "Validation Accuracy on fold 5, Epoch 4/20: 74.43%\n",
      "Training Accuracy on fold 5, Epoch 4/20: 79.49%\n",
      "Start of Epoch 5/20, Learning Rate: 0.000546\n",
      "Epoch 5/20, Loss: 0.5581\n",
      "Validation Accuracy on fold 5, Epoch 5/20: 76.70%\n",
      "Training Accuracy on fold 5, Epoch 5/20: 81.33%\n",
      "Start of Epoch 6/20, Learning Rate: 0.000517\n",
      "Epoch 6/20, Loss: 0.5066\n",
      "Validation Accuracy on fold 5, Epoch 6/20: 74.93%\n",
      "Training Accuracy on fold 5, Epoch 6/20: 80.73%\n",
      "Start of Epoch 7/20, Learning Rate: 0.000483\n",
      "Epoch 7/20, Loss: 0.4762\n",
      "Validation Accuracy on fold 5, Epoch 7/20: 77.97%\n",
      "Training Accuracy on fold 5, Epoch 7/20: 83.31%\n",
      "Start of Epoch 8/20, Learning Rate: 0.000444\n",
      "Epoch 8/20, Loss: 0.4368\n",
      "Validation Accuracy on fold 5, Epoch 8/20: 78.27%\n",
      "Training Accuracy on fold 5, Epoch 8/20: 84.86%\n",
      "Start of Epoch 9/20, Learning Rate: 0.000403\n",
      "Epoch 9/20, Loss: 0.4172\n",
      "Validation Accuracy on fold 5, Epoch 9/20: 78.03%\n",
      "Training Accuracy on fold 5, Epoch 9/20: 85.15%\n",
      "Start of Epoch 10/20, Learning Rate: 0.000360\n",
      "Epoch 10/20, Loss: 0.3743\n",
      "Validation Accuracy on fold 5, Epoch 10/20: 79.00%\n",
      "Training Accuracy on fold 5, Epoch 10/20: 87.67%\n",
      "Start of Epoch 11/20, Learning Rate: 0.000315\n",
      "Epoch 11/20, Loss: 0.3490\n",
      "Validation Accuracy on fold 5, Epoch 11/20: 79.93%\n",
      "Training Accuracy on fold 5, Epoch 11/20: 88.37%\n",
      "Start of Epoch 12/20, Learning Rate: 0.000270\n",
      "Epoch 12/20, Loss: 0.3294\n",
      "Validation Accuracy on fold 5, Epoch 12/20: 81.33%\n",
      "Training Accuracy on fold 5, Epoch 12/20: 89.53%\n",
      "Start of Epoch 13/20, Learning Rate: 0.000227\n",
      "Epoch 13/20, Loss: 0.3014\n",
      "Validation Accuracy on fold 5, Epoch 13/20: 80.93%\n",
      "Training Accuracy on fold 5, Epoch 13/20: 89.27%\n",
      "Start of Epoch 14/20, Learning Rate: 0.000186\n",
      "Epoch 14/20, Loss: 0.2793\n",
      "Validation Accuracy on fold 5, Epoch 14/20: 80.30%\n",
      "Training Accuracy on fold 5, Epoch 14/20: 89.85%\n",
      "Start of Epoch 15/20, Learning Rate: 0.000147\n",
      "Epoch 15/20, Loss: 0.2627\n",
      "Validation Accuracy on fold 5, Epoch 15/20: 80.17%\n",
      "Training Accuracy on fold 5, Epoch 15/20: 91.27%\n",
      "Start of Epoch 16/20, Learning Rate: 0.000113\n",
      "Epoch 16/20, Loss: 0.2459\n",
      "Validation Accuracy on fold 5, Epoch 16/20: 82.27%\n",
      "Training Accuracy on fold 5, Epoch 16/20: 92.33%\n",
      "Start of Epoch 17/20, Learning Rate: 0.000084\n",
      "Epoch 17/20, Loss: 0.2374\n",
      "Validation Accuracy on fold 5, Epoch 17/20: 82.63%\n",
      "Training Accuracy on fold 5, Epoch 17/20: 92.63%\n",
      "Start of Epoch 18/20, Learning Rate: 0.000061\n",
      "Epoch 18/20, Loss: 0.2315\n",
      "Validation Accuracy on fold 5, Epoch 18/20: 81.60%\n",
      "Training Accuracy on fold 5, Epoch 18/20: 93.08%\n",
      "Start of Epoch 19/20, Learning Rate: 0.000044\n",
      "Epoch 19/20, Loss: 0.2169\n",
      "Validation Accuracy on fold 5, Epoch 19/20: 81.73%\n",
      "Training Accuracy on fold 5, Epoch 19/20: 92.86%\n",
      "Start of Epoch 20/20, Learning Rate: 0.000034\n",
      "Epoch 20/20, Loss: 0.2118\n",
      "Validation Accuracy on fold 5, Epoch 20/20: 82.07%\n",
      "Training Accuracy on fold 5, Epoch 20/20: 93.08%\n"
     ]
    }
   ],
   "source": [
    "trainset_targets = trainset.targets\n",
    "# Stratified split to get 30% of the data\n",
    "sss = StratifiedShuffleSplit(n_splits=1, test_size=0.3, random_state=42)\n",
    "_, used_idx = next(sss.split(trainset.data, trainset_targets))\n",
    "used_subset = Subset(trainset, used_idx)\n",
    "\n",
    "# Prepare targets for used_subset\n",
    "used_targets = [trainset_targets[i] for i in used_idx]\n",
    "\n",
    "# Stratified K-Fold cross-validation\n",
    "kf = StratifiedKFold(n_splits=5, shuffle=True, random_state=42)\n",
    "Loss = torch.zeros(5, 20)\n",
    "Validation_accuracy = torch.zeros(5, 20)\n",
    "Train_accuracy = torch.zeros(5, 20)\n",
    "device = torch.device(\"cuda\" if torch.cuda.is_available() else \"cpu\")\n",
    "for fold, (train_idx, val_idx) in enumerate(kf.split(np.zeros(len(used_targets)), used_targets)):\n",
    "    print(f'Fold {fold + 1}')\n",
    "    train_data = Subset(used_subset, train_idx)\n",
    "    val_data = Subset(used_subset, val_idx)\n",
    "\n",
    "    train_loader = DataLoader(train_data, batch_size=256, shuffle=True)\n",
    "    val_loader = DataLoader(val_data, batch_size=256, shuffle=False)\n",
    "\n",
    "    # Create an instance of the fine-tuning model\n",
    "    FT_model = FineTuneModel(num_classes=10, encoder_save_path='/kaggle/input/simclr-pretrainedencoders/encoder_e50_lr0p001_lrs60per10.pth')\n",
    "    FT_model.to(device)\n",
    "\n",
    "    criterion = nn.CrossEntropyLoss()\n",
    "    optimizer = optim.Adam(FT_model.parameters(), lr=0.0006)\n",
    "    #exp_scheduler = torch.optim.lr_scheduler.ExponentialLR(optimizer, gamma=0.9)\n",
    "    cosine_scheduler = torch.optim.lr_scheduler.CosineAnnealingLR(optimizer, T_max= 20, eta_min=0.00003)\n",
    "\n",
    "    # Training\n",
    "    num_epochs = 20\n",
    "    #switch_epoch = 15\n",
    "    for epoch in range(num_epochs):\n",
    "        for param_group in optimizer.param_groups:\n",
    "            print(f'Start of Epoch {epoch+1}/{num_epochs}, Learning Rate: {param_group[\"lr\"]:.6f}')\n",
    "        FT_model.train()\n",
    "        running_loss = 0.0\n",
    "        for inputs, labels in train_loader:\n",
    "            inputs, labels = inputs.to(device), labels.to(device)\n",
    "            outputs = FT_model(inputs)\n",
    "            loss = criterion(outputs, labels)\n",
    "            optimizer.zero_grad()\n",
    "            loss.backward()\n",
    "            optimizer.step()\n",
    "            running_loss += loss.item() * inputs.size(0)\n",
    "            \n",
    "        epoch_loss = running_loss / len(train_loader.dataset)\n",
    "        Loss[fold, epoch] = epoch_loss\n",
    "        print(f'Epoch {epoch + 1}/{num_epochs}, Loss: {epoch_loss:.4f}')\n",
    "\n",
    "        # Validation Accuracy\n",
    "        FT_model.eval()\n",
    "        correct = 0\n",
    "        total = 0\n",
    "        with torch.no_grad():\n",
    "            for inputs, labels in val_loader:\n",
    "                inputs, labels = inputs.to(device), labels.to(device)\n",
    "                outputs = FT_model(inputs)\n",
    "                _, predicted = torch.max(outputs.data, 1)\n",
    "                total += labels.size(0)\n",
    "                correct += (predicted == labels).sum().item()\n",
    "            \n",
    "        val_accuracy = 100 * correct / total\n",
    "        Validation_accuracy[fold, epoch] = val_accuracy\n",
    "        print(f'Validation Accuracy on fold {fold + 1}, Epoch {epoch + 1}/{num_epochs}: {val_accuracy:.2f}%')\n",
    "        \n",
    "        # Training Accuracy\n",
    "        FT_model.eval()\n",
    "        correct = 0\n",
    "        total = 0\n",
    "        with torch.no_grad():\n",
    "            for inputs, labels in train_loader:\n",
    "                inputs, labels = inputs.to(device), labels.to(device)\n",
    "                outputs = FT_model(inputs)\n",
    "                _, predicted = torch.max(outputs.data, 1)\n",
    "                total += labels.size(0)\n",
    "                correct += (predicted == labels).sum().item()\n",
    "            \n",
    "        Tr_accuracy = 100 * correct / total\n",
    "        Train_accuracy[fold, epoch] = Tr_accuracy\n",
    "        print(f'Training Accuracy on fold {fold + 1}, Epoch {epoch + 1}/{num_epochs}: {Tr_accuracy:.2f}%')\n",
    "        \n",
    "        #if epoch + 1 >= switch_epoch:\n",
    "        #    exp_scheduler.gamma = 0.6\n",
    "        #exp_scheduler.step()\n",
    "        cosine_scheduler.step()\n",
    "        \n",
    "    \n",
    "# Calculate the mean along dim=0\n",
    "average_loss = Loss.mean(dim=0)\n",
    "average_validation_accuracy = Validation_accuracy.mean(dim=0)\n",
    "average_train_accuracy = Train_accuracy.mean(dim=0)\n"
   ]
  },
  {
   "cell_type": "markdown",
   "metadata": {},
   "source": [
    "printing the loss, val_acc and train_acc"
   ]
  },
  {
   "cell_type": "code",
   "execution_count": 14,
   "metadata": {
    "execution": {
     "iopub.execute_input": "2024-07-14T08:43:05.348026Z",
     "iopub.status.busy": "2024-07-14T08:43:05.347725Z",
     "iopub.status.idle": "2024-07-14T08:43:05.362189Z",
     "shell.execute_reply": "2024-07-14T08:43:05.361205Z",
     "shell.execute_reply.started": "2024-07-14T08:43:05.348001Z"
    }
   },
   "outputs": [
    {
     "name": "stdout",
     "output_type": "stream",
     "text": [
      "avg loss = tensor([1.0810, 0.7484, 0.6641, 0.6013, 0.5537, 0.5091, 0.4705, 0.4368, 0.4081,\n",
      "        0.3801, 0.3511, 0.3272, 0.3025, 0.2854, 0.2617, 0.2486, 0.2391, 0.2293,\n",
      "        0.2206, 0.2144])\n",
      "avg validation accuracy: tensor([67.6667, 71.4667, 73.6267, 74.6000, 75.1867, 75.7733, 77.3667, 78.6733,\n",
      "        78.5333, 79.4333, 79.9867, 80.9333, 81.6400, 81.4333, 81.5267, 82.4267,\n",
      "        82.0200, 82.0600, 82.4667, 82.3800])\n",
      "avg train accuracy = tensor([68.8950, 73.9800, 76.8033, 78.3967, 79.8783, 81.2017, 82.9283, 84.9683,\n",
      "        85.3550, 86.8117, 87.8867, 89.1433, 89.7833, 90.5133, 91.2917, 92.0267,\n",
      "        92.3300, 92.9350, 93.0517, 93.0617])\n"
     ]
    }
   ],
   "source": [
    "print(f'avg loss = {average_loss}')\n",
    "print(f'avg validation accuracy: {average_validation_accuracy}')\n",
    "print(f'avg train accuracy = {average_train_accuracy}')"
   ]
  },
  {
   "cell_type": "markdown",
   "metadata": {},
   "source": [
    "plotting the loss, val_acc and train_acc"
   ]
  },
  {
   "cell_type": "code",
   "execution_count": 15,
   "metadata": {
    "execution": {
     "iopub.execute_input": "2024-07-14T08:43:05.363455Z",
     "iopub.status.busy": "2024-07-14T08:43:05.363194Z",
     "iopub.status.idle": "2024-07-14T08:43:06.276444Z",
     "shell.execute_reply": "2024-07-14T08:43:06.275567Z",
     "shell.execute_reply.started": "2024-07-14T08:43:05.363433Z"
    }
   },
   "outputs": [
    {
     "data": {
      "image/png": "[encoded data removed]",
      "text/plain": [
       "<Figure size 1000x1800 with 3 Axes>"
      ]
     },
     "metadata": {},
     "output_type": "display_data"
    }
   ],
   "source": [
    "# Epoch numbers from 1 to 20\n",
    "epochs = list(range(1, 21))\n",
    "\n",
    "# Create the figure and subplots\n",
    "fig, axes = plt.subplots(3, 1, figsize=(10, 18))\n",
    "\n",
    "# Plot Average Loss\n",
    "axes[0].plot(epochs, average_loss, label='Average Loss', marker='o')\n",
    "axes[0].set_title('Average Loss over Epochs')\n",
    "axes[0].set_xlabel('Epoch')\n",
    "axes[0].set_ylabel('Average Loss')\n",
    "axes[0].legend()\n",
    "axes[0].grid(True)  # Add grid\n",
    "\n",
    "# Plot Validation Accuracy\n",
    "axes[1].plot(epochs, average_validation_accuracy, label='Validation Accuracy', marker='o')\n",
    "axes[1].set_title('Validation Accuracy over Epochs')\n",
    "axes[1].set_xlabel('Epoch')\n",
    "axes[1].set_ylabel('Validation Accuracy')\n",
    "axes[1].legend()\n",
    "axes[1].grid(True)  # Add grid\n",
    "\n",
    "# Plot Training Accuracy\n",
    "axes[2].plot(epochs, average_train_accuracy, label='Training Accuracy', marker='o')\n",
    "axes[2].set_title('Training Accuracy over Epochs')\n",
    "axes[2].set_xlabel('Epoch')\n",
    "axes[2].set_ylabel('Training Accuracy')\n",
    "axes[2].legend()\n",
    "axes[2].grid(True)  # Add grid\n",
    "\n",
    "# Adjust layout\n",
    "plt.tight_layout()\n",
    "\n",
    "# Show the plot\n",
    "plt.show()"
   ]
  },
  {
   "cell_type": "markdown",
   "metadata": {},
   "source": [
    "Test accuracy"
   ]
  },
  {
   "cell_type": "code",
   "execution_count": 34,
   "metadata": {
    "execution": {
     "iopub.execute_input": "2024-07-14T08:53:41.881662Z",
     "iopub.status.busy": "2024-07-14T08:53:41.880926Z",
     "iopub.status.idle": "2024-07-14T08:53:41.886054Z",
     "shell.execute_reply": "2024-07-14T08:53:41.884993Z",
     "shell.execute_reply.started": "2024-07-14T08:53:41.881629Z"
    }
   },
   "outputs": [],
   "source": [
    "# load test data\n",
    "test_loader = DataLoader(testset, batch_size=256, shuffle=False)"
   ]
  },
  {
   "cell_type": "markdown",
   "metadata": {},
   "source": [
    "1 fold test accuracy"
   ]
  },
  {
   "cell_type": "code",
   "execution_count": 35,
   "metadata": {
    "execution": {
     "iopub.execute_input": "2024-07-14T08:53:43.768273Z",
     "iopub.status.busy": "2024-07-14T08:53:43.767559Z",
     "iopub.status.idle": "2024-07-14T08:53:56.133785Z",
     "shell.execute_reply": "2024-07-14T08:53:56.132854Z",
     "shell.execute_reply.started": "2024-07-14T08:53:43.768241Z"
    }
   },
   "outputs": [
    {
     "name": "stdout",
     "output_type": "stream",
     "text": [
      "Accuracy of the model on the 10000 test images: 81.67%\n"
     ]
    }
   ],
   "source": [
    "fine_tune_model.eval()\n",
    "correct = 0\n",
    "total = 0\n",
    "with torch.no_grad():\n",
    "    for inputs, labels in test_loader:\n",
    "        inputs, labels = inputs.to(device), labels.to(device)\n",
    "        outputs = fine_tune_model(inputs)\n",
    "        _, predicted = torch.max(outputs.data, 1)\n",
    "        total += labels.size(0)\n",
    "        correct += (predicted == labels).sum().item()\n",
    "\n",
    "accuracy = 100 * correct / total\n",
    "print(f'Accuracy of the model on the 10000 test images: {accuracy:.2f}%')"
   ]
  },
  {
   "cell_type": "markdown",
   "metadata": {},
   "source": [
    "5 fold test accuracy"
   ]
  },
  {
   "cell_type": "code",
   "execution_count": 36,
   "metadata": {
    "execution": {
     "iopub.execute_input": "2024-07-14T08:53:56.135500Z",
     "iopub.status.busy": "2024-07-14T08:53:56.135206Z",
     "iopub.status.idle": "2024-07-14T08:54:08.622651Z",
     "shell.execute_reply": "2024-07-14T08:54:08.621651Z",
     "shell.execute_reply.started": "2024-07-14T08:53:56.135475Z"
    }
   },
   "outputs": [
    {
     "name": "stdout",
     "output_type": "stream",
     "text": [
      "Accuracy of the model on the 10000 test images: 82.46%\n"
     ]
    }
   ],
   "source": [
    "FT_model.eval()\n",
    "correct = 0\n",
    "total = 0\n",
    "with torch.no_grad():\n",
    "    for inputs, labels in test_loader:\n",
    "        inputs, labels = inputs.to(device), labels.to(device)\n",
    "        outputs = FT_model(inputs)\n",
    "        _, predicted = torch.max(outputs.data, 1)\n",
    "        total += labels.size(0)\n",
    "        correct += (predicted == labels).sum().item()\n",
    "\n",
    "accuracy = 100 * correct / total\n",
    "print(f'Accuracy of the model on the 10000 test images: {accuracy:.2f}%')"
   ]
  }
 ],
 "metadata": {
  "kaggle": {
   "accelerator": "gpu",
   "dataSources": [
    {
     "datasetId": 5371843,
     "sourceId": 8929869,
     "sourceType": "datasetVersion"
    }
   ],
   "dockerImageVersionId": 30733,
   "isGpuEnabled": true,
   "isInternetEnabled": true,
   "language": "python",
   "sourceType": "notebook"
  },
  "kernelspec": {
   "display_name": "Python 3 (ipykernel)",
   "language": "python",
   "name": "python3"
  },
  "language_info": {
   "codemirror_mode": {
    "name": "ipython",
    "version": 3
   },
   "file_extension": ".py",
   "mimetype": "text/x-python",
   "name": "python",
   "nbconvert_exporter": "python",
   "pygments_lexer": "ipython3",
   "version": "3.9.0"
  }
 },
 "nbformat": 4,
 "nbformat_minor": 4
}
