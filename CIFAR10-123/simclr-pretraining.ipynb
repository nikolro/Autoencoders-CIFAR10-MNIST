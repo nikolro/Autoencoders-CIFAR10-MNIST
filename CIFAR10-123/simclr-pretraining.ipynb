{
 "cells": [
  {
   "cell_type": "code",
   "execution_count": 1,
   "metadata": {
    "_cell_guid": "b1076dfc-b9ad-4769-8c92-a6c4dae69d19",
    "_uuid": "8f2839f25d086af736a60e9eeb907d3b93b6e0e5",
    "execution": {
     "iopub.execute_input": "2025-03-25T08:36:20.911353Z",
     "iopub.status.busy": "2025-03-25T08:36:20.910609Z",
     "iopub.status.idle": "2025-03-25T08:36:47.653538Z",
     "shell.execute_reply": "2025-03-25T08:36:47.652317Z"
    },
    "tags": []
   },
   "outputs": [],
   "source": [
    "import torch\n",
    "import torch.nn as nn\n",
    "import torch.optim as optim\n",
    "import torchvision\n",
    "import torchvision.transforms as transforms\n",
    "from torchvision import models\n",
    "import random\n",
    "from torch.utils.data import DataLoader, random_split, Subset\n",
    "from torchvision.models import resnet18\n",
    "from sklearn.model_selection import KFold\n",
    "from sklearn.model_selection import StratifiedShuffleSplit , StratifiedKFold\n",
    "import numpy as np\n",
    "from torchvision.datasets import CIFAR10\n",
    "import matplotlib.pyplot as plt\n",
    "from PIL import Image"
   ]
  },
  {
   "cell_type": "code",
   "execution_count": 2,
   "metadata": {
    "execution": {
     "iopub.execute_input": "2025-03-25T08:36:47.658896Z",
     "iopub.status.busy": "2025-03-25T08:36:47.658262Z",
     "iopub.status.idle": "2025-03-25T08:36:48.854867Z",
     "shell.execute_reply": "2025-03-25T08:36:48.854097Z"
    },
    "tags": []
   },
   "outputs": [],
   "source": [
    "def set_seed(seed):\n",
    "    random.seed(seed)\n",
    "    np.random.seed(seed)\n",
    "    torch.manual_seed(seed)\n",
    "    if torch.cuda.is_available():\n",
    "        torch.cuda.manual_seed(seed)\n",
    "        torch.cuda.manual_seed_all(seed)\n",
    "    torch.backends.cudnn.deterministic = True\n",
    "    torch.backends.cudnn.benchmark = False\n",
    "\n",
    "# Set the random seed for reproducibility\n",
    "set_seed(42)"
   ]
  },
  {
   "cell_type": "code",
   "execution_count": 3,
   "metadata": {
    "execution": {
     "iopub.execute_input": "2025-03-25T08:36:48.858489Z",
     "iopub.status.busy": "2025-03-25T08:36:48.858230Z",
     "iopub.status.idle": "2025-03-25T08:36:48.862117Z",
     "shell.execute_reply": "2025-03-25T08:36:48.861151Z"
    },
    "tags": []
   },
   "outputs": [],
   "source": [
    "#defining class names for use\n",
    "classes = [\n",
    "    'airplane', 'automobile', 'bird', 'cat', 'deer',\n",
    "    'dog', 'frog', 'horse', 'ship', 'truck'\n",
    "]"
   ]
  },
  {
   "cell_type": "markdown",
   "metadata": {},
   "source": [
    "# Generating input data for contrastive learning"
   ]
  },
  {
   "cell_type": "markdown",
   "metadata": {},
   "source": [
    " color distortion composed by color jittering and color dropping.\n",
    " See Section A of SimCLR: https://arxiv.org/abs/2002.05709"
   ]
  },
  {
   "cell_type": "code",
   "execution_count": 4,
   "metadata": {
    "execution": {
     "iopub.execute_input": "2025-03-25T08:36:48.865462Z",
     "iopub.status.busy": "2025-03-25T08:36:48.865219Z",
     "iopub.status.idle": "2025-03-25T08:36:48.869803Z",
     "shell.execute_reply": "2025-03-25T08:36:48.868832Z"
    },
    "tags": []
   },
   "outputs": [],
   "source": [
    "def color_distortion(s=0.5):  # 0.5 for CIFAR10 by default\n",
    "    # s is the strength of color distortion\n",
    "    color_jitter = transforms.ColorJitter(0.8*s, 0.8*s, 0.8*s, 0.2*s)\n",
    "    rnd_color_jitter = transforms.RandomApply([color_jitter], p=0.8)\n",
    "    rnd_gray = transforms.RandomGrayscale(p=0.2)\n",
    "    color_distort = transforms.Compose([rnd_color_jitter, rnd_gray])\n",
    "    return color_distort"
   ]
  },
  {
   "cell_type": "markdown",
   "metadata": {},
   "source": [
    "Data augmentation 1: Inception crop and resize to 32x32(with random flip)\n",
    "\n",
    "Data augmentation 2: color distortion (strength=0.5)\n",
    "\n",
    "leaving out Gaussian blur for CIFAR-10"
   ]
  },
  {
   "cell_type": "code",
   "execution_count": 5,
   "metadata": {
    "execution": {
     "iopub.execute_input": "2025-03-25T08:36:48.873039Z",
     "iopub.status.busy": "2025-03-25T08:36:48.872797Z",
     "iopub.status.idle": "2025-03-25T08:36:48.878101Z",
     "shell.execute_reply": "2025-03-25T08:36:48.877136Z"
    },
    "tags": []
   },
   "outputs": [],
   "source": [
    "transform_CLtrain = transforms.Compose([\n",
    "    transforms.RandomResizedCrop(32),\n",
    "    transforms.RandomHorizontalFlip(p=0.5),\n",
    "    color_distortion(s=0.5),\n",
    "    transforms.ToTensor(),\n",
    "    transforms.Normalize((0.4914, 0.4822, 0.4465), (0.2023, 0.1994, 0.2010)),\n",
    "])\n",
    "\n",
    "transform_CLtest = transforms.Compose([\n",
    "    transforms.ToTensor(),\n",
    "    transforms.Normalize((0.4914, 0.4822, 0.4465), (0.2023, 0.1994, 0.2010)),\n",
    "])"
   ]
  },
  {
   "cell_type": "code",
   "execution_count": 6,
   "metadata": {
    "execution": {
     "iopub.execute_input": "2025-03-25T08:36:48.881297Z",
     "iopub.status.busy": "2025-03-25T08:36:48.881055Z",
     "iopub.status.idle": "2025-03-25T08:36:48.886143Z",
     "shell.execute_reply": "2025-03-25T08:36:48.885292Z"
    },
    "tags": []
   },
   "outputs": [],
   "source": [
    "class CIFAR10Pair(CIFAR10):  #CIFAR10Pair inherits from the CIFAR10 dataset class,i.e child class\n",
    "    def __getitem__(self, index): # The __getitem__ method is overridden to get a positive pair of imgs and a label\n",
    "        img, target = self.data[index], self.targets[index]\n",
    "        img = Image.fromarray(img)\n",
    "        \n",
    "        if self.transform is not None: #Checks if any data transformations are specified.\n",
    "            x_i = self.transform(img)  # Applies the transformation twice\n",
    "            x_j = self.transform(img)  # due to the randomness in the transformations, x_i and x_j will be different augmented versions of the same image.\n",
    "        if self.target_transform is not None:  #Checks if any target transformations are specified.\n",
    "            target = self.target_transform(target) #Applies the target transformation to the target, if any.\n",
    "\n",
    "\n",
    "        return x_i, x_j, target"
   ]
  },
  {
   "cell_type": "code",
   "execution_count": 7,
   "metadata": {
    "execution": {
     "iopub.execute_input": "2025-03-25T08:36:48.889628Z",
     "iopub.status.busy": "2025-03-25T08:36:48.889383Z",
     "iopub.status.idle": "2025-03-25T08:36:50.916675Z",
     "shell.execute_reply": "2025-03-25T08:36:50.915820Z"
    },
    "tags": []
   },
   "outputs": [],
   "source": [
    "ConLearn_train_data = CIFAR10Pair(root='./CLdata', train=True, transform=transform_CLtrain, download=True)"
   ]
  },
  {
   "cell_type": "code",
   "execution_count": 8,
   "metadata": {
    "execution": {
     "iopub.execute_input": "2025-03-25T08:36:50.920394Z",
     "iopub.status.busy": "2025-03-25T08:36:50.920135Z",
     "iopub.status.idle": "2025-03-25T08:36:51.422013Z",
     "shell.execute_reply": "2025-03-25T08:36:51.420710Z"
    },
    "tags": []
   },
   "outputs": [
    {
     "name": "stderr",
     "output_type": "stream",
     "text": [
      "Clipping input data to the valid range for imshow with RGB data ([0..1] for floats or [0..255] for integers). Got range [-2.378921..2.7537313].\n"
     ]
    },
    {
     "name": "stderr",
     "output_type": "stream",
     "text": [
      "Clipping input data to the valid range for imshow with RGB data ([0..1] for floats or [0..255] for integers). Got range [-2.1770618..1.4855624].\n"
     ]
    },
    {
     "data": {
      "image/png": "[encoded data removed]",
      "text/plain": [
       "<Figure size 1000x500 with 2 Axes>"
      ]
     },
     "metadata": {},
     "output_type": "display_data"
    }
   ],
   "source": [
    "img1,img2,label = ConLearn_train_data[0]\n",
    "\n",
    "# Convert the tensors to NumPy arrays\n",
    "img1 = img1.permute(1, 2, 0).numpy()  # Change the dimensions to (height, width, channels)\n",
    "img2 = img2.permute(1, 2, 0).numpy()\n",
    "\n",
    "# Plotting the images using matplotlib with bilinear interpolation\n",
    "fig, ax = plt.subplots(1, 2, figsize=(10, 5))\n",
    "\n",
    "ax[0].imshow(img1, interpolation='bilinear')\n",
    "ax[0].set_title('Image 1')\n",
    "ax[0].axis('off')\n",
    "\n",
    "ax[1].imshow(img2, interpolation='bilinear')\n",
    "ax[1].set_title('Image 2')\n",
    "ax[1].axis('off')\n",
    "\n",
    "# Add a title to the entire figure\n",
    "plt.suptitle(f'Label: {label}, Class: {classes[label]}', fontsize=16)\n",
    "\n",
    "plt.show()"
   ]
  },
  {
   "cell_type": "markdown",
   "metadata": {},
   "source": [
    "# Contrastive Learning - Pre Training"
   ]
  },
  {
   "cell_type": "code",
   "execution_count": 9,
   "metadata": {
    "execution": {
     "iopub.execute_input": "2025-03-25T08:36:51.427482Z",
     "iopub.status.busy": "2025-03-25T08:36:51.427169Z",
     "iopub.status.idle": "2025-03-25T08:36:51.431453Z",
     "shell.execute_reply": "2025-03-25T08:36:51.430521Z"
    },
    "tags": []
   },
   "outputs": [],
   "source": [
    "batch_size = 256\n",
    "#learningrate =  1e-3\n",
    "temperature = 0.5\n",
    "device = torch.device(\"cuda\" if torch.cuda.is_available() else \"cpu\")"
   ]
  },
  {
   "cell_type": "code",
   "execution_count": 10,
   "metadata": {
    "execution": {
     "iopub.execute_input": "2025-03-25T08:36:51.434487Z",
     "iopub.status.busy": "2025-03-25T08:36:51.434188Z",
     "iopub.status.idle": "2025-03-25T08:36:51.454547Z",
     "shell.execute_reply": "2025-03-25T08:36:51.453168Z"
    },
    "tags": []
   },
   "outputs": [
    {
     "name": "stdout",
     "output_type": "stream",
     "text": [
      "195\n"
     ]
    },
    {
     "name": "stderr",
     "output_type": "stream",
     "text": [
      "/home/noranm/miniconda3/envs/cs236781-hw/lib/python3.9/site-packages/torch/utils/data/dataloader.py:624: UserWarning: This DataLoader will create 4 worker processes in total. Our suggested max number of worker in current system is 2, which is smaller than what this DataLoader is going to create. Please be aware that excessive worker creation might get DataLoader running slow or even freeze, lower the worker number to avoid potential slowness/freeze if necessary.\n",
      "  warnings.warn(\n"
     ]
    }
   ],
   "source": [
    "ConLearn_traindata_loader = DataLoader(ConLearn_train_data, batch_size=batch_size, shuffle=True, num_workers = 4, pin_memory=True, drop_last=True)\n",
    "num_batches = len(ConLearn_traindata_loader)\n",
    "print(num_batches)"
   ]
  },
  {
   "cell_type": "markdown",
   "metadata": {},
   "source": [
    "Defining the pre training contrastive learning model"
   ]
  },
  {
   "cell_type": "code",
   "execution_count": 11,
   "metadata": {
    "execution": {
     "iopub.execute_input": "2025-03-25T08:36:51.459165Z",
     "iopub.status.busy": "2025-03-25T08:36:51.458825Z",
     "iopub.status.idle": "2025-03-25T08:36:51.467079Z",
     "shell.execute_reply": "2025-03-25T08:36:51.466028Z"
    },
    "tags": []
   },
   "outputs": [],
   "source": [
    "class PreTrainModel(nn.Module):\n",
    "    def __init__(self, projection_dim=128):\n",
    "        super().__init__()\n",
    "        \n",
    "        # Initialize ResNet-18 without pretrained weights\n",
    "        self.enc = resnet18(pretrained=False)\n",
    "        self.feature_dim = self.enc.fc.in_features # feature dim = output of gap layer dim or input of FC layer dim\n",
    "        \n",
    "        # Customize for CIFAR10. Replace conv 7x7 with conv 3x3, and remove first max pooling.\n",
    "        # See Section B.9 of SimCLR paper.\n",
    "        self.enc.conv1 = nn.Conv2d(3, 64, 3, 1, 1, bias=False)\n",
    "        self.enc.maxpool = nn.Identity()\n",
    "        self.enc.fc = nn.Identity()  # remove final fully connected layer.\n",
    "        \n",
    "        # Add MLP projection.\n",
    "        self.projection_dim = projection_dim\n",
    "        # since we are using resnet-18 we use middle layer dim as 512, for resnet-50 it's 2048 in paper.\n",
    "        self.projector = nn.Sequential(nn.Linear(self.feature_dim, 512, bias=False),#nn.BatchNorm1d(512),\n",
    "                                       nn.ReLU(inplace=True), \n",
    "                                       nn.Linear(512, projection_dim, bias=True))\n",
    "     \n",
    "\n",
    "    def forward(self, x):\n",
    "        feature = self.enc(x)\n",
    "        projection = self.projector(feature)\n",
    "        return feature, projection"
   ]
  },
  {
   "cell_type": "markdown",
   "metadata": {},
   "source": [
    "Define Contrastive Loss"
   ]
  },
  {
   "cell_type": "code",
   "execution_count": 12,
   "metadata": {
    "execution": {
     "iopub.execute_input": "2025-03-25T08:36:51.470415Z",
     "iopub.status.busy": "2025-03-25T08:36:51.470171Z",
     "iopub.status.idle": "2025-03-25T08:36:51.476990Z",
     "shell.execute_reply": "2025-03-25T08:36:51.476002Z"
    },
    "tags": []
   },
   "outputs": [],
   "source": [
    "def ContrastiveLoss(p_i, p_j):\n",
    "    N = p_i.shape[0]\n",
    "    Z = torch.cat([p_i, p_j], dim=0) # concat p_i and p_j one below the other\n",
    "    Z_hat = Z/torch.linalg.norm(Z,dim=1,keepdim=True) # Normalize all the Zi's\n",
    "    sim_mat = Z_hat@Z_hat.transpose(0,1) # .transpose(0,1) is a way of transposing torch tensors, as Z_hat is a tensor, similar to np.transpose for numpy array\n",
    "    exp_simmat = (sim_mat/temperature).exp() # compute exponent of similarities\n",
    "    exp_simmat = exp_simmat.to(device) # move exponential similarity matrix to GPU\n",
    "    \n",
    "    # Create a mask to zero out the diagonal without using in-place operations like fill_diagonal_ which are non-differentiable\n",
    "    mask = torch.eye(exp_simmat.shape[0], device=device).bool()\n",
    "    exp_simmat = exp_simmat.masked_fill(mask, 0)  # Zero out the diagonal\n",
    "    \n",
    "    # calculating denominator\n",
    "    denominator = exp_simmat.sum(dim=1) # Sum along dim=1 (rows)\n",
    "    \n",
    "    # calculating numerator\n",
    "    numerator = torch.zeros_like(denominator)\n",
    "    for i in range(N):\n",
    "        j = N+i\n",
    "        numerator[i] = exp_simmat[i, j]\n",
    "        numerator[j] = exp_simmat[j, i]\n",
    "        \n",
    "    # Compute contrastive loss\n",
    "    loss = torch.log(denominator / numerator).sum() / (2 * N) # torch.log is ln\n",
    "    \n",
    "    return loss"
   ]
  },
  {
   "cell_type": "code",
   "execution_count": 13,
   "metadata": {
    "execution": {
     "iopub.execute_input": "2025-03-25T08:36:51.480158Z",
     "iopub.status.busy": "2025-03-25T08:36:51.479916Z",
     "iopub.status.idle": "2025-03-25T08:36:51.994304Z",
     "shell.execute_reply": "2025-03-25T08:36:51.993584Z"
    },
    "tags": []
   },
   "outputs": [
    {
     "name": "stderr",
     "output_type": "stream",
     "text": [
      "/home/noranm/miniconda3/envs/cs236781-hw/lib/python3.9/site-packages/torchvision/models/_utils.py:208: UserWarning: The parameter 'pretrained' is deprecated since 0.13 and may be removed in the future, please use 'weights' instead.\n",
      "  warnings.warn(\n",
      "/home/noranm/miniconda3/envs/cs236781-hw/lib/python3.9/site-packages/torchvision/models/_utils.py:223: UserWarning: Arguments other than a weight enum or `None` for 'weights' are deprecated since 0.13 and may be removed in the future. The current behavior is equivalent to passing `weights=None`.\n",
      "  warnings.warn(msg)\n"
     ]
    },
    {
     "data": {
      "text/plain": [
       "PreTrainModel(\n",
       "  (enc): ResNet(\n",
       "    (conv1): Conv2d(3, 64, kernel_size=(3, 3), stride=(1, 1), padding=(1, 1), bias=False)\n",
       "    (bn1): BatchNorm2d(64, eps=1e-05, momentum=0.1, affine=True, track_running_stats=True)\n",
       "    (relu): ReLU(inplace=True)\n",
       "    (maxpool): Identity()\n",
       "    (layer1): Sequential(\n",
       "      (0): BasicBlock(\n",
       "        (conv1): Conv2d(64, 64, kernel_size=(3, 3), stride=(1, 1), padding=(1, 1), bias=False)\n",
       "        (bn1): BatchNorm2d(64, eps=1e-05, momentum=0.1, affine=True, track_running_stats=True)\n",
       "        (relu): ReLU(inplace=True)\n",
       "        (conv2): Conv2d(64, 64, kernel_size=(3, 3), stride=(1, 1), padding=(1, 1), bias=False)\n",
       "        (bn2): BatchNorm2d(64, eps=1e-05, momentum=0.1, affine=True, track_running_stats=True)\n",
       "      )\n",
       "      (1): BasicBlock(\n",
       "        (conv1): Conv2d(64, 64, kernel_size=(3, 3), stride=(1, 1), padding=(1, 1), bias=False)\n",
       "        (bn1): BatchNorm2d(64, eps=1e-05, momentum=0.1, affine=True, track_running_stats=True)\n",
       "        (relu): ReLU(inplace=True)\n",
       "        (conv2): Conv2d(64, 64, kernel_size=(3, 3), stride=(1, 1), padding=(1, 1), bias=False)\n",
       "        (bn2): BatchNorm2d(64, eps=1e-05, momentum=0.1, affine=True, track_running_stats=True)\n",
       "      )\n",
       "    )\n",
       "    (layer2): Sequential(\n",
       "      (0): BasicBlock(\n",
       "        (conv1): Conv2d(64, 128, kernel_size=(3, 3), stride=(2, 2), padding=(1, 1), bias=False)\n",
       "        (bn1): BatchNorm2d(128, eps=1e-05, momentum=0.1, affine=True, track_running_stats=True)\n",
       "        (relu): ReLU(inplace=True)\n",
       "        (conv2): Conv2d(128, 128, kernel_size=(3, 3), stride=(1, 1), padding=(1, 1), bias=False)\n",
       "        (bn2): BatchNorm2d(128, eps=1e-05, momentum=0.1, affine=True, track_running_stats=True)\n",
       "        (downsample): Sequential(\n",
       "          (0): Conv2d(64, 128, kernel_size=(1, 1), stride=(2, 2), bias=False)\n",
       "          (1): BatchNorm2d(128, eps=1e-05, momentum=0.1, affine=True, track_running_stats=True)\n",
       "        )\n",
       "      )\n",
       "      (1): BasicBlock(\n",
       "        (conv1): Conv2d(128, 128, kernel_size=(3, 3), stride=(1, 1), padding=(1, 1), bias=False)\n",
       "        (bn1): BatchNorm2d(128, eps=1e-05, momentum=0.1, affine=True, track_running_stats=True)\n",
       "        (relu): ReLU(inplace=True)\n",
       "        (conv2): Conv2d(128, 128, kernel_size=(3, 3), stride=(1, 1), padding=(1, 1), bias=False)\n",
       "        (bn2): BatchNorm2d(128, eps=1e-05, momentum=0.1, affine=True, track_running_stats=True)\n",
       "      )\n",
       "    )\n",
       "    (layer3): Sequential(\n",
       "      (0): BasicBlock(\n",
       "        (conv1): Conv2d(128, 256, kernel_size=(3, 3), stride=(2, 2), padding=(1, 1), bias=False)\n",
       "        (bn1): BatchNorm2d(256, eps=1e-05, momentum=0.1, affine=True, track_running_stats=True)\n",
       "        (relu): ReLU(inplace=True)\n",
       "        (conv2): Conv2d(256, 256, kernel_size=(3, 3), stride=(1, 1), padding=(1, 1), bias=False)\n",
       "        (bn2): BatchNorm2d(256, eps=1e-05, momentum=0.1, affine=True, track_running_stats=True)\n",
       "        (downsample): Sequential(\n",
       "          (0): Conv2d(128, 256, kernel_size=(1, 1), stride=(2, 2), bias=False)\n",
       "          (1): BatchNorm2d(256, eps=1e-05, momentum=0.1, affine=True, track_running_stats=True)\n",
       "        )\n",
       "      )\n",
       "      (1): BasicBlock(\n",
       "        (conv1): Conv2d(256, 256, kernel_size=(3, 3), stride=(1, 1), padding=(1, 1), bias=False)\n",
       "        (bn1): BatchNorm2d(256, eps=1e-05, momentum=0.1, affine=True, track_running_stats=True)\n",
       "        (relu): ReLU(inplace=True)\n",
       "        (conv2): Conv2d(256, 256, kernel_size=(3, 3), stride=(1, 1), padding=(1, 1), bias=False)\n",
       "        (bn2): BatchNorm2d(256, eps=1e-05, momentum=0.1, affine=True, track_running_stats=True)\n",
       "      )\n",
       "    )\n",
       "    (layer4): Sequential(\n",
       "      (0): BasicBlock(\n",
       "        (conv1): Conv2d(256, 512, kernel_size=(3, 3), stride=(2, 2), padding=(1, 1), bias=False)\n",
       "        (bn1): BatchNorm2d(512, eps=1e-05, momentum=0.1, affine=True, track_running_stats=True)\n",
       "        (relu): ReLU(inplace=True)\n",
       "        (conv2): Conv2d(512, 512, kernel_size=(3, 3), stride=(1, 1), padding=(1, 1), bias=False)\n",
       "        (bn2): BatchNorm2d(512, eps=1e-05, momentum=0.1, affine=True, track_running_stats=True)\n",
       "        (downsample): Sequential(\n",
       "          (0): Conv2d(256, 512, kernel_size=(1, 1), stride=(2, 2), bias=False)\n",
       "          (1): BatchNorm2d(512, eps=1e-05, momentum=0.1, affine=True, track_running_stats=True)\n",
       "        )\n",
       "      )\n",
       "      (1): BasicBlock(\n",
       "        (conv1): Conv2d(512, 512, kernel_size=(3, 3), stride=(1, 1), padding=(1, 1), bias=False)\n",
       "        (bn1): BatchNorm2d(512, eps=1e-05, momentum=0.1, affine=True, track_running_stats=True)\n",
       "        (relu): ReLU(inplace=True)\n",
       "        (conv2): Conv2d(512, 512, kernel_size=(3, 3), stride=(1, 1), padding=(1, 1), bias=False)\n",
       "        (bn2): BatchNorm2d(512, eps=1e-05, momentum=0.1, affine=True, track_running_stats=True)\n",
       "      )\n",
       "    )\n",
       "    (avgpool): AdaptiveAvgPool2d(output_size=(1, 1))\n",
       "    (fc): Identity()\n",
       "  )\n",
       "  (projector): Sequential(\n",
       "    (0): Linear(in_features=512, out_features=512, bias=False)\n",
       "    (1): ReLU(inplace=True)\n",
       "    (2): Linear(in_features=512, out_features=128, bias=True)\n",
       "  )\n",
       ")"
      ]
     },
     "execution_count": 13,
     "metadata": {},
     "output_type": "execute_result"
    }
   ],
   "source": [
    "CL_Model = PreTrainModel()\n",
    "CL_Model.to(device)"
   ]
  },
  {
   "cell_type": "markdown",
   "metadata": {},
   "source": [
    "Doing Contrastive Learning"
   ]
  },
  {
   "cell_type": "code",
   "execution_count": 14,
   "metadata": {
    "execution": {
     "iopub.execute_input": "2025-03-25T08:36:51.998026Z",
     "iopub.status.busy": "2025-03-25T08:36:51.997549Z",
     "iopub.status.idle": "2025-03-25T08:36:52.003723Z",
     "shell.execute_reply": "2025-03-25T08:36:52.003054Z"
    },
    "tags": []
   },
   "outputs": [],
   "source": [
    "# In paper: optimized using LARS with learning rate of 4.8 (= 0.3 × BatchSize(4096)/256) and weight decay of 10−6.\n",
    "optimizer = optim.Adam(CL_Model.parameters(), lr=0.001 , weight_decay=1e-6)\n",
    "\n",
    "# ExponentialLR scheduler for learning rate decay\n",
    "#exp_scheduler = torch.optim.lr_scheduler.ExponentialLR(optimizer, gamma=0.9)\n",
    "step_scheduler = torch.optim.lr_scheduler.StepLR(optimizer, step_size=10, gamma=0.6)"
   ]
  },
  {
   "cell_type": "code",
   "execution_count": 15,
   "metadata": {
    "execution": {
     "iopub.execute_input": "2025-03-25T08:36:52.006908Z",
     "iopub.status.busy": "2025-03-25T08:36:52.006606Z",
     "iopub.status.idle": "2025-03-25T10:09:17.723431Z",
     "shell.execute_reply": "2025-03-25T10:09:17.722357Z"
    },
    "tags": []
   },
   "outputs": [
    {
     "name": "stdout",
     "output_type": "stream",
     "text": [
      "Start of Epoch 1/50, Learning Rate: 0.001000\n"
     ]
    },
    {
     "name": "stdout",
     "output_type": "stream",
     "text": [
      "Epoch 1/50, Loss: 5.5161\n",
      "Start of Epoch 2/50, Learning Rate: 0.001000\n"
     ]
    },
    {
     "name": "stdout",
     "output_type": "stream",
     "text": [
      "Epoch 2/50, Loss: 5.2450\n",
      "Start of Epoch 3/50, Learning Rate: 0.001000\n"
     ]
    },
    {
     "name": "stdout",
     "output_type": "stream",
     "text": [
      "Epoch 3/50, Loss: 5.1509\n",
      "Start of Epoch 4/50, Learning Rate: 0.001000\n"
     ]
    },
    {
     "name": "stdout",
     "output_type": "stream",
     "text": [
      "Epoch 4/50, Loss: 5.0786\n",
      "Start of Epoch 5/50, Learning Rate: 0.001000\n"
     ]
    },
    {
     "name": "stdout",
     "output_type": "stream",
     "text": [
      "Epoch 5/50, Loss: 5.0289\n",
      "Start of Epoch 6/50, Learning Rate: 0.001000\n"
     ]
    },
    {
     "name": "stdout",
     "output_type": "stream",
     "text": [
      "Epoch 6/50, Loss: 4.9994\n",
      "Start of Epoch 7/50, Learning Rate: 0.001000\n"
     ]
    },
    {
     "name": "stdout",
     "output_type": "stream",
     "text": [
      "Epoch 7/50, Loss: 4.9756\n",
      "Start of Epoch 8/50, Learning Rate: 0.001000\n"
     ]
    },
    {
     "name": "stdout",
     "output_type": "stream",
     "text": [
      "Epoch 8/50, Loss: 4.9590\n",
      "Start of Epoch 9/50, Learning Rate: 0.001000\n"
     ]
    },
    {
     "name": "stdout",
     "output_type": "stream",
     "text": [
      "Epoch 9/50, Loss: 4.9391\n",
      "Start of Epoch 10/50, Learning Rate: 0.001000\n"
     ]
    },
    {
     "name": "stdout",
     "output_type": "stream",
     "text": [
      "Epoch 10/50, Loss: 4.9203\n",
      "Start of Epoch 11/50, Learning Rate: 0.000600\n"
     ]
    },
    {
     "name": "stdout",
     "output_type": "stream",
     "text": [
      "Epoch 11/50, Loss: 4.8886\n",
      "Start of Epoch 12/50, Learning Rate: 0.000600\n"
     ]
    },
    {
     "name": "stdout",
     "output_type": "stream",
     "text": [
      "Epoch 12/50, Loss: 4.8806\n",
      "Start of Epoch 13/50, Learning Rate: 0.000600\n"
     ]
    },
    {
     "name": "stdout",
     "output_type": "stream",
     "text": [
      "Epoch 13/50, Loss: 4.8741\n",
      "Start of Epoch 14/50, Learning Rate: 0.000600\n"
     ]
    },
    {
     "name": "stdout",
     "output_type": "stream",
     "text": [
      "Epoch 14/50, Loss: 4.8637\n",
      "Start of Epoch 15/50, Learning Rate: 0.000600\n"
     ]
    },
    {
     "name": "stdout",
     "output_type": "stream",
     "text": [
      "Epoch 15/50, Loss: 4.8550\n",
      "Start of Epoch 16/50, Learning Rate: 0.000600\n"
     ]
    },
    {
     "name": "stdout",
     "output_type": "stream",
     "text": [
      "Epoch 16/50, Loss: 4.8556\n",
      "Start of Epoch 17/50, Learning Rate: 0.000600\n"
     ]
    },
    {
     "name": "stdout",
     "output_type": "stream",
     "text": [
      "Epoch 17/50, Loss: 4.8481\n",
      "Start of Epoch 18/50, Learning Rate: 0.000600\n"
     ]
    },
    {
     "name": "stdout",
     "output_type": "stream",
     "text": [
      "Epoch 18/50, Loss: 4.8436\n",
      "Start of Epoch 19/50, Learning Rate: 0.000600\n"
     ]
    },
    {
     "name": "stdout",
     "output_type": "stream",
     "text": [
      "Epoch 19/50, Loss: 4.8351\n",
      "Start of Epoch 20/50, Learning Rate: 0.000600\n"
     ]
    },
    {
     "name": "stdout",
     "output_type": "stream",
     "text": [
      "Epoch 20/50, Loss: 4.8343\n",
      "Start of Epoch 21/50, Learning Rate: 0.000360\n"
     ]
    },
    {
     "name": "stdout",
     "output_type": "stream",
     "text": [
      "Epoch 21/50, Loss: 4.8168\n",
      "Start of Epoch 22/50, Learning Rate: 0.000360\n"
     ]
    },
    {
     "name": "stdout",
     "output_type": "stream",
     "text": [
      "Epoch 22/50, Loss: 4.8088\n",
      "Start of Epoch 23/50, Learning Rate: 0.000360\n"
     ]
    },
    {
     "name": "stdout",
     "output_type": "stream",
     "text": [
      "Epoch 23/50, Loss: 4.8056\n",
      "Start of Epoch 24/50, Learning Rate: 0.000360\n"
     ]
    },
    {
     "name": "stdout",
     "output_type": "stream",
     "text": [
      "Epoch 24/50, Loss: 4.8004\n",
      "Start of Epoch 25/50, Learning Rate: 0.000360\n"
     ]
    },
    {
     "name": "stdout",
     "output_type": "stream",
     "text": [
      "Epoch 25/50, Loss: 4.8008\n",
      "Start of Epoch 26/50, Learning Rate: 0.000360\n"
     ]
    },
    {
     "name": "stdout",
     "output_type": "stream",
     "text": [
      "Epoch 26/50, Loss: 4.7999\n",
      "Start of Epoch 27/50, Learning Rate: 0.000360\n"
     ]
    },
    {
     "name": "stdout",
     "output_type": "stream",
     "text": [
      "Epoch 27/50, Loss: 4.7963\n",
      "Start of Epoch 28/50, Learning Rate: 0.000360\n"
     ]
    },
    {
     "name": "stdout",
     "output_type": "stream",
     "text": [
      "Epoch 28/50, Loss: 4.7974\n",
      "Start of Epoch 29/50, Learning Rate: 0.000360\n"
     ]
    },
    {
     "name": "stdout",
     "output_type": "stream",
     "text": [
      "Epoch 29/50, Loss: 4.7934\n",
      "Start of Epoch 30/50, Learning Rate: 0.000360\n"
     ]
    },
    {
     "name": "stdout",
     "output_type": "stream",
     "text": [
      "Epoch 30/50, Loss: 4.7886\n",
      "Start of Epoch 31/50, Learning Rate: 0.000216\n"
     ]
    },
    {
     "name": "stdout",
     "output_type": "stream",
     "text": [
      "Epoch 31/50, Loss: 4.7733\n",
      "Start of Epoch 32/50, Learning Rate: 0.000216\n"
     ]
    },
    {
     "name": "stdout",
     "output_type": "stream",
     "text": [
      "Epoch 32/50, Loss: 4.7731\n",
      "Start of Epoch 33/50, Learning Rate: 0.000216\n"
     ]
    },
    {
     "name": "stdout",
     "output_type": "stream",
     "text": [
      "Epoch 33/50, Loss: 4.7707\n",
      "Start of Epoch 34/50, Learning Rate: 0.000216\n"
     ]
    },
    {
     "name": "stdout",
     "output_type": "stream",
     "text": [
      "Epoch 34/50, Loss: 4.7686\n",
      "Start of Epoch 35/50, Learning Rate: 0.000216\n"
     ]
    },
    {
     "name": "stdout",
     "output_type": "stream",
     "text": [
      "Epoch 35/50, Loss: 4.7664\n",
      "Start of Epoch 36/50, Learning Rate: 0.000216\n"
     ]
    },
    {
     "name": "stdout",
     "output_type": "stream",
     "text": [
      "Epoch 36/50, Loss: 4.7668\n",
      "Start of Epoch 37/50, Learning Rate: 0.000216\n"
     ]
    },
    {
     "name": "stdout",
     "output_type": "stream",
     "text": [
      "Epoch 37/50, Loss: 4.7663\n",
      "Start of Epoch 38/50, Learning Rate: 0.000216\n"
     ]
    },
    {
     "name": "stdout",
     "output_type": "stream",
     "text": [
      "Epoch 38/50, Loss: 4.7660\n",
      "Start of Epoch 39/50, Learning Rate: 0.000216\n"
     ]
    },
    {
     "name": "stdout",
     "output_type": "stream",
     "text": [
      "Epoch 39/50, Loss: 4.7634\n",
      "Start of Epoch 40/50, Learning Rate: 0.000216\n"
     ]
    },
    {
     "name": "stdout",
     "output_type": "stream",
     "text": [
      "Epoch 40/50, Loss: 4.7630\n",
      "Start of Epoch 41/50, Learning Rate: 0.000130\n"
     ]
    },
    {
     "name": "stdout",
     "output_type": "stream",
     "text": [
      "Epoch 41/50, Loss: 4.7547\n",
      "Start of Epoch 42/50, Learning Rate: 0.000130\n"
     ]
    },
    {
     "name": "stdout",
     "output_type": "stream",
     "text": [
      "Epoch 42/50, Loss: 4.7552\n",
      "Start of Epoch 43/50, Learning Rate: 0.000130\n"
     ]
    },
    {
     "name": "stdout",
     "output_type": "stream",
     "text": [
      "Epoch 43/50, Loss: 4.7530\n",
      "Start of Epoch 44/50, Learning Rate: 0.000130\n"
     ]
    },
    {
     "name": "stdout",
     "output_type": "stream",
     "text": [
      "Epoch 44/50, Loss: 4.7500\n",
      "Start of Epoch 45/50, Learning Rate: 0.000130\n"
     ]
    },
    {
     "name": "stdout",
     "output_type": "stream",
     "text": [
      "Epoch 45/50, Loss: 4.7508\n",
      "Start of Epoch 46/50, Learning Rate: 0.000130\n"
     ]
    },
    {
     "name": "stdout",
     "output_type": "stream",
     "text": [
      "Epoch 46/50, Loss: 4.7476\n",
      "Start of Epoch 47/50, Learning Rate: 0.000130\n"
     ]
    },
    {
     "name": "stdout",
     "output_type": "stream",
     "text": [
      "Epoch 47/50, Loss: 4.7504\n",
      "Start of Epoch 48/50, Learning Rate: 0.000130\n"
     ]
    },
    {
     "name": "stdout",
     "output_type": "stream",
     "text": [
      "Epoch 48/50, Loss: 4.7460\n",
      "Start of Epoch 49/50, Learning Rate: 0.000130\n"
     ]
    },
    {
     "name": "stdout",
     "output_type": "stream",
     "text": [
      "Epoch 49/50, Loss: 4.7441\n",
      "Start of Epoch 50/50, Learning Rate: 0.000130\n"
     ]
    },
    {
     "name": "stdout",
     "output_type": "stream",
     "text": [
      "Epoch 50/50, Loss: 4.7471\n"
     ]
    }
   ],
   "source": [
    "num_epochs = 50\n",
    "for epoch in range(num_epochs):\n",
    "    for param_group in optimizer.param_groups:\n",
    "        print(f'Start of Epoch {epoch+1}/{num_epochs}, Learning Rate: {param_group[\"lr\"]:.6f}')\n",
    "    CL_Model.train()  # Set the model to training mode\n",
    "    running_loss = 0.0  # Initialize running loss, it is used to accumulate the total loss of all elements in a epoch\n",
    "    for batch_id, (x_i, x_j, _) in enumerate(ConLearn_traindata_loader): # adds a counter-batch_id and loads pair of images into x_i and x_j ignoring the targets\n",
    "        x_i, x_j = x_i.to(device), x_j.to(device)\n",
    "            \n",
    "        # Forward pass\n",
    "        _ , p_i = CL_Model(x_i)\n",
    "        _ , p_j = CL_Model(x_j)\n",
    "        loss = ContrastiveLoss(p_i, p_j) #Calculate the loss\n",
    "        running_loss += loss.item()  # Accumulate loss from each iteration/batch.\n",
    "        #if (batch_id+1) % 50 == 0:\n",
    "        #    print(f'Epoch [{epoch+1}/{num_epochs}], Batch [{batch_id+1}/{num_batches}], Loss: {loss.item():.4f}')\n",
    "            \n",
    "        # Backward pass and optimization\n",
    "        optimizer.zero_grad()   # Step 1: Clear old gradients\n",
    "        loss.backward()         # Step 2: Compute new gradients, i.e Backward pass: Compute gradient of the loss with respect to model parameters\n",
    "        optimizer.step()        # Step 3: Update model parameters\n",
    "                         \n",
    "    epoch_loss = running_loss / num_batches\n",
    "    print(f\"Epoch {epoch+1}/{num_epochs}, Loss: {epoch_loss:.4f}\")\n",
    "    \n",
    "    step_scheduler.step() # Update learning rate using step scheduler\n",
    "            "
   ]
  },
  {
   "cell_type": "markdown",
   "metadata": {},
   "source": [
    "Saving the encoder for next step - fine tuning"
   ]
  },
  {
   "cell_type": "code",
   "execution_count": 16,
   "metadata": {
    "execution": {
     "iopub.execute_input": "2025-03-25T10:09:17.727564Z",
     "iopub.status.busy": "2025-03-25T10:09:17.727213Z",
     "iopub.status.idle": "2025-03-25T10:09:18.001012Z",
     "shell.execute_reply": "2025-03-25T10:09:17.999723Z"
    },
    "tags": []
   },
   "outputs": [
    {
     "name": "stdout",
     "output_type": "stream",
     "text": [
      "Encoder saved to my_encoder/encoder.pth\n"
     ]
    }
   ],
   "source": [
    "# Define the encoder extraction function\n",
    "def save_encoder(model, path):\n",
    "    encoder = model.enc\n",
    "    torch.save(encoder.state_dict(), path)\n",
    "    print(f\"Encoder saved to {path}\")\n",
    "\n",
    "# Specify the path where you want to save the encoder with a descriptive name\n",
    "encoder_save_path = 'my_encoder/encoder.pth'\n",
    "\n",
    "# Save the encoder after training\n",
    "save_encoder(CL_Model, encoder_save_path)"
   ]
  },
  {
   "cell_type": "code",
   "execution_count": null,
   "metadata": {},
   "outputs": [],
   "source": []
  }
 ],
 "metadata": {
  "kaggle": {
   "accelerator": "none",
   "dataSources": [],
   "dockerImageVersionId": 30732,
   "isGpuEnabled": false,
   "isInternetEnabled": false,
   "language": "python",
   "sourceType": "notebook"
  },
  "kernelspec": {
   "display_name": "Python 3 (ipykernel)",
   "language": "python",
   "name": "python3"
  },
  "language_info": {
   "codemirror_mode": {
    "name": "ipython",
    "version": 3
   },
   "file_extension": ".py",
   "mimetype": "text/x-python",
   "name": "python",
   "nbconvert_exporter": "python",
   "pygments_lexer": "ipython3",
   "version": "3.9.0"
  }
 },
 "nbformat": 4,
 "nbformat_minor": 4
}
