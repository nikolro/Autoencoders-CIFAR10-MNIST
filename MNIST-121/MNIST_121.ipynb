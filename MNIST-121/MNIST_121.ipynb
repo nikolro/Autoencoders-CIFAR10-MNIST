{
 "cells": [
  {
   "cell_type": "code",
   "execution_count": 1,
   "id": "ddab139d-f343-40c9-9509-6cbc89093a91",
   "metadata": {
    "execution": {
     "iopub.execute_input": "2025-03-11T11:12:06.218593Z",
     "iopub.status.busy": "2025-03-11T11:12:06.217881Z",
     "iopub.status.idle": "2025-03-11T11:12:06.224987Z",
     "shell.execute_reply": "2025-03-11T11:12:06.223814Z"
    }
   },
   "outputs": [],
   "source": [
    "# Initialize and Import Required Modules"
   ]
  },
  {
   "cell_type": "code",
   "execution_count": 2,
   "id": "c2b91c84-5869-4414-8536-2f4e4e7c10be",
   "metadata": {
    "execution": {
     "iopub.execute_input": "2025-03-11T11:12:06.228655Z",
     "iopub.status.busy": "2025-03-11T11:12:06.228372Z",
     "iopub.status.idle": "2025-03-11T11:12:12.220243Z",
     "shell.execute_reply": "2025-03-11T11:12:12.219221Z"
    }
   },
   "outputs": [],
   "source": [
    "# General Libraries\n",
    "import torch\n",
    "import argparse\n",
    "import numpy as np\n",
    "import random\n",
    "import matplotlib.pyplot as plt\n",
    "from torch.utils.data import DataLoader\n"
   ]
  },
  {
   "cell_type": "code",
   "execution_count": 3,
   "id": "c3e15c0f-d312-4acf-8ee3-2a4becf88365",
   "metadata": {
    "execution": {
     "iopub.execute_input": "2025-03-11T11:12:12.225383Z",
     "iopub.status.busy": "2025-03-11T11:12:12.224652Z",
     "iopub.status.idle": "2025-03-11T11:12:13.338552Z",
     "shell.execute_reply": "2025-03-11T11:12:13.337547Z"
    }
   },
   "outputs": [],
   "source": [
    "# Import the MNIST Autoencoder file\n",
    "import MNIST_121  \n",
    "\n",
    "# Set device\n",
    "device = \"cuda\" if torch.cuda.is_available() else \"cpu\"\n",
    "\n",
    "# Define arguments\n",
    "args = argparse.Namespace(\n",
    "    data_path=\"../data\",\n",
    "    batch_size=8,\n",
    "    latent_dim=128,\n",
    "    device=device\n",
    ")"
   ]
  },
  {
   "cell_type": "code",
   "execution_count": 4,
   "id": "dff0b5b8-8e7b-42a1-8c82-a77737c4eefc",
   "metadata": {
    "execution": {
     "iopub.execute_input": "2025-03-11T11:12:13.343102Z",
     "iopub.status.busy": "2025-03-11T11:12:13.342779Z",
     "iopub.status.idle": "2025-03-11T11:12:13.347739Z",
     "shell.execute_reply": "2025-03-11T11:12:13.346985Z"
    }
   },
   "outputs": [],
   "source": [
    "#Load the Dataset and Check It"
   ]
  },
  {
   "cell_type": "code",
   "execution_count": 5,
   "id": "710c0e86-7eef-4f8e-a0a0-7ba4afb6fa07",
   "metadata": {
    "execution": {
     "iopub.execute_input": "2025-03-11T11:12:13.351269Z",
     "iopub.status.busy": "2025-03-11T11:12:13.350947Z",
     "iopub.status.idle": "2025-03-11T11:12:14.588038Z",
     "shell.execute_reply": "2025-03-11T11:12:14.587238Z"
    }
   },
   "outputs": [
    {
     "data": {
      "image/png": "[encoded data removed]",
      "text/plain": [
       "<Figure size 1200x400 with 8 Axes>"
      ]
     },
     "metadata": {},
     "output_type": "display_data"
    }
   ],
   "source": [
    "# Load dataset\n",
    "train_loader, val_loader, test_loader = MNIST_121.load_data(args)\n",
    "\n",
    "# Retrieve a batch of images\n",
    "images, _ = next(iter(train_loader))\n",
    "\n",
    "# Visualize some images\n",
    "fig, axes = plt.subplots(1, 8, figsize=(12, 4))\n",
    "for i in range(8):\n",
    "    img = images[i].squeeze()\n",
    "    img = img.numpy()\n",
    "    axes[i].imshow(img, cmap=\"gray\")\n",
    "    axes[i].axis(\"off\")\n",
    "plt.show()"
   ]
  },
  {
   "cell_type": "code",
   "execution_count": 6,
   "id": "386b56fb-3c14-466d-abc7-d508ea5d2a77",
   "metadata": {
    "execution": {
     "iopub.execute_input": "2025-03-11T11:12:14.591934Z",
     "iopub.status.busy": "2025-03-11T11:12:14.591413Z",
     "iopub.status.idle": "2025-03-11T11:12:14.595440Z",
     "shell.execute_reply": "2025-03-11T11:12:14.594400Z"
    }
   },
   "outputs": [],
   "source": [
    "#Verify the Autoencoder Model Architecture"
   ]
  },
  {
   "cell_type": "code",
   "execution_count": 7,
   "id": "822be85a-7dc4-435a-acc2-95d9285294bd",
   "metadata": {
    "execution": {
     "iopub.execute_input": "2025-03-11T11:12:14.598836Z",
     "iopub.status.busy": "2025-03-11T11:12:14.598346Z",
     "iopub.status.idle": "2025-03-11T11:12:19.667590Z",
     "shell.execute_reply": "2025-03-11T11:12:19.666701Z"
    }
   },
   "outputs": [
    {
     "name": "stdout",
     "output_type": "stream",
     "text": [
      "Autoencoder(\n",
      "  (encoder): Sequential(\n",
      "    (0): Conv2d(1, 8, kernel_size=(3, 3), stride=(2, 2), padding=(1, 1))\n",
      "    (1): ReLU()\n",
      "    (2): Conv2d(8, 16, kernel_size=(3, 3), stride=(2, 2), padding=(1, 1))\n",
      "    (3): ReLU()\n",
      "    (4): Flatten(start_dim=1, end_dim=-1)\n",
      "    (5): Linear(in_features=784, out_features=128, bias=True)\n",
      "  )\n",
      "  (decoder): Sequential(\n",
      "    (0): Linear(in_features=128, out_features=784, bias=True)\n",
      "    (1): ReLU()\n",
      "    (2): Unflatten(dim=1, unflattened_size=(16, 7, 7))\n",
      "    (3): ConvTranspose2d(16, 8, kernel_size=(3, 3), stride=(2, 2), padding=(1, 1), output_padding=(1, 1))\n",
      "    (4): ReLU()\n",
      "    (5): ConvTranspose2d(8, 1, kernel_size=(3, 3), stride=(2, 2), padding=(1, 1), output_padding=(1, 1))\n",
      "    (6): Sigmoid()\n",
      "  )\n",
      ")\n"
     ]
    }
   ],
   "source": [
    "# Initialize model\n",
    "model = MNIST_121.Autoencoder(args.latent_dim).to(args.device)\n",
    "\n",
    "# Print model summary\n",
    "print(model)"
   ]
  },
  {
   "cell_type": "code",
   "execution_count": 8,
   "id": "e231c79c-d687-4344-83b3-432beb2a9403",
   "metadata": {
    "execution": {
     "iopub.execute_input": "2025-03-11T11:12:19.671353Z",
     "iopub.status.busy": "2025-03-11T11:12:19.671010Z",
     "iopub.status.idle": "2025-03-11T11:12:19.676066Z",
     "shell.execute_reply": "2025-03-11T11:12:19.675302Z"
    }
   },
   "outputs": [],
   "source": [
    "#Run a Single Forward Pass"
   ]
  },
  {
   "cell_type": "code",
   "execution_count": 9,
   "id": "89eb996c-53ef-4718-bd7b-53b9fabf4581",
   "metadata": {
    "execution": {
     "iopub.execute_input": "2025-03-11T11:12:19.679437Z",
     "iopub.status.busy": "2025-03-11T11:12:19.679173Z",
     "iopub.status.idle": "2025-03-11T11:12:20.732289Z",
     "shell.execute_reply": "2025-03-11T11:12:20.731467Z"
    }
   },
   "outputs": [
    {
     "data": {
      "image/png": "[encoded data removed]",
      "text/plain": [
       "<Figure size 1200x300 with 16 Axes>"
      ]
     },
     "metadata": {},
     "output_type": "display_data"
    }
   ],
   "source": [
    "# Move images to the correct device\n",
    "images = images.to(args.device)\n",
    "\n",
    "# Pass through the autoencoder\n",
    "with torch.no_grad():\n",
    "    recon_images = model(images)\n",
    "\n",
    "# Convert images to CPU for visualization\n",
    "images = images.cpu()\n",
    "recon_images = recon_images.cpu()\n",
    "\n",
    "# Create the figure\n",
    "fig, axes = plt.subplots(2, 8, figsize=(12, 3))\n",
    "plt.subplots_adjust(wspace=0, hspace=0.1)\n",
    "\n",
    "# Add row titles manually\n",
    "fig.suptitle(\"Original (Top) vs Reconstructed (Bottom)\", fontsize=14, y=1.05)\n",
    "\n",
    "for i in range(8):\n",
    "    # Original images\n",
    "    axes[0, i].imshow(images[i].squeeze().numpy(), cmap=\"gray\")\n",
    "    axes[0, i].axis(\"off\")\n",
    "\n",
    "    # Reconstructed images\n",
    "    axes[1, i].imshow(recon_images[i].squeeze().numpy(), cmap=\"gray\")\n",
    "    axes[1, i].axis(\"off\")\n",
    "\n",
    "plt.show()\n"
   ]
  },
  {
   "cell_type": "code",
   "execution_count": 10,
   "id": "5c95db66-1ac3-4629-b66c-7801b2ff14ef",
   "metadata": {
    "execution": {
     "iopub.execute_input": "2025-03-11T11:12:20.735799Z",
     "iopub.status.busy": "2025-03-11T11:12:20.735460Z",
     "iopub.status.idle": "2025-03-11T11:12:20.739233Z",
     "shell.execute_reply": "2025-03-11T11:12:20.738259Z"
    }
   },
   "outputs": [],
   "source": [
    "#Train for One Epoch to Check Loss Computation"
   ]
  },
  {
   "cell_type": "code",
   "execution_count": 11,
   "id": "fad8b4e0-3c6c-41f4-9e5e-1ba5de87662d",
   "metadata": {
    "execution": {
     "iopub.execute_input": "2025-03-11T11:12:20.743112Z",
     "iopub.status.busy": "2025-03-11T11:12:20.742835Z",
     "iopub.status.idle": "2025-03-11T11:19:48.092579Z",
     "shell.execute_reply": "2025-03-11T11:19:48.090963Z"
    }
   },
   "outputs": [
    {
     "name": "stdout",
     "output_type": "stream",
     "text": [
      "Epoch [1/15], Train Loss: 0.0155, Val Loss: 0.0055\n"
     ]
    },
    {
     "name": "stdout",
     "output_type": "stream",
     "text": [
      "Epoch [2/15], Train Loss: 0.0045, Val Loss: 0.0038\n"
     ]
    },
    {
     "name": "stdout",
     "output_type": "stream",
     "text": [
      "Epoch [3/15], Train Loss: 0.0034, Val Loss: 0.0032\n"
     ]
    },
    {
     "name": "stdout",
     "output_type": "stream",
     "text": [
      "Epoch [4/15], Train Loss: 0.0029, Val Loss: 0.0028\n"
     ]
    },
    {
     "name": "stdout",
     "output_type": "stream",
     "text": [
      "Epoch [5/15], Train Loss: 0.0026, Val Loss: 0.0025\n"
     ]
    },
    {
     "name": "stdout",
     "output_type": "stream",
     "text": [
      "Epoch [6/15], Train Loss: 0.0024, Val Loss: 0.0023\n"
     ]
    },
    {
     "name": "stdout",
     "output_type": "stream",
     "text": [
      "Epoch [7/15], Train Loss: 0.0023, Val Loss: 0.0022\n"
     ]
    },
    {
     "name": "stdout",
     "output_type": "stream",
     "text": [
      "Epoch [8/15], Train Loss: 0.0021, Val Loss: 0.0021\n"
     ]
    },
    {
     "name": "stdout",
     "output_type": "stream",
     "text": [
      "Epoch [9/15], Train Loss: 0.0020, Val Loss: 0.0021\n"
     ]
    },
    {
     "name": "stdout",
     "output_type": "stream",
     "text": [
      "Epoch [10/15], Train Loss: 0.0020, Val Loss: 0.0020\n"
     ]
    },
    {
     "name": "stdout",
     "output_type": "stream",
     "text": [
      "Epoch [11/15], Train Loss: 0.0019, Val Loss: 0.0019\n"
     ]
    },
    {
     "name": "stdout",
     "output_type": "stream",
     "text": [
      "Epoch [12/15], Train Loss: 0.0018, Val Loss: 0.0018\n"
     ]
    },
    {
     "name": "stdout",
     "output_type": "stream",
     "text": [
      "Epoch [13/15], Train Loss: 0.0018, Val Loss: 0.0018\n"
     ]
    },
    {
     "name": "stdout",
     "output_type": "stream",
     "text": [
      "Epoch [14/15], Train Loss: 0.0018, Val Loss: 0.0018\n"
     ]
    },
    {
     "name": "stdout",
     "output_type": "stream",
     "text": [
      "Epoch [15/15], Train Loss: 0.0017, Val Loss: 0.0017\n"
     ]
    }
   ],
   "source": [
    "MNIST_121.train_autoencoder(model, train_loader, val_loader, args, epochs=15)"
   ]
  },
  {
   "cell_type": "code",
   "execution_count": 12,
   "id": "1ff363fb-0c53-4ba9-862c-5f510491a175",
   "metadata": {
    "execution": {
     "iopub.execute_input": "2025-03-11T11:19:48.096537Z",
     "iopub.status.busy": "2025-03-11T11:19:48.096168Z",
     "iopub.status.idle": "2025-03-11T11:19:48.101524Z",
     "shell.execute_reply": "2025-03-11T11:19:48.100787Z"
    }
   },
   "outputs": [],
   "source": [
    "#Verify Reconstruction"
   ]
  },
  {
   "cell_type": "code",
   "execution_count": 13,
   "id": "c5c18891-4b01-40fe-89fd-496a9b93c68a",
   "metadata": {
    "execution": {
     "iopub.execute_input": "2025-03-11T11:19:48.105066Z",
     "iopub.status.busy": "2025-03-11T11:19:48.104676Z",
     "iopub.status.idle": "2025-03-11T11:19:48.735717Z",
     "shell.execute_reply": "2025-03-11T11:19:48.734927Z"
    }
   },
   "outputs": [
    {
     "data": {
      "image/png": "[encoded data removed]",
      "text/plain": [
       "<Figure size 1200x400 with 16 Axes>"
      ]
     },
     "metadata": {},
     "output_type": "display_data"
    }
   ],
   "source": [
    "# Move images to the correct device\n",
    "images = images.to(args.device)\n",
    "\n",
    "# Pass images through the autoencoder to get reconstructions\n",
    "with torch.no_grad():\n",
    "    recon_images = model(images)\n",
    "\n",
    "# Convert to CPU for visualization\n",
    "images = images.cpu()\n",
    "recon_images = recon_images.cpu()\n",
    "\n",
    "# Create the figure\n",
    "fig, axes = plt.subplots(2, 8, figsize=(12, 4))  # Adjusted figure size\n",
    "plt.subplots_adjust(wspace=0.1, hspace=0.3)  # Less spacing\n",
    "\n",
    "# Set main title\n",
    "fig.suptitle(\"Original (Top) vs Reconstructed (Bottom)\", fontsize=14, y=1.05)\n",
    "\n",
    "for i in range(8):\n",
    "    # Original images\n",
    "    img = images[i].numpy().transpose(1, 2, 0)  # For RGB images, reorder channels\n",
    "    axes[0, i].imshow(img, cmap=\"gray\" if img.shape[2] == 1 else None)\n",
    "    axes[0, i].axis(\"off\")\n",
    "\n",
    "    # Reconstructed images\n",
    "    recon_img = recon_images[i].numpy().transpose(1, 2, 0)  # Same for recon images\n",
    "    axes[1, i].imshow(recon_img, cmap=\"gray\" if recon_img.shape[2] == 1 else None)\n",
    "    axes[1, i].axis(\"off\")\n",
    "\n",
    "plt.show()\n"
   ]
  },
  {
   "cell_type": "code",
   "execution_count": 14,
   "id": "5e70273a-2e7d-40b9-bcb7-0230c5903f13",
   "metadata": {
    "execution": {
     "iopub.execute_input": "2025-03-11T11:19:48.739273Z",
     "iopub.status.busy": "2025-03-11T11:19:48.739002Z",
     "iopub.status.idle": "2025-03-11T11:19:48.742506Z",
     "shell.execute_reply": "2025-03-11T11:19:48.741530Z"
    }
   },
   "outputs": [],
   "source": [
    "#classifier traning"
   ]
  },
  {
   "cell_type": "code",
   "execution_count": 15,
   "id": "dfbf0dfe-8e47-424a-b29f-dd469dbbf4ad",
   "metadata": {
    "execution": {
     "iopub.execute_input": "2025-03-11T11:19:48.746522Z",
     "iopub.status.busy": "2025-03-11T11:19:48.746228Z",
     "iopub.status.idle": "2025-03-11T11:24:46.892481Z",
     "shell.execute_reply": "2025-03-11T11:24:46.890877Z"
    }
   },
   "outputs": [
    {
     "name": "stdout",
     "output_type": "stream",
     "text": [
      "Epoch [1/15], Train Loss: 0.3176, Train Acc: 90.58%, Val Acc: 95.48%\n"
     ]
    },
    {
     "name": "stdout",
     "output_type": "stream",
     "text": [
      "Epoch [2/15], Train Loss: 0.1741, Train Acc: 94.70%, Val Acc: 96.58%\n"
     ]
    },
    {
     "name": "stdout",
     "output_type": "stream",
     "text": [
      "Epoch [3/15], Train Loss: 0.1486, Train Acc: 95.46%, Val Acc: 96.69%\n"
     ]
    },
    {
     "name": "stdout",
     "output_type": "stream",
     "text": [
      "Epoch [4/15], Train Loss: 0.1328, Train Acc: 95.86%, Val Acc: 97.29%\n"
     ]
    },
    {
     "name": "stdout",
     "output_type": "stream",
     "text": [
      "Epoch [5/15], Train Loss: 0.1249, Train Acc: 96.10%, Val Acc: 97.22%\n"
     ]
    },
    {
     "name": "stdout",
     "output_type": "stream",
     "text": [
      "Epoch [6/15], Train Loss: 0.1196, Train Acc: 96.24%, Val Acc: 97.10%\n"
     ]
    },
    {
     "name": "stdout",
     "output_type": "stream",
     "text": [
      "Epoch [7/15], Train Loss: 0.1154, Train Acc: 96.39%, Val Acc: 97.26%\n"
     ]
    },
    {
     "name": "stdout",
     "output_type": "stream",
     "text": [
      "Epoch [8/15], Train Loss: 0.1074, Train Acc: 96.56%, Val Acc: 97.24%\n"
     ]
    },
    {
     "name": "stdout",
     "output_type": "stream",
     "text": [
      "Epoch [9/15], Train Loss: 0.1065, Train Acc: 96.56%, Val Acc: 97.25%\n"
     ]
    },
    {
     "name": "stdout",
     "output_type": "stream",
     "text": [
      "Epoch [10/15], Train Loss: 0.1030, Train Acc: 96.62%, Val Acc: 97.38%\n"
     ]
    },
    {
     "name": "stdout",
     "output_type": "stream",
     "text": [
      "Epoch [11/15], Train Loss: 0.1013, Train Acc: 96.85%, Val Acc: 97.35%\n"
     ]
    },
    {
     "name": "stdout",
     "output_type": "stream",
     "text": [
      "Epoch [12/15], Train Loss: 0.1008, Train Acc: 96.77%, Val Acc: 97.38%\n"
     ]
    },
    {
     "name": "stdout",
     "output_type": "stream",
     "text": [
      "Epoch [13/15], Train Loss: 0.0946, Train Acc: 96.94%, Val Acc: 97.42%\n"
     ]
    },
    {
     "name": "stdout",
     "output_type": "stream",
     "text": [
      "Epoch [14/15], Train Loss: 0.0929, Train Acc: 97.03%, Val Acc: 97.44%\n"
     ]
    },
    {
     "name": "stdout",
     "output_type": "stream",
     "text": [
      "Epoch [15/15], Train Loss: 0.0937, Train Acc: 97.01%, Val Acc: 97.47%\n"
     ]
    }
   ],
   "source": [
    "classifier = MNIST_121.Classifier(args.latent_dim).to(args.device)\n",
    "MNIST_121.train_classifier(model, classifier, train_loader, val_loader, args, epochs=15)"
   ]
  },
  {
   "cell_type": "code",
   "execution_count": null,
   "id": "6b940ef0-ddc6-49da-b927-d3a547d28243",
   "metadata": {},
   "outputs": [],
   "source": []
  }
 ],
 "metadata": {
  "kernelspec": {
   "display_name": "Python 3 (ipykernel)",
   "language": "python",
   "name": "python3"
  },
  "language_info": {
   "codemirror_mode": {
    "name": "ipython",
    "version": 3
   },
   "file_extension": ".py",
   "mimetype": "text/x-python",
   "name": "python",
   "nbconvert_exporter": "python",
   "pygments_lexer": "ipython3",
   "version": "3.8.12"
  }
 },
 "nbformat": 4,
 "nbformat_minor": 5
}
