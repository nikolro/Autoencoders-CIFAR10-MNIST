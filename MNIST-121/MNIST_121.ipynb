{
 "cells": [
  {
   "cell_type": "code",
   "execution_count": 1,
   "id": "ddab139d-f343-40c9-9509-6cbc89093a91",
   "metadata": {
    "execution": {
     "iopub.execute_input": "2025-03-10T11:17:38.694257Z",
     "iopub.status.busy": "2025-03-10T11:17:38.693453Z",
     "iopub.status.idle": "2025-03-10T11:17:38.699795Z",
     "shell.execute_reply": "2025-03-10T11:17:38.698846Z"
    }
   },
   "outputs": [],
   "source": [
    "# Initialize and Import Required Modules"
   ]
  },
  {
   "cell_type": "code",
   "execution_count": 2,
   "id": "c2b91c84-5869-4414-8536-2f4e4e7c10be",
   "metadata": {
    "execution": {
     "iopub.execute_input": "2025-03-10T11:17:38.703235Z",
     "iopub.status.busy": "2025-03-10T11:17:38.702884Z",
     "iopub.status.idle": "2025-03-10T11:17:41.079577Z",
     "shell.execute_reply": "2025-03-10T11:17:41.078674Z"
    }
   },
   "outputs": [],
   "source": [
    "# General Libraries\n",
    "import torch\n",
    "import argparse\n",
    "import numpy as np\n",
    "import random\n",
    "import matplotlib.pyplot as plt\n",
    "from torch.utils.data import DataLoader\n"
   ]
  },
  {
   "cell_type": "code",
   "execution_count": 3,
   "id": "c3e15c0f-d312-4acf-8ee3-2a4becf88365",
   "metadata": {
    "execution": {
     "iopub.execute_input": "2025-03-10T11:17:41.083715Z",
     "iopub.status.busy": "2025-03-10T11:17:41.083229Z",
     "iopub.status.idle": "2025-03-10T11:17:42.417696Z",
     "shell.execute_reply": "2025-03-10T11:17:42.416642Z"
    }
   },
   "outputs": [],
   "source": [
    "# Import the MNIST Autoencoder file\n",
    "import MNIST_121  \n",
    "\n",
    "# Set device\n",
    "device = \"cuda\" if torch.cuda.is_available() else \"cpu\"\n",
    "\n",
    "# Define arguments\n",
    "args = argparse.Namespace(\n",
    "    data_path=\"../data\",\n",
    "    batch_size=8,\n",
    "    latent_dim=128,\n",
    "    device=device\n",
    ")"
   ]
  },
  {
   "cell_type": "code",
   "execution_count": 4,
   "id": "dff0b5b8-8e7b-42a1-8c82-a77737c4eefc",
   "metadata": {
    "execution": {
     "iopub.execute_input": "2025-03-10T11:17:42.421862Z",
     "iopub.status.busy": "2025-03-10T11:17:42.421376Z",
     "iopub.status.idle": "2025-03-10T11:17:42.425651Z",
     "shell.execute_reply": "2025-03-10T11:17:42.424783Z"
    }
   },
   "outputs": [],
   "source": [
    "#Load the Dataset and Check It"
   ]
  },
  {
   "cell_type": "code",
   "execution_count": 5,
   "id": "710c0e86-7eef-4f8e-a0a0-7ba4afb6fa07",
   "metadata": {
    "execution": {
     "iopub.execute_input": "2025-03-10T11:17:42.429019Z",
     "iopub.status.busy": "2025-03-10T11:17:42.428710Z",
     "iopub.status.idle": "2025-03-10T11:17:42.862168Z",
     "shell.execute_reply": "2025-03-10T11:17:42.846764Z"
    }
   },
   "outputs": [
    {
     "data": {
      "image/png": "[encoded data removed]",
      "text/plain": [
       "<Figure size 1200x400 with 8 Axes>"
      ]
     },
     "metadata": {},
     "output_type": "display_data"
    }
   ],
   "source": [
    "# Load dataset\n",
    "train_loader, val_loader, test_loader = MNIST_121.load_data(args)\n",
    "\n",
    "# Retrieve a batch of images\n",
    "images, _ = next(iter(train_loader))\n",
    "\n",
    "# Visualize some images\n",
    "fig, axes = plt.subplots(1, 8, figsize=(12, 4))\n",
    "for i in range(8):\n",
    "    img = images[i].squeeze()\n",
    "    img = img.numpy()\n",
    "    axes[i].imshow(img, cmap=\"gray\")\n",
    "    axes[i].axis(\"off\")\n",
    "plt.show()"
   ]
  },
  {
   "cell_type": "code",
   "execution_count": 6,
   "id": "386b56fb-3c14-466d-abc7-d508ea5d2a77",
   "metadata": {
    "execution": {
     "iopub.execute_input": "2025-03-10T11:17:42.865650Z",
     "iopub.status.busy": "2025-03-10T11:17:42.865335Z",
     "iopub.status.idle": "2025-03-10T11:17:42.870225Z",
     "shell.execute_reply": "2025-03-10T11:17:42.869489Z"
    }
   },
   "outputs": [],
   "source": [
    "#Verify the Autoencoder Model Architecture"
   ]
  },
  {
   "cell_type": "code",
   "execution_count": 7,
   "id": "822be85a-7dc4-435a-acc2-95d9285294bd",
   "metadata": {
    "execution": {
     "iopub.execute_input": "2025-03-10T11:17:42.873615Z",
     "iopub.status.busy": "2025-03-10T11:17:42.873249Z",
     "iopub.status.idle": "2025-03-10T11:17:46.859758Z",
     "shell.execute_reply": "2025-03-10T11:17:46.858593Z"
    }
   },
   "outputs": [
    {
     "name": "stdout",
     "output_type": "stream",
     "text": [
      "Autoencoder(\n",
      "  (encoder): Sequential(\n",
      "    (0): Conv2d(1, 8, kernel_size=(3, 3), stride=(2, 2), padding=(1, 1))\n",
      "    (1): ReLU()\n",
      "    (2): Conv2d(8, 16, kernel_size=(3, 3), stride=(2, 2), padding=(1, 1))\n",
      "    (3): ReLU()\n",
      "    (4): Flatten(start_dim=1, end_dim=-1)\n",
      "    (5): Linear(in_features=784, out_features=128, bias=True)\n",
      "  )\n",
      "  (decoder): Sequential(\n",
      "    (0): Linear(in_features=128, out_features=784, bias=True)\n",
      "    (1): ReLU()\n",
      "    (2): Unflatten(dim=1, unflattened_size=(16, 7, 7))\n",
      "    (3): ConvTranspose2d(16, 8, kernel_size=(3, 3), stride=(2, 2), padding=(1, 1), output_padding=(1, 1))\n",
      "    (4): ReLU()\n",
      "    (5): ConvTranspose2d(8, 1, kernel_size=(3, 3), stride=(2, 2), padding=(1, 1), output_padding=(1, 1))\n",
      "    (6): Sigmoid()\n",
      "  )\n",
      ")\n"
     ]
    }
   ],
   "source": [
    "# Initialize model\n",
    "model = MNIST_121.Autoencoder(args.latent_dim).to(args.device)\n",
    "\n",
    "# Print model summary\n",
    "print(model)"
   ]
  },
  {
   "cell_type": "code",
   "execution_count": 8,
   "id": "e231c79c-d687-4344-83b3-432beb2a9403",
   "metadata": {
    "execution": {
     "iopub.execute_input": "2025-03-10T11:17:46.863290Z",
     "iopub.status.busy": "2025-03-10T11:17:46.862820Z",
     "iopub.status.idle": "2025-03-10T11:17:46.867176Z",
     "shell.execute_reply": "2025-03-10T11:17:46.866417Z"
    }
   },
   "outputs": [],
   "source": [
    "#Run a Single Forward Pass"
   ]
  },
  {
   "cell_type": "code",
   "execution_count": 9,
   "id": "89eb996c-53ef-4718-bd7b-53b9fabf4581",
   "metadata": {
    "execution": {
     "iopub.execute_input": "2025-03-10T11:17:46.870271Z",
     "iopub.status.busy": "2025-03-10T11:17:46.869973Z",
     "iopub.status.idle": "2025-03-10T11:17:48.162798Z",
     "shell.execute_reply": "2025-03-10T11:17:48.162000Z"
    }
   },
   "outputs": [
    {
     "data": {
      "image/png": "[encoded data removed]",
      "text/plain": [
       "<Figure size 1200x300 with 16 Axes>"
      ]
     },
     "metadata": {},
     "output_type": "display_data"
    }
   ],
   "source": [
    "# Move images to the correct device\n",
    "images = images.to(args.device)\n",
    "\n",
    "# Pass through the autoencoder\n",
    "with torch.no_grad():\n",
    "    recon_images = model(images)\n",
    "\n",
    "# Convert images to CPU for visualization\n",
    "images = images.cpu()\n",
    "recon_images = recon_images.cpu()\n",
    "\n",
    "# Create the figure\n",
    "fig, axes = plt.subplots(2, 8, figsize=(12, 3))\n",
    "plt.subplots_adjust(wspace=0, hspace=0.1)\n",
    "\n",
    "# Add row titles manually\n",
    "fig.suptitle(\"Original (Top) vs Reconstructed (Bottom)\", fontsize=14, y=1.05)\n",
    "\n",
    "for i in range(8):\n",
    "    # Original images\n",
    "    axes[0, i].imshow(images[i].squeeze().numpy(), cmap=\"gray\")\n",
    "    axes[0, i].axis(\"off\")\n",
    "\n",
    "    # Reconstructed images\n",
    "    axes[1, i].imshow(recon_images[i].squeeze().numpy(), cmap=\"gray\")\n",
    "    axes[1, i].axis(\"off\")\n",
    "\n",
    "plt.show()\n"
   ]
  },
  {
   "cell_type": "code",
   "execution_count": 10,
   "id": "5c95db66-1ac3-4629-b66c-7801b2ff14ef",
   "metadata": {
    "execution": {
     "iopub.execute_input": "2025-03-10T11:17:48.166169Z",
     "iopub.status.busy": "2025-03-10T11:17:48.165854Z",
     "iopub.status.idle": "2025-03-10T11:17:48.170510Z",
     "shell.execute_reply": "2025-03-10T11:17:48.169808Z"
    }
   },
   "outputs": [],
   "source": [
    "#Train for One Epoch to Check Loss Computation"
   ]
  },
  {
   "cell_type": "code",
   "execution_count": 11,
   "id": "fad8b4e0-3c6c-41f4-9e5e-1ba5de87662d",
   "metadata": {
    "execution": {
     "iopub.execute_input": "2025-03-10T11:17:48.173628Z",
     "iopub.status.busy": "2025-03-10T11:17:48.173379Z",
     "iopub.status.idle": "2025-03-10T11:25:05.457053Z",
     "shell.execute_reply": "2025-03-10T11:25:05.455556Z"
    }
   },
   "outputs": [
    {
     "name": "stdout",
     "output_type": "stream",
     "text": [
      "Epoch [1/15], Train Loss: 0.0142, Val Loss: 0.0054\n"
     ]
    },
    {
     "name": "stdout",
     "output_type": "stream",
     "text": [
      "Epoch [2/15], Train Loss: 0.0043, Val Loss: 0.0036\n"
     ]
    },
    {
     "name": "stdout",
     "output_type": "stream",
     "text": [
      "Epoch [3/15], Train Loss: 0.0032, Val Loss: 0.0029\n"
     ]
    },
    {
     "name": "stdout",
     "output_type": "stream",
     "text": [
      "Epoch [4/15], Train Loss: 0.0027, Val Loss: 0.0025\n"
     ]
    },
    {
     "name": "stdout",
     "output_type": "stream",
     "text": [
      "Epoch [5/15], Train Loss: 0.0024, Val Loss: 0.0023\n"
     ]
    },
    {
     "name": "stdout",
     "output_type": "stream",
     "text": [
      "Epoch [6/15], Train Loss: 0.0022, Val Loss: 0.0021\n"
     ]
    },
    {
     "name": "stdout",
     "output_type": "stream",
     "text": [
      "Epoch [7/15], Train Loss: 0.0020, Val Loss: 0.0020\n"
     ]
    },
    {
     "name": "stdout",
     "output_type": "stream",
     "text": [
      "Epoch [8/15], Train Loss: 0.0019, Val Loss: 0.0019\n"
     ]
    },
    {
     "name": "stdout",
     "output_type": "stream",
     "text": [
      "Epoch [9/15], Train Loss: 0.0018, Val Loss: 0.0018\n"
     ]
    },
    {
     "name": "stdout",
     "output_type": "stream",
     "text": [
      "Epoch [10/15], Train Loss: 0.0017, Val Loss: 0.0018\n"
     ]
    },
    {
     "name": "stdout",
     "output_type": "stream",
     "text": [
      "Epoch [11/15], Train Loss: 0.0017, Val Loss: 0.0017\n"
     ]
    },
    {
     "name": "stdout",
     "output_type": "stream",
     "text": [
      "Epoch [12/15], Train Loss: 0.0016, Val Loss: 0.0017\n"
     ]
    },
    {
     "name": "stdout",
     "output_type": "stream",
     "text": [
      "Epoch [13/15], Train Loss: 0.0016, Val Loss: 0.0017\n"
     ]
    },
    {
     "name": "stdout",
     "output_type": "stream",
     "text": [
      "Epoch [14/15], Train Loss: 0.0016, Val Loss: 0.0016\n"
     ]
    },
    {
     "name": "stdout",
     "output_type": "stream",
     "text": [
      "Epoch [15/15], Train Loss: 0.0015, Val Loss: 0.0016\n"
     ]
    }
   ],
   "source": [
    "MNIST_121.train_autoencoder(model, train_loader, val_loader, args, epochs=15)"
   ]
  },
  {
   "cell_type": "code",
   "execution_count": 12,
   "id": "1ff363fb-0c53-4ba9-862c-5f510491a175",
   "metadata": {
    "execution": {
     "iopub.execute_input": "2025-03-10T11:25:05.461269Z",
     "iopub.status.busy": "2025-03-10T11:25:05.460747Z",
     "iopub.status.idle": "2025-03-10T11:25:05.466110Z",
     "shell.execute_reply": "2025-03-10T11:25:05.465196Z"
    }
   },
   "outputs": [],
   "source": [
    "#Verify Reconstruction"
   ]
  },
  {
   "cell_type": "code",
   "execution_count": 13,
   "id": "c5c18891-4b01-40fe-89fd-496a9b93c68a",
   "metadata": {
    "execution": {
     "iopub.execute_input": "2025-03-10T11:25:05.469504Z",
     "iopub.status.busy": "2025-03-10T11:25:05.469127Z",
     "iopub.status.idle": "2025-03-10T11:25:06.036533Z",
     "shell.execute_reply": "2025-03-10T11:25:06.035740Z"
    }
   },
   "outputs": [
    {
     "data": {
      "image/png": "[encoded data removed]",
      "text/plain": [
       "<Figure size 1200x400 with 16 Axes>"
      ]
     },
     "metadata": {},
     "output_type": "display_data"
    }
   ],
   "source": [
    "# Move images to the correct device\n",
    "images = images.to(args.device)\n",
    "\n",
    "# Pass images through the autoencoder to get reconstructions\n",
    "with torch.no_grad():\n",
    "    recon_images = model(images)\n",
    "\n",
    "# Convert to CPU for visualization\n",
    "images = images.cpu()\n",
    "recon_images = recon_images.cpu()\n",
    "\n",
    "# Create the figure\n",
    "fig, axes = plt.subplots(2, 8, figsize=(12, 4))  # Adjusted figure size\n",
    "plt.subplots_adjust(wspace=0.1, hspace=0.3)  # Less spacing\n",
    "\n",
    "# Set main title\n",
    "fig.suptitle(\"Original (Top) vs Reconstructed (Bottom)\", fontsize=14, y=1.05)\n",
    "\n",
    "for i in range(8):\n",
    "    # Original images\n",
    "    img = images[i].numpy().transpose(1, 2, 0)  # For RGB images, reorder channels\n",
    "    axes[0, i].imshow(img, cmap=\"gray\" if img.shape[2] == 1 else None)\n",
    "    axes[0, i].axis(\"off\")\n",
    "\n",
    "    # Reconstructed images\n",
    "    recon_img = recon_images[i].numpy().transpose(1, 2, 0)  # Same for recon images\n",
    "    axes[1, i].imshow(recon_img, cmap=\"gray\" if recon_img.shape[2] == 1 else None)\n",
    "    axes[1, i].axis(\"off\")\n",
    "\n",
    "plt.show()\n"
   ]
  },
  {
   "cell_type": "code",
   "execution_count": 14,
   "id": "5e70273a-2e7d-40b9-bcb7-0230c5903f13",
   "metadata": {
    "execution": {
     "iopub.execute_input": "2025-03-10T11:25:06.040026Z",
     "iopub.status.busy": "2025-03-10T11:25:06.039699Z",
     "iopub.status.idle": "2025-03-10T11:25:06.043328Z",
     "shell.execute_reply": "2025-03-10T11:25:06.042375Z"
    }
   },
   "outputs": [],
   "source": [
    "#classifier traning"
   ]
  },
  {
   "cell_type": "code",
   "execution_count": 15,
   "id": "dfbf0dfe-8e47-424a-b29f-dd469dbbf4ad",
   "metadata": {
    "execution": {
     "iopub.execute_input": "2025-03-10T11:25:06.046885Z",
     "iopub.status.busy": "2025-03-10T11:25:06.046604Z",
     "iopub.status.idle": "2025-03-10T11:29:56.226750Z",
     "shell.execute_reply": "2025-03-10T11:29:56.225246Z"
    }
   },
   "outputs": [
    {
     "name": "stdout",
     "output_type": "stream",
     "text": [
      "Epoch [1/15], Train Loss: 0.3183, Train Acc: 90.64%, Val Acc: 95.00%\n"
     ]
    },
    {
     "name": "stdout",
     "output_type": "stream",
     "text": [
      "Epoch [2/15], Train Loss: 0.1740, Train Acc: 94.78%, Val Acc: 96.29%\n"
     ]
    },
    {
     "name": "stdout",
     "output_type": "stream",
     "text": [
      "Epoch [3/15], Train Loss: 0.1450, Train Acc: 95.52%, Val Acc: 96.66%\n"
     ]
    },
    {
     "name": "stdout",
     "output_type": "stream",
     "text": [
      "Epoch [4/15], Train Loss: 0.1299, Train Acc: 95.93%, Val Acc: 96.91%\n"
     ]
    },
    {
     "name": "stdout",
     "output_type": "stream",
     "text": [
      "Epoch [5/15], Train Loss: 0.1198, Train Acc: 96.26%, Val Acc: 97.01%\n"
     ]
    },
    {
     "name": "stdout",
     "output_type": "stream",
     "text": [
      "Epoch [6/15], Train Loss: 0.1149, Train Acc: 96.37%, Val Acc: 97.04%\n"
     ]
    },
    {
     "name": "stdout",
     "output_type": "stream",
     "text": [
      "Epoch [7/15], Train Loss: 0.1094, Train Acc: 96.59%, Val Acc: 97.16%\n"
     ]
    },
    {
     "name": "stdout",
     "output_type": "stream",
     "text": [
      "Epoch [8/15], Train Loss: 0.1049, Train Acc: 96.70%, Val Acc: 97.04%\n"
     ]
    },
    {
     "name": "stdout",
     "output_type": "stream",
     "text": [
      "Epoch [9/15], Train Loss: 0.0996, Train Acc: 96.82%, Val Acc: 97.02%\n"
     ]
    },
    {
     "name": "stdout",
     "output_type": "stream",
     "text": [
      "Epoch [10/15], Train Loss: 0.0943, Train Acc: 96.89%, Val Acc: 97.16%\n"
     ]
    },
    {
     "name": "stdout",
     "output_type": "stream",
     "text": [
      "Epoch [11/15], Train Loss: 0.0960, Train Acc: 96.92%, Val Acc: 97.20%\n"
     ]
    },
    {
     "name": "stdout",
     "output_type": "stream",
     "text": [
      "Epoch [12/15], Train Loss: 0.0922, Train Acc: 96.99%, Val Acc: 97.32%\n"
     ]
    },
    {
     "name": "stdout",
     "output_type": "stream",
     "text": [
      "Epoch [13/15], Train Loss: 0.0919, Train Acc: 97.11%, Val Acc: 97.28%\n"
     ]
    },
    {
     "name": "stdout",
     "output_type": "stream",
     "text": [
      "Epoch [14/15], Train Loss: 0.0862, Train Acc: 97.21%, Val Acc: 97.22%\n"
     ]
    },
    {
     "name": "stdout",
     "output_type": "stream",
     "text": [
      "Epoch [15/15], Train Loss: 0.0870, Train Acc: 97.15%, Val Acc: 97.05%\n"
     ]
    }
   ],
   "source": [
    "classifier = MNIST_121.Classifier(args.latent_dim).to(args.device)\n",
    "MNIST_121.train_classifier(model, classifier, train_loader, val_loader, args, epochs=15)"
   ]
  },
  {
   "cell_type": "code",
   "execution_count": null,
   "id": "6b940ef0-ddc6-49da-b927-d3a547d28243",
   "metadata": {},
   "outputs": [],
   "source": []
  }
 ],
 "metadata": {
  "kernelspec": {
   "display_name": "Python 3 (ipykernel)",
   "language": "python",
   "name": "python3"
  },
  "language_info": {
   "codemirror_mode": {
    "name": "ipython",
    "version": 3
   },
   "file_extension": ".py",
   "mimetype": "text/x-python",
   "name": "python",
   "nbconvert_exporter": "python",
   "pygments_lexer": "ipython3",
   "version": "3.8.12"
  }
 },
 "nbformat": 4,
 "nbformat_minor": 5
}
